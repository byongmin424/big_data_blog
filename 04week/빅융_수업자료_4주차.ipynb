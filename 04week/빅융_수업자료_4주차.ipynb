{
  "cells": [
    {
      "cell_type": "code",
      "execution_count": 1,
      "metadata": {
        "colab": {
          "base_uri": "https://localhost:8080/"
        },
        "id": "G31__PNKc7NX",
        "outputId": "b02ec5f1-77b4-478a-b85c-d0d995c3fddf"
      },
      "outputs": [
        {
          "data": {
            "text/plain": [
              "[10, 20, 30]"
            ]
          },
          "execution_count": 1,
          "metadata": {},
          "output_type": "execute_result"
        }
      ],
      "source": [
        "var1 = [10,20,30]\n",
        "var1"
      ]
    },
    {
      "cell_type": "code",
      "execution_count": 2,
      "metadata": {
        "colab": {
          "base_uri": "https://localhost:8080/"
        },
        "id": "T73A3Xuwdbku",
        "outputId": "759847f6-bfa7-41a1-e741-7dcf3a5fabdc"
      },
      "outputs": [
        {
          "data": {
            "text/plain": [
              "[50, 20, 30]"
            ]
          },
          "execution_count": 2,
          "metadata": {},
          "output_type": "execute_result"
        }
      ],
      "source": [
        "var1[0] = 50\n",
        "var1"
      ]
    },
    {
      "cell_type": "code",
      "execution_count": 3,
      "metadata": {
        "colab": {
          "base_uri": "https://localhost:8080/"
        },
        "id": "tma5Lx9Bd6BV",
        "outputId": "6c838ee3-b858-48a2-b994-d9c5d0b7c4f6"
      },
      "outputs": [
        {
          "data": {
            "text/plain": [
              "30"
            ]
          },
          "execution_count": 3,
          "metadata": {},
          "output_type": "execute_result"
        }
      ],
      "source": [
        "var1[-1]"
      ]
    },
    {
      "cell_type": "code",
      "execution_count": 4,
      "metadata": {
        "colab": {
          "base_uri": "https://localhost:8080/"
        },
        "id": "bI6_z_qkeDSc",
        "outputId": "2e4c0fb9-6abc-4624-8832-4d5c2ecfe299"
      },
      "outputs": [
        {
          "data": {
            "text/plain": [
              "[100, 200]"
            ]
          },
          "execution_count": 4,
          "metadata": {},
          "output_type": "execute_result"
        }
      ],
      "source": [
        "var1=[100,200,300]\n",
        "#처음부터 2개만 출력\n",
        "var1[0:2]"
      ]
    },
    {
      "cell_type": "code",
      "execution_count": null,
      "metadata": {
        "id": "FgN6tYuge68u"
      },
      "outputs": [],
      "source": [
        "#두번쨰부터 마지막까지\n",
        "var1[1:]"
      ]
    },
    {
      "cell_type": "code",
      "execution_count": 7,
      "metadata": {
        "colab": {
          "base_uri": "https://localhost:8080/",
          "height": 35
        },
        "id": "P1pTw8vsfK0k",
        "outputId": "01a9be69-4164-45ec-a3da-cf094ebc941b"
      },
      "outputs": [
        {
          "data": {
            "application/vnd.google.colaboratory.intrinsic+json": {
              "type": "string"
            },
            "text/plain": [
              "'sonny'"
            ]
          },
          "execution_count": 7,
          "metadata": {},
          "output_type": "execute_result"
        }
      ],
      "source": [
        "var1=\"nice sonny\"\n",
        "#sonny만 출력\n",
        "#var1[5:]\n",
        "var1[-5:]"
      ]
    },
    {
      "cell_type": "code",
      "execution_count": 8,
      "metadata": {
        "colab": {
          "base_uri": "https://localhost:8080/"
        },
        "id": "KUXXqZcugAKt",
        "outputId": "b4e31b40-6123-4770-9d89-4bb109e4005d"
      },
      "outputs": [
        {
          "data": {
            "text/plain": [
              "True"
            ]
          },
          "execution_count": 8,
          "metadata": {},
          "output_type": "execute_result"
        }
      ],
      "source": [
        "#리스트 타입 원소 확인 (in)\n",
        "1 in [1,2,3,4,5]"
      ]
    },
    {
      "cell_type": "code",
      "execution_count": 9,
      "metadata": {
        "colab": {
          "base_uri": "https://localhost:8080/"
        },
        "id": "zypVaZ_igTN1",
        "outputId": "925e2e16-9ab9-4558-baa3-900d1c64d704"
      },
      "outputs": [
        {
          "data": {
            "text/plain": [
              "5"
            ]
          },
          "execution_count": 9,
          "metadata": {},
          "output_type": "execute_result"
        }
      ],
      "source": [
        "#리스트 타입내 내장 함수(len, )\n",
        "\n",
        "var1=[10,20,30,40,50]\n",
        "\n",
        "len(var1)"
      ]
    },
    {
      "cell_type": "code",
      "execution_count": 10,
      "metadata": {
        "colab": {
          "base_uri": "https://localhost:8080/"
        },
        "id": "WcKX6YR6hWRr",
        "outputId": "91df21e6-be8c-486b-8c93-ca69d4086cd9"
      },
      "outputs": [
        {
          "data": {
            "text/plain": [
              "[10, 20, 30, 40, 50, 100]"
            ]
          },
          "execution_count": 10,
          "metadata": {},
          "output_type": "execute_result"
        }
      ],
      "source": [
        "#데이터 추가\n",
        "var1.append(100)\n",
        "var1"
      ]
    },
    {
      "cell_type": "code",
      "execution_count": 11,
      "metadata": {
        "colab": {
          "base_uri": "https://localhost:8080/"
        },
        "id": "uC_Wi3ZXh-ak",
        "outputId": "7aea851b-11ab-4306-aa47-41a411416476"
      },
      "outputs": [
        {
          "data": {
            "text/plain": [
              "250"
            ]
          },
          "execution_count": 11,
          "metadata": {},
          "output_type": "execute_result"
        }
      ],
      "source": [
        "#데이터 합\n",
        "sum(var1)"
      ]
    },
    {
      "cell_type": "code",
      "execution_count": 12,
      "metadata": {
        "colab": {
          "base_uri": "https://localhost:8080/"
        },
        "id": "rl2Kg8S3iMDb",
        "outputId": "fea3d4a5-3d3f-44f0-e05c-1d5fe8b10fd1"
      },
      "outputs": [
        {
          "data": {
            "text/plain": [
              "[10, 20, 30, 40, 50]"
            ]
          },
          "execution_count": 12,
          "metadata": {},
          "output_type": "execute_result"
        }
      ],
      "source": [
        "var1=[50,10,20,40,30]\n",
        "\n",
        "var1.sort()\n",
        "var1"
      ]
    },
    {
      "cell_type": "code",
      "execution_count": 13,
      "metadata": {
        "colab": {
          "base_uri": "https://localhost:8080/"
        },
        "id": "ZsO-lyEQmuhi",
        "outputId": "7eb21055-bf1a-4a59-a49e-b99df6ebec79"
      },
      "outputs": [
        {
          "data": {
            "text/plain": [
              "{}"
            ]
          },
          "execution_count": 13,
          "metadata": {},
          "output_type": "execute_result"
        }
      ],
      "source": [
        "dict ={}\n",
        "dict"
      ]
    },
    {
      "cell_type": "code",
      "execution_count": 14,
      "metadata": {
        "colab": {
          "base_uri": "https://localhost:8080/"
        },
        "id": "P0hIyCKFm-eK",
        "outputId": "fdf358ba-7386-4c54-a093-e59d12ccd200"
      },
      "outputs": [
        {
          "data": {
            "text/plain": [
              "{'name': 'sonny', 'age': 32, 'no': 7}"
            ]
          },
          "execution_count": 14,
          "metadata": {},
          "output_type": "execute_result"
        }
      ],
      "source": [
        "player ={\"name\":\"sonny\",\"age\":32, \"no\":7 }\n",
        "player"
      ]
    },
    {
      "cell_type": "code",
      "execution_count": 15,
      "metadata": {
        "colab": {
          "base_uri": "https://localhost:8080/"
        },
        "id": "f7r9yMVFoA_J",
        "outputId": "dd58a8e3-3513-4d05-df96-4591f06e28eb"
      },
      "outputs": [
        {
          "data": {
            "text/plain": [
              "{'name': 'sonny', 'age': 32, 'no': 7, 'team': 'tot'}"
            ]
          },
          "execution_count": 15,
          "metadata": {},
          "output_type": "execute_result"
        }
      ],
      "source": [
        "#키 값 추가\n",
        "player[\"team\"] =\"tot\"\n",
        "player"
      ]
    },
    {
      "cell_type": "code",
      "execution_count": 16,
      "metadata": {
        "colab": {
          "base_uri": "https://localhost:8080/"
        },
        "id": "xdBbMgF0obwR",
        "outputId": "2b338ed9-3fd8-4481-d5d8-08be15ebe8d8"
      },
      "outputs": [
        {
          "data": {
            "text/plain": [
              "7"
            ]
          },
          "execution_count": 16,
          "metadata": {},
          "output_type": "execute_result"
        }
      ],
      "source": [
        "#특정 키의 값을 보고 싶을때\n",
        "player[\"no\"]"
      ]
    },
    {
      "cell_type": "code",
      "execution_count": 17,
      "metadata": {
        "colab": {
          "base_uri": "https://localhost:8080/"
        },
        "id": "fngEjCqfooq5",
        "outputId": "9c3edeb9-2934-4c98-cac2-8360ea5814d5"
      },
      "outputs": [
        {
          "data": {
            "text/plain": [
              "dict_keys(['name', 'age', 'no', 'team'])"
            ]
          },
          "execution_count": 17,
          "metadata": {},
          "output_type": "execute_result"
        }
      ],
      "source": [
        "#dict 타입에서 key값만 출력\n",
        "player.keys()"
      ]
    },
    {
      "cell_type": "code",
      "execution_count": 19,
      "metadata": {
        "colab": {
          "base_uri": "https://localhost:8080/"
        },
        "id": "roez_sBJo-AR",
        "outputId": "d41ba0a8-3a1c-4618-a954-1f4678206ccd"
      },
      "outputs": [
        {
          "data": {
            "text/plain": [
              "['sonny', 32, 7, 'tot']"
            ]
          },
          "execution_count": 19,
          "metadata": {},
          "output_type": "execute_result"
        }
      ],
      "source": [
        "#리스트 타입으로 변환 list()\n",
        "list(player.values())"
      ]
    },
    {
      "cell_type": "code",
      "execution_count": 1,
      "metadata": {
        "colab": {
          "base_uri": "https://localhost:8080/"
        },
        "id": "zGmgGrKuuJ0W",
        "outputId": "e2c263e7-064f-489a-f7d5-2ea1f5c88c95"
      },
      "outputs": [
        {
          "name": "stdout",
          "output_type": "stream",
          "text": [
            "0\n",
            "2\n",
            "4\n",
            "6\n",
            "8\n"
          ]
        }
      ],
      "source": [
        "#for x in range(0,10,2):\n",
        "for x in [0,2,4,6,8]:\n",
        "  print(x)"
      ]
    },
    {
      "cell_type": "markdown",
      "metadata": {
        "id": "S0BATqB2vLdH"
      },
      "source": []
    },
    {
      "cell_type": "code",
      "execution_count": 21,
      "metadata": {
        "colab": {
          "base_uri": "https://localhost:8080/"
        },
        "id": "FFdAJJ-zvHIW",
        "outputId": "138e75cc-7e2e-4b28-9476-b370a3364152"
      },
      "outputs": [
        {
          "name": "stdout",
          "output_type": "stream",
          "text": [
            "0\n",
            "4\n",
            "8\n"
          ]
        }
      ],
      "source": [
        "#range함수를 사용하여 4의 배수 출력 (0~10)\n",
        "for x in range(0,10,4):\n",
        "  print(x)"
      ]
    }
  ],
  "metadata": {
    "colab": {
      "provenance": []
    },
    "kernelspec": {
      "display_name": "Python 3",
      "name": "python3"
    },
    "language_info": {
      "codemirror_mode": {
        "name": "ipython",
        "version": 3
      },
      "file_extension": ".py",
      "mimetype": "text/x-python",
      "name": "python",
      "nbconvert_exporter": "python",
      "pygments_lexer": "ipython3",
      "version": "3.12.4"
    }
  },
  "nbformat": 4,
  "nbformat_minor": 0
}
