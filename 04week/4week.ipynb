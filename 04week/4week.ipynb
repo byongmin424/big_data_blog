{
 "cells": [
  {
   "cell_type": "markdown",
   "metadata": {},
   "source": [
    "# 복합 데이터형\n",
    "\n",
    "    여러 자료를 한 번에 저장 가능\n",
    "    변수에 저장한 자료를 어떻게 사용할 것인지에 따라 사용\n",
    "\n",
    "(리스트, 튜플, 집합, 딕셔너리 구분하자)_2주차_데이터타입.pdf_3page\n",
    "\n",
    "슬라이싱이란?_2주차_데이터타입.pdf_6page"
   ]
  },
  {
   "cell_type": "markdown",
   "metadata": {},
   "source": [
    "## 리스트 타입\n",
    "\n",
    "    다양한 값을 연속적으로 저장 가능\n",
    "    변수 하나에 원소 여러 개 저장 가능\n",
    "    원소 변경 가능\n",
    "    정수형, 실수형, 문자형, 숫자형을 저장할 수 있고, 리스트 하나에 문자, 숫자, 실수형 자료를 모두 저장 가능\n",
    "    + 연산자 사용하여 두 리스트 결합 가능\n",
    "    리스트 내부의 값 변경 가능"
   ]
  },
  {
   "cell_type": "code",
   "execution_count": 1,
   "metadata": {},
   "outputs": [
    {
     "data": {
      "text/plain": [
       "[10, 20, 30]"
      ]
     },
     "execution_count": 1,
     "metadata": {},
     "output_type": "execute_result"
    }
   ],
   "source": [
    "var1 = [10, 20, 30]\n",
    "\n",
    "var1"
   ]
  },
  {
   "cell_type": "code",
   "execution_count": 2,
   "metadata": {},
   "outputs": [
    {
     "data": {
      "text/plain": [
       "[50, 20, 30]"
      ]
     },
     "execution_count": 2,
     "metadata": {},
     "output_type": "execute_result"
    }
   ],
   "source": [
    "var1[0] = 50\n",
    "\n",
    "var1"
   ]
  },
  {
   "cell_type": "code",
   "execution_count": 3,
   "metadata": {},
   "outputs": [
    {
     "data": {
      "text/plain": [
       "[100, 200]"
      ]
     },
     "execution_count": 3,
     "metadata": {},
     "output_type": "execute_result"
    }
   ],
   "source": [
    "# 슬라이싱 : 범위를 지정할 수 있다.\n",
    "\n",
    "var1 = [100, 200, 300]\n",
    "# 처음부터 2개만 출력\n",
    "var1[:2]"
   ]
  },
  {
   "cell_type": "code",
   "execution_count": 4,
   "metadata": {},
   "outputs": [
    {
     "data": {
      "text/plain": [
       "[200, 300]"
      ]
     },
     "execution_count": 4,
     "metadata": {},
     "output_type": "execute_result"
    }
   ],
   "source": [
    "# 2번째부터 마지막까지\n",
    "var1[1:]"
   ]
  },
  {
   "cell_type": "code",
   "execution_count": 5,
   "metadata": {},
   "outputs": [
    {
     "data": {
      "text/plain": [
       "'sonny'"
      ]
     },
     "execution_count": 5,
     "metadata": {},
     "output_type": "execute_result"
    }
   ],
   "source": [
    "var1 = 'nice sonny'\n",
    "\n",
    "# sonny만 출력\n",
    "var1[5:]"
   ]
  },
  {
   "cell_type": "code",
   "execution_count": 6,
   "metadata": {},
   "outputs": [
    {
     "data": {
      "text/plain": [
       "True"
      ]
     },
     "execution_count": 6,
     "metadata": {},
     "output_type": "execute_result"
    }
   ],
   "source": [
    "# 리스트 타입 원소 확인 (in)\n",
    "1 in [1,2,3,4,5]"
   ]
  },
  {
   "cell_type": "code",
   "execution_count": 7,
   "metadata": {},
   "outputs": [
    {
     "data": {
      "text/plain": [
       "5"
      ]
     },
     "execution_count": 7,
     "metadata": {},
     "output_type": "execute_result"
    }
   ],
   "source": [
    "# 리스트 타입 내 내장 함수 (len_어엄청 많이 사용한다.)\n",
    "\n",
    "var1 = [10, 20, 30, 40, 50]\n",
    "\n",
    "len(var1) # var 1 리스트 내에 data가 몇개 있어요? _ 전처리 할 때, 굉장히 많이 사용"
   ]
  },
  {
   "cell_type": "code",
   "execution_count": 8,
   "metadata": {},
   "outputs": [
    {
     "data": {
      "text/plain": [
       "[10, 20, 30, 40, 50, 100]"
      ]
     },
     "execution_count": 8,
     "metadata": {},
     "output_type": "execute_result"
    }
   ],
   "source": [
    "# 데이터 추가 (append)\n",
    "\n",
    "var1.append(100)\n",
    "\n",
    "var1"
   ]
  },
  {
   "cell_type": "code",
   "execution_count": 9,
   "metadata": {},
   "outputs": [
    {
     "data": {
      "text/plain": [
       "[10, 20, 30, 40, 50]"
      ]
     },
     "execution_count": 9,
     "metadata": {},
     "output_type": "execute_result"
    }
   ],
   "source": [
    "# 데이터 정렬\n",
    "\n",
    "var1 = [50, 10, 20, 40, 30]\n",
    "\n",
    "var1.sort()\n",
    "\n",
    "var1\n",
    "# 지금까지 [리스트 타입]의 활용을 알아보았다. '전처리' 하는 것에서 중요."
   ]
  },
  {
   "cell_type": "markdown",
   "metadata": {},
   "source": [
    "## 딕셔너리 타입\n",
    "\n",
    "    {key1:value1, key2:value2, ...} 형태로 원소를 직접 추가\n",
    "    키는 변경할 수 없어야 하고, 고유값으로 표현할 수 있어야 함\n",
    "    다양한 데이터형을 키로 사용 가능(튜플이나 문자형 등)\n",
    "    \n",
    "    모든 값 출력하기 : key 함수\n",
    "    모든 값 출력하기 : value 함수"
   ]
  },
  {
   "cell_type": "code",
   "execution_count": 10,
   "metadata": {},
   "outputs": [
    {
     "data": {
      "text/plain": [
       "{}"
      ]
     },
     "execution_count": 10,
     "metadata": {},
     "output_type": "execute_result"
    }
   ],
   "source": [
    "dict = {} # 초기화\n",
    "\n",
    "dict"
   ]
  },
  {
   "cell_type": "code",
   "execution_count": 11,
   "metadata": {},
   "outputs": [
    {
     "data": {
      "text/plain": [
       "{'name': 'sonny', 'age': 32, 'no': 7}"
      ]
     },
     "execution_count": 11,
     "metadata": {},
     "output_type": "execute_result"
    }
   ],
   "source": [
    "player = {'name': 'sonny', 'age': 32, 'no': 7}\n",
    "\n",
    "player"
   ]
  },
  {
   "cell_type": "code",
   "execution_count": 12,
   "metadata": {},
   "outputs": [
    {
     "data": {
      "text/plain": [
       "{'name': 'sonny', 'age': 32, 'no': 7, 'team': 'tot'}"
      ]
     },
     "execution_count": 12,
     "metadata": {},
     "output_type": "execute_result"
    }
   ],
   "source": [
    "# 키 값 추가\n",
    "player['team'] = 'tot'\n",
    "\n",
    "player"
   ]
  },
  {
   "cell_type": "code",
   "execution_count": 13,
   "metadata": {},
   "outputs": [
    {
     "data": {
      "text/plain": [
       "7"
      ]
     },
     "execution_count": 13,
     "metadata": {},
     "output_type": "execute_result"
    }
   ],
   "source": [
    "# 특정 키 값 데이터만 출력\n",
    "player['no']"
   ]
  },
  {
   "cell_type": "code",
   "execution_count": 14,
   "metadata": {},
   "outputs": [
    {
     "data": {
      "text/plain": [
       "dict_keys(['name', 'age', 'no', 'team'])"
      ]
     },
     "execution_count": 14,
     "metadata": {},
     "output_type": "execute_result"
    }
   ],
   "source": [
    "# dict 타입에서 키 값만 출력\n",
    "player.keys()"
   ]
  },
  {
   "cell_type": "code",
   "execution_count": 15,
   "metadata": {},
   "outputs": [
    {
     "data": {
      "text/plain": [
       "dict_values(['sonny', 32, 7, 'tot'])"
      ]
     },
     "execution_count": 15,
     "metadata": {},
     "output_type": "execute_result"
    }
   ],
   "source": [
    "# dict 타입에서 데이터만 출력\n",
    "player.values()"
   ]
  },
  {
   "cell_type": "code",
   "execution_count": 16,
   "metadata": {},
   "outputs": [
    {
     "data": {
      "text/plain": [
       "['sonny', 32, 7, 'tot']"
      ]
     },
     "execution_count": 16,
     "metadata": {},
     "output_type": "execute_result"
    }
   ],
   "source": [
    "# 리스트 타입으로 변환 list()\n",
    "list(player.values())\n",
    "\n",
    "# 굳이 리스트 타입으로 바꾸는 이유? -> '전처리, 연산' 하기위한 해내들링이 쉬워지기 때문"
   ]
  },
  {
   "cell_type": "markdown",
   "metadata": {},
   "source": [
    "## 튜플\n",
    "\n",
    "    소괄호를 사용하여정의_()\n",
    "    기호 없이 사용 가능하지만, 쉼표로 값 구분\n",
    "    읽기만 가능\n",
    "    변경 불가하여 불변객체 라고 함\n",
    "    삭제나 변경 불가능하지만 리스트처럼 인덱싱과 슬라이싱 가능"
   ]
  },
  {
   "cell_type": "markdown",
   "metadata": {},
   "source": [
    "## 조건문_if\n",
    "    if~elif~else\n",
    "    반드시 '들여쓰기(indent) 해줘야 함\n",
    "\n",
    "## 반복문_for, while\n",
    "    for x in range(시작값, 종료값+1, 증가값):\n",
    "        # 이 부분의 처리의 처리문을 반복 실행\n",
    "\n",
    "## 함수_def\n",
    "    def__ labda, sorted"
   ]
  },
  {
   "cell_type": "code",
   "execution_count": 17,
   "metadata": {},
   "outputs": [
    {
     "name": "stdout",
     "output_type": "stream",
     "text": [
      "0 는(은) 4의 배수로 10보다 작다.\n",
      "4 는(은) 4의 배수로 10보다 작다.\n",
      "8 는(은) 4의 배수로 10보다 작다.\n"
     ]
    }
   ],
   "source": [
    "for x in range(0,10,4):\n",
    "    print(x,'는(은) 4의 배수로 10보다 작다.')"
   ]
  },
  {
   "cell_type": "code",
   "execution_count": 18,
   "metadata": {},
   "outputs": [
    {
     "name": "stdout",
     "output_type": "stream",
     "text": [
      "nice sonny\n",
      "nice sonny\n",
      "nice sonny\n",
      "nice sonny\n",
      "nice sonny\n",
      "nice sonny\n",
      "nice sonny\n",
      "nice sonny\n",
      "nice sonny\n",
      "nice sonny\n"
     ]
    }
   ],
   "source": [
    "for x in range(0,10):\n",
    "    print('nice sonny')"
   ]
  },
  {
   "cell_type": "code",
   "execution_count": 19,
   "metadata": {},
   "outputs": [
    {
     "name": "stdout",
     "output_type": "stream",
     "text": [
      "0\n",
      "1\n",
      "2\n",
      "3\n",
      "4\n",
      "5\n",
      "6\n",
      "7\n",
      "8\n",
      "9\n"
     ]
    }
   ],
   "source": [
    "for x in range(0,10):\n",
    "    print(x)"
   ]
  },
  {
   "cell_type": "code",
   "execution_count": 21,
   "metadata": {},
   "outputs": [
    {
     "name": "stdout",
     "output_type": "stream",
     "text": [
      "0\n",
      "2\n",
      "4\n",
      "6\n",
      "8\n"
     ]
    }
   ],
   "source": [
    "for x in range(0,10,2): # range는 리스트 타입의 데이터를 생성해준다.\n",
    "    print(x)\n",
    "\n",
    "# for x in range[0,2,4,6,8]:\n",
    "    # print(x)\n",
    "# 와 같은 코드"
   ]
  },
  {
   "cell_type": "code",
   "execution_count": 22,
   "metadata": {},
   "outputs": [
    {
     "name": "stdout",
     "output_type": "stream",
     "text": [
      "0\n",
      "4\n",
      "8\n"
     ]
    }
   ],
   "source": [
    "# range 함수를 사용하여 4의 배수 출력(0~10)\n",
    "for x in range(0,10,4):\n",
    "    print(x)"
   ]
  }
 ],
 "metadata": {
  "kernelspec": {
   "display_name": "base",
   "language": "python",
   "name": "python3"
  },
  "language_info": {
   "codemirror_mode": {
    "name": "ipython",
    "version": 3
   },
   "file_extension": ".py",
   "mimetype": "text/x-python",
   "name": "python",
   "nbconvert_exporter": "python",
   "pygments_lexer": "ipython3",
   "version": "3.12.4"
  }
 },
 "nbformat": 4,
 "nbformat_minor": 2
}
