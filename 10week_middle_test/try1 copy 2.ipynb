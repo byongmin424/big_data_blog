{
 "cells": [
  {
   "cell_type": "markdown",
   "metadata": {},
   "source": [
    "# 2week"
   ]
  },
  {
   "cell_type": "markdown",
   "metadata": {},
   "source": [
    "### 변수이름 설정을 잘못하면 오류난다."
   ]
  },
  {
   "cell_type": "code",
   "execution_count": null,
   "metadata": {},
   "outputs": [
    {
     "ename": "SyntaxError",
     "evalue": "invalid syntax (556240040.py, line 3)",
     "output_type": "error",
     "traceback": [
      "\u001b[1;36m  Cell \u001b[1;32mIn[1], line 3\u001b[1;36m\u001b[0m\n",
      "\u001b[1;33m    def = 5\u001b[0m\n",
      "\u001b[1;37m        ^\u001b[0m\n",
      "\u001b[1;31mSyntaxError\u001b[0m\u001b[1;31m:\u001b[0m invalid syntax\n"
     ]
    }
   ],
   "source": [
    "def = 5\n",
    "print(def)"
   ]
  },
  {
   "cell_type": "markdown",
   "metadata": {},
   "source": [
    "### 하나의 변수에 값 할당"
   ]
  },
  {
   "cell_type": "code",
   "execution_count": 1,
   "metadata": {},
   "outputs": [
    {
     "data": {
      "text/plain": [
       "85000"
      ]
     },
     "execution_count": 1,
     "metadata": {},
     "output_type": "execute_result"
    }
   ],
   "source": [
    "stock_price=85000\n",
    "stock_price"
   ]
  },
  {
   "cell_type": "markdown",
   "metadata": {},
   "source": [
    "### 동시에 여러 변수에 값 할당"
   ]
  },
  {
   "cell_type": "code",
   "execution_count": 6,
   "metadata": {},
   "outputs": [
    {
     "name": "stdout",
     "output_type": "stream",
     "text": [
      "ss: 80000\n"
     ]
    }
   ],
   "source": [
    "ss, lg, sk=80000, 140000, 200000\n",
    "print(\"ss:\",ss)"
   ]
  },
  {
   "cell_type": "markdown",
   "metadata": {},
   "source": [
    "### 숫자형과 문자형의 기본사용"
   ]
  },
  {
   "cell_type": "code",
   "execution_count": 7,
   "metadata": {},
   "outputs": [
    {
     "data": {
      "text/plain": [
       "1000000"
      ]
     },
     "execution_count": 7,
     "metadata": {},
     "output_type": "execute_result"
    }
   ],
   "source": [
    "# 숫자형과 문자형의 기본 사용\n",
    "amount = 1000000\n",
    "amount"
   ]
  },
  {
   "cell_type": "code",
   "execution_count": 10,
   "metadata": {},
   "outputs": [
    {
     "name": "stdout",
     "output_type": "stream",
     "text": [
      "85000\n"
     ]
    }
   ],
   "source": [
    "stock_price=\"85000\"\n",
    "print(stock_price)"
   ]
  },
  {
   "cell_type": "markdown",
   "metadata": {},
   "source": [
    "### '' 과 \"\" 를 사용하여 여러 줄에 걸친 문자열을 정희할 수 있다."
   ]
  },
  {
   "cell_type": "code",
   "execution_count": 13,
   "metadata": {},
   "outputs": [
    {
     "name": "stdout",
     "output_type": "stream",
     "text": [
      "사느냐, 죽느냐? 그것이 문제다.\n",
      " 어떤 것이 더 고귀한 것일까?\n",
      " Whether 'tis nobler in the mind to suffer\n",
      "the slings and arrows of outrageous fortune,\n",
      "가혹한 운명의 돌팔매와 화살을 견디는 것이 더 고귀한 것일까?\n",
      " Or to take arms against a sea of troubles,\n",
      "And, by opposing, end them?\n",
      "아니면 고통의 바다에 맞서\n",
      "무기를 들고 싸워 그 고통을 끝내는 것이 더 고귀한 것일까?\n"
     ]
    }
   ],
   "source": [
    "string1=\"사느냐, 죽느냐? 그것이 문제다.\\n\"\n",
    "string2='어떤 것이 더 고귀한 것일까?\\n'\n",
    "string3= \"\"\"Whether 'tis nobler in the mind to suffer\n",
    "the slings and arrows of outrageous fortune,\n",
    "가혹한 운명의 돌팔매와 화살을 견디는 것이 더 고귀한 것일까?\\n\"\"\"\n",
    "string4='''Or to take arms against a sea of troubles,\n",
    "And, by opposing, end them?\n",
    "아니면 고통의 바다에 맞서\n",
    "무기를 들고 싸워 그 고통을 끝내는 것이 더 고귀한 것일까?'''\n",
    "print(string1, string2, string3, string4)"
   ]
  },
  {
   "cell_type": "markdown",
   "metadata": {},
   "source": [
    "### 데이터형의 확인"
   ]
  },
  {
   "cell_type": "code",
   "execution_count": 16,
   "metadata": {},
   "outputs": [
    {
     "name": "stdout",
     "output_type": "stream",
     "text": [
      "85000 <class 'int'>\n",
      "128.5 <class 'float'>\n"
     ]
    }
   ],
   "source": [
    "stock_price=85000\n",
    "apple_stock_price=128.5\n",
    "print(stock_price, type(stock_price))\n",
    "print(apple_stock_price, type(apple_stock_price))"
   ]
  },
  {
   "cell_type": "markdown",
   "metadata": {},
   "source": [
    "## 4. 숫자형 연산"
   ]
  },
  {
   "cell_type": "code",
   "execution_count": 17,
   "metadata": {},
   "outputs": [
    {
     "name": "stdout",
     "output_type": "stream",
     "text": [
      "850000 <class 'int'>\n",
      "8500.0 <class 'float'>\n"
     ]
    }
   ],
   "source": [
    "stock_price=85000\n",
    "quantity=10\n",
    "amount= stock_price*quantity\n",
    "fee_rate= 0.01\n",
    "total_fee=amount*fee_rate\n",
    "print(amount, type(amount))\n",
    "print(total_fee, type(total_fee))"
   ]
  },
  {
   "cell_type": "code",
   "execution_count": 18,
   "metadata": {},
   "outputs": [
    {
     "name": "stdout",
     "output_type": "stream",
     "text": [
      "3 -1 2 0.5\n",
      "9 1.4142135623730951\n",
      "2.5 2 1\n"
     ]
    }
   ],
   "source": [
    "a=1\n",
    "b=2\n",
    "c,d,e=3,4,5\n",
    "print(a+b,a-b,a*b,a/b)\n",
    "print(c**b,b**0.5)\n",
    "print(e/b,e//b,e%b) # // : 몫, % : 나머지"
   ]
  },
  {
   "cell_type": "markdown",
   "metadata": {},
   "source": [
    "## 5. 숫자형 포매팅"
   ]
  },
  {
   "cell_type": "code",
   "execution_count": 23,
   "metadata": {},
   "outputs": [
    {
     "name": "stdout",
     "output_type": "stream",
     "text": [
      "c+d는 e=c+d=7\n"
     ]
    }
   ],
   "source": [
    "c,d =3,4\n",
    "e=c+d\n",
    "# {0:d}는 문자열 포맷 코드입니다. 여기서 0은 인덱스를 나타내며, d는 정수 형식으로 출력하라는 의미입니다. 즉, 이 부분은 첫 번째 인자를 정수로 출력하라는 의미입니다.\n",
    "print(\"c+d는 e=c+d={0:d}\".format(e))"
   ]
  },
  {
   "cell_type": "code",
   "execution_count": 25,
   "metadata": {},
   "outputs": [
    {
     "name": "stdout",
     "output_type": "stream",
     "text": [
      "사칙연산 결과: 3,-1,0.5,2\n",
      "c의 e 제곱과 b제곱근 결과는: 243, 1.41\n"
     ]
    }
   ],
   "source": [
    "a=1\n",
    "b=2\n",
    "c,d,e=3,4,5\n",
    "# {0}, {1}, {2}, {3}\" 부분은 출력할 문자열을 정의\n",
    "print(\"사칙연산 결과: {0},{1},{3},{2}\".format(a+b,a-b,a*b,a/b))\n",
    "# {0:d}는 정수 형식으로 출력하라는 의미이고, {1:.2f}는 소수점 아래 둘째자리까지 표시\n",
    "print(\"c의 e 제곱과 b제곱근 결과는: {0:d}, {1:.2f}\".format(c**e,b**0.5))"
   ]
  },
  {
   "cell_type": "markdown",
   "metadata": {},
   "source": [
    "## 6. 문자열 연산"
   ]
  },
  {
   "cell_type": "markdown",
   "metadata": {},
   "source": [
    "### 문자열 연결"
   ]
  },
  {
   "cell_type": "code",
   "execution_count": 67,
   "metadata": {},
   "outputs": [
    {
     "name": "stdout",
     "output_type": "stream",
     "text": [
      "**************************************************\n",
      "Samsung 85,000 Samsung 85,000 Samsung 85,000 \n"
     ]
    }
   ],
   "source": [
    "company_name=\"Samsung\"\n",
    "price=\"85,000\"\n",
    "stock_price=company_name + \" \" + price + \" \"\n",
    "print(\"*\"*50)\n",
    "print(stock_price*3)"
   ]
  },
  {
   "cell_type": "markdown",
   "metadata": {},
   "source": [
    "### 문자열 인덱싱"
   ]
  },
  {
   "cell_type": "code",
   "execution_count": 68,
   "metadata": {},
   "outputs": [
    {
     "name": "stdout",
     "output_type": "stream",
     "text": [
      "hello python\n",
      "h n e\n"
     ]
    }
   ],
   "source": [
    "variable='hello python'\n",
    "print(variable)\n",
    "print(variable[0],variable[-1],variable[1])"
   ]
  },
  {
   "cell_type": "markdown",
   "metadata": {},
   "source": [
    "### 문자열 슬라이싱"
   ]
  },
  {
   "cell_type": "code",
   "execution_count": 71,
   "metadata": {},
   "outputs": [
    {
     "name": "stdout",
     "output_type": "stream",
     "text": [
      "41\n",
      "not\n"
     ]
    }
   ],
   "source": [
    "single_string='To be, or not to be, taht is the qeustion'\n",
    "print(len(single_string))\n",
    "print(single_string[10:13])"
   ]
  },
  {
   "cell_type": "markdown",
   "metadata": {},
   "source": [
    "## 7. 문자열 포매팅\n",
    "\n",
    "### 서식 문자를 이용한 포매팅"
   ]
  },
  {
   "cell_type": "code",
   "execution_count": 73,
   "metadata": {},
   "outputs": [
    {
     "data": {
      "text/plain": [
       "'i have 5 stocks.'"
      ]
     },
     "execution_count": 73,
     "metadata": {},
     "output_type": "execute_result"
    }
   ],
   "source": [
    "quantity=5\n",
    "\"i have %d stocks.\" %quantity"
   ]
  },
  {
   "cell_type": "code",
   "execution_count": 74,
   "metadata": {},
   "outputs": [
    {
     "data": {
      "text/plain": [
       "'I have Samsung stocks.'"
      ]
     },
     "execution_count": 74,
     "metadata": {},
     "output_type": "execute_result"
    }
   ],
   "source": [
    "company_name = \"Samsung\"\n",
    "\"I have %s stocks.\" % company_name"
   ]
  },
  {
   "cell_type": "code",
   "execution_count": 75,
   "metadata": {},
   "outputs": [
    {
     "data": {
      "text/plain": [
       "'I have 5 Samsung stocks.'"
      ]
     },
     "execution_count": 75,
     "metadata": {},
     "output_type": "execute_result"
    }
   ],
   "source": [
    "company_name = \"Samsung\"\n",
    "quantity=5\n",
    "\"I have %d %s stocks.\" %(quantity,company_name)"
   ]
  },
  {
   "cell_type": "markdown",
   "metadata": {},
   "source": [
    "### format 함수를 이용한 포매팅"
   ]
  },
  {
   "cell_type": "code",
   "execution_count": 76,
   "metadata": {},
   "outputs": [
    {
     "data": {
      "text/plain": [
       "'Samsung 85,000'"
      ]
     },
     "execution_count": 76,
     "metadata": {},
     "output_type": "execute_result"
    }
   ],
   "source": [
    "stock_price=\"{0} {1}\".format(company_name,price)\n",
    "stock_price"
   ]
  },
  {
   "cell_type": "code",
   "execution_count": 78,
   "metadata": {},
   "outputs": [
    {
     "data": {
      "text/plain": [
       "'Samsung 50000'"
      ]
     },
     "execution_count": 78,
     "metadata": {},
     "output_type": "execute_result"
    }
   ],
   "source": [
    "stock_price=\"{0} {price}\".format(company_name,price=50000)\n",
    "stock_price"
   ]
  },
  {
   "cell_type": "markdown",
   "metadata": {},
   "source": [
    "### f 문자열 포매팅"
   ]
  },
  {
   "cell_type": "code",
   "execution_count": 80,
   "metadata": {},
   "outputs": [
    {
     "data": {
      "text/plain": [
       "'Samsung 85,000'"
      ]
     },
     "execution_count": 80,
     "metadata": {},
     "output_type": "execute_result"
    }
   ],
   "source": [
    "company_name=\"Samsung\"\n",
    "price=\"85,000\"\n",
    "stock_price=f\"{company_name} {price}\"\n",
    "stock_price"
   ]
  },
  {
   "cell_type": "code",
   "execution_count": 88,
   "metadata": {},
   "outputs": [
    {
     "name": "stdout",
     "output_type": "stream",
     "text": [
      "Samsung\n",
      "85,000\n",
      "100,000\n",
      "\n"
     ]
    },
    {
     "data": {
      "text/plain": [
       "'Samsung\\n85,000\\n100,000\\n'"
      ]
     },
     "execution_count": 88,
     "metadata": {},
     "output_type": "execute_result"
    }
   ],
   "source": [
    "new_price=\"100,000\"\n",
    "stock_price=f\"\"\"{company_name}\n",
    "{price}\n",
    "{new_price}\n",
    "\"\"\"\n",
    "print(stock_price)\n",
    "stock_price\n"
   ]
  },
  {
   "cell_type": "markdown",
   "metadata": {},
   "source": [
    "## 8. 문자열 내장 함수\n",
    "\n",
    "### 문자 개수 세기: count 함수"
   ]
  },
  {
   "cell_type": "code",
   "execution_count": 92,
   "metadata": {},
   "outputs": [
    {
     "data": {
      "text/plain": [
       "6"
      ]
     },
     "execution_count": 92,
     "metadata": {},
     "output_type": "execute_result"
    }
   ],
   "source": [
    "single_string=\"To be, or not to be, that is the question\"\n",
    "single_string.count(\"t\")"
   ]
  },
  {
   "cell_type": "markdown",
   "metadata": {},
   "source": [
    "### 문자 위치 찾기: find 함수"
   ]
  },
  {
   "cell_type": "code",
   "execution_count": 90,
   "metadata": {},
   "outputs": [
    {
     "data": {
      "text/plain": [
       "12"
      ]
     },
     "execution_count": 90,
     "metadata": {},
     "output_type": "execute_result"
    }
   ],
   "source": [
    "single_string.find('t')"
   ]
  },
  {
   "cell_type": "markdown",
   "metadata": {},
   "source": [
    "### 첫 글자만 대문자로 바꾸기: capitalize 함수"
   ]
  },
  {
   "cell_type": "code",
   "execution_count": 93,
   "metadata": {},
   "outputs": [
    {
     "data": {
      "text/plain": [
       "'To be, or not to be, that is the question'"
      ]
     },
     "execution_count": 93,
     "metadata": {},
     "output_type": "execute_result"
    }
   ],
   "source": [
    "single_string=\"to be, or not to be, that is the question\"\n",
    "text = single_string\n",
    "text.capitalize()"
   ]
  },
  {
   "cell_type": "markdown",
   "metadata": {},
   "source": [
    "### 모든 문자를 대문자/소문자로 바꾸기: upper 함수, lower 함수"
   ]
  },
  {
   "cell_type": "code",
   "execution_count": 94,
   "metadata": {},
   "outputs": [
    {
     "data": {
      "text/plain": [
       "'TO BE, OR NOT TO BE, THAT IS THE QUESTION'"
      ]
     },
     "execution_count": 94,
     "metadata": {},
     "output_type": "execute_result"
    }
   ],
   "source": [
    "text.upper()"
   ]
  },
  {
   "cell_type": "markdown",
   "metadata": {},
   "source": [
    "### 특정 문자 바꾸기: replace 함수"
   ]
  },
  {
   "cell_type": "code",
   "execution_count": 97,
   "metadata": {},
   "outputs": [
    {
     "data": {
      "text/plain": [
       "'to be, or not to be, that is the QEUSTION'"
      ]
     },
     "execution_count": 97,
     "metadata": {},
     "output_type": "execute_result"
    }
   ],
   "source": [
    "text.replace(\"question\",\"QEUSTION\")"
   ]
  },
  {
   "cell_type": "markdown",
   "metadata": {},
   "source": [
    "### 단어 단위로 쪼개기: split 함수"
   ]
  },
  {
   "cell_type": "code",
   "execution_count": 100,
   "metadata": {},
   "outputs": [
    {
     "data": {
      "text/plain": [
       "['to', 'be,', 'or', 'not', 'to', 'be,', 'that', 'is', 'the', 'question']"
      ]
     },
     "execution_count": 100,
     "metadata": {},
     "output_type": "execute_result"
    }
   ],
   "source": [
    "text.split()"
   ]
  },
  {
   "cell_type": "markdown",
   "metadata": {},
   "source": [
    "### 문자열의 시작과 끝에서 주어진 문자 삭제하기: strip 함수"
   ]
  },
  {
   "cell_type": "code",
   "execution_count": 101,
   "metadata": {},
   "outputs": [
    {
     "data": {
      "text/plain": [
       "'www.Python.org'"
      ]
     },
     "execution_count": 101,
     "metadata": {},
     "output_type": "execute_result"
    }
   ],
   "source": [
    "'http://www.Python.org'.strip('http://')"
   ]
  },
  {
   "cell_type": "code",
   "execution_count": 114,
   "metadata": {},
   "outputs": [
    {
     "data": {
      "text/plain": [
       "'Welcom to Hanbit.co.kr'"
      ]
     },
     "execution_count": 114,
     "metadata": {},
     "output_type": "execute_result"
    }
   ],
   "source": [
    "'Welcom to Hanbit.co.kr'.strip( )"
   ]
  },
  {
   "cell_type": "markdown",
   "metadata": {},
   "source": [
    "## 연습문제"
   ]
  },
  {
   "cell_type": "code",
   "execution_count": null,
   "metadata": {},
   "outputs": [
    {
     "name": "stdout",
     "output_type": "stream",
     "text": [
      "H n e\n"
     ]
    }
   ],
   "source": []
  },
  {
   "cell_type": "code",
   "execution_count": null,
   "metadata": {},
   "outputs": [
    {
     "data": {
      "text/plain": [
       "'I have Samsung stocks.'"
      ]
     },
     "metadata": {},
     "output_type": "display_data"
    }
   ],
   "source": []
  },
  {
   "cell_type": "code",
   "execution_count": null,
   "metadata": {},
   "outputs": [
    {
     "data": {
      "text/plain": [
       "'To be, or not to be, that is the QUESTION'"
      ]
     },
     "metadata": {},
     "output_type": "display_data"
    }
   ],
   "source": []
  },
  {
   "cell_type": "code",
   "execution_count": null,
   "metadata": {},
   "outputs": [],
   "source": []
  },
  {
   "cell_type": "markdown",
   "metadata": {},
   "source": [
    "# 4week"
   ]
  },
  {
   "cell_type": "markdown",
   "metadata": {},
   "source": [
    "## 복합 데이터형\n",
    "\n",
    "    여러 자료를 한 번에 저장 가능\n",
    "    변수에 저장한 자료를 어떻게 사용할 것인지에 따라 사용\n",
    "\n",
    "(리스트, 튜플, 집합, 딕셔너리 구분하자)_2주차_데이터타입.pdf_3page\n",
    "\n",
    "슬라이싱이란?_2주차_데이터타입.pdf_6page"
   ]
  },
  {
   "cell_type": "markdown",
   "metadata": {},
   "source": [
    "## 리스트 타입\n",
    "\n",
    "    다양한 값을 연속적으로 저장 가능\n",
    "    변수 하나에 원소 여러 개 저장 가능\n",
    "    원소 변경 가능\n",
    "    정수형, 실수형, 문자형, 숫자형을 저장할 수 있고, 리스트 하나에 문자, 숫자, 실수형 자료를 모두 저장 가능\n",
    "    + 연산자 사용하여 두 리스트 결합 가능\n",
    "    리스트 내부의 값 변경 가능"
   ]
  },
  {
   "cell_type": "code",
   "execution_count": 115,
   "metadata": {},
   "outputs": [
    {
     "data": {
      "text/plain": [
       "[10, 20, 30]"
      ]
     },
     "execution_count": 115,
     "metadata": {},
     "output_type": "execute_result"
    }
   ],
   "source": [
    "var1 = [10,20,30]\n",
    "\n",
    "var1"
   ]
  },
  {
   "cell_type": "code",
   "execution_count": 118,
   "metadata": {},
   "outputs": [
    {
     "data": {
      "text/plain": [
       "[50, 20, 30]"
      ]
     },
     "execution_count": 118,
     "metadata": {},
     "output_type": "execute_result"
    }
   ],
   "source": [
    "var1[0] = 50\n",
    "var1"
   ]
  },
  {
   "cell_type": "code",
   "execution_count": 127,
   "metadata": {},
   "outputs": [
    {
     "data": {
      "text/plain": [
       "[100, 200]"
      ]
     },
     "execution_count": 127,
     "metadata": {},
     "output_type": "execute_result"
    }
   ],
   "source": [
    "# 슬라이싱 : 범위를 지정할 수 있다.\n",
    "var1 = [100,200,300]\n",
    "# 처음부터 2개만 출력\n",
    "var1[:2]"
   ]
  },
  {
   "cell_type": "code",
   "execution_count": 128,
   "metadata": {},
   "outputs": [
    {
     "data": {
      "text/plain": [
       "[200, 300]"
      ]
     },
     "execution_count": 128,
     "metadata": {},
     "output_type": "execute_result"
    }
   ],
   "source": [
    "# 2번째부터 마지막까지\n",
    "var1[1:]"
   ]
  },
  {
   "cell_type": "code",
   "execution_count": 130,
   "metadata": {},
   "outputs": [
    {
     "data": {
      "text/plain": [
       "'sonny'"
      ]
     },
     "execution_count": 130,
     "metadata": {},
     "output_type": "execute_result"
    }
   ],
   "source": [
    "var1 = 'nice sonny'\n",
    "# sonny만 출력\n",
    "var1[5:]"
   ]
  },
  {
   "cell_type": "code",
   "execution_count": 135,
   "metadata": {},
   "outputs": [
    {
     "data": {
      "text/plain": [
       "True"
      ]
     },
     "execution_count": 135,
     "metadata": {},
     "output_type": "execute_result"
    }
   ],
   "source": [
    "# 리스트 타입 원소 확인 (in)\n",
    "1 in [1,2,3,4,5]"
   ]
  },
  {
   "cell_type": "code",
   "execution_count": 136,
   "metadata": {},
   "outputs": [
    {
     "data": {
      "text/plain": [
       "5"
      ]
     },
     "execution_count": 136,
     "metadata": {},
     "output_type": "execute_result"
    }
   ],
   "source": [
    "# 리스트 타입 내 내장 함수 (len_어엄청 많이 사용한다.)\n",
    "var1 = [10,20,30,40,50]\n",
    "\n",
    "# var 1 리스트 내에 data가 몇개 있어요? _ 전처리 할 때, 굉장히 많이 사용\n",
    "len(var1)"
   ]
  },
  {
   "cell_type": "code",
   "execution_count": 138,
   "metadata": {},
   "outputs": [
    {
     "data": {
      "text/plain": [
       "[10, 20, 30, 40, 50, 100, 20]"
      ]
     },
     "execution_count": 138,
     "metadata": {},
     "output_type": "execute_result"
    }
   ],
   "source": [
    "# 데이터 추가 (append)\n",
    "\n",
    "var1.append(20)\n",
    "var1"
   ]
  },
  {
   "cell_type": "code",
   "execution_count": 142,
   "metadata": {},
   "outputs": [
    {
     "data": {
      "text/plain": [
       "[10, 20, 20, 30, 40, 50, 100]"
      ]
     },
     "execution_count": 142,
     "metadata": {},
     "output_type": "execute_result"
    }
   ],
   "source": [
    "# 데이터 정렬\n",
    "var1.sort()\n",
    "var1\n",
    "\n",
    "# 지금까지 [리스트 타입]의 활용을 알아보았다. '전처리' 하는 것에서 중요."
   ]
  },
  {
   "cell_type": "markdown",
   "metadata": {},
   "source": [
    "## 딕셔너리 타입\n",
    "\n",
    "    {key1:value1, key2:value2, ...} 형태로 원소를 직접 추가\n",
    "    키는 변경할 수 없어야 하고, 고유값으로 표현할 수 있어야 함\n",
    "    다양한 데이터형을 키로 사용 가능(튜플이나 문자형 등)\n",
    "    \n",
    "    모든 값 출력하기 : key 함수\n",
    "    모든 값 출력하기 : value 함수"
   ]
  },
  {
   "cell_type": "code",
   "execution_count": 143,
   "metadata": {},
   "outputs": [
    {
     "data": {
      "text/plain": [
       "{}"
      ]
     },
     "execution_count": 143,
     "metadata": {},
     "output_type": "execute_result"
    }
   ],
   "source": [
    "dict = {}\n",
    "\n",
    "dict"
   ]
  },
  {
   "cell_type": "code",
   "execution_count": 144,
   "metadata": {},
   "outputs": [
    {
     "data": {
      "text/plain": [
       "{'name': 'sonny', 'age': 32, 'no': 7}"
      ]
     },
     "execution_count": 144,
     "metadata": {},
     "output_type": "execute_result"
    }
   ],
   "source": [
    "player = {'name': 'sonny', 'age':32, 'no': 7}\n",
    "player"
   ]
  },
  {
   "cell_type": "code",
   "execution_count": 145,
   "metadata": {},
   "outputs": [
    {
     "data": {
      "text/plain": [
       "{'name': 'sonny', 'age': 32, 'no': 7, 'team': 'tot'}"
      ]
     },
     "execution_count": 145,
     "metadata": {},
     "output_type": "execute_result"
    }
   ],
   "source": [
    "# 키 값 추가\n",
    "player['team']='tot'\n",
    "player"
   ]
  },
  {
   "cell_type": "code",
   "execution_count": 146,
   "metadata": {},
   "outputs": [
    {
     "data": {
      "text/plain": [
       "7"
      ]
     },
     "execution_count": 146,
     "metadata": {},
     "output_type": "execute_result"
    }
   ],
   "source": [
    "# 특정 키 값 데이터만 출력\n",
    "player['no']"
   ]
  },
  {
   "cell_type": "code",
   "execution_count": 147,
   "metadata": {},
   "outputs": [
    {
     "data": {
      "text/plain": [
       "dict_keys(['name', 'age', 'no', 'team'])"
      ]
     },
     "execution_count": 147,
     "metadata": {},
     "output_type": "execute_result"
    }
   ],
   "source": [
    "# dict 타입에서 키 값만 출력\n",
    "player.keys()"
   ]
  },
  {
   "cell_type": "code",
   "execution_count": 149,
   "metadata": {},
   "outputs": [
    {
     "data": {
      "text/plain": [
       "dict_values(['sonny', 32, 7, 'tot'])"
      ]
     },
     "execution_count": 149,
     "metadata": {},
     "output_type": "execute_result"
    }
   ],
   "source": [
    "# dict 타입에서 데이터만 출력\n",
    "player.values()"
   ]
  },
  {
   "cell_type": "code",
   "execution_count": 150,
   "metadata": {},
   "outputs": [
    {
     "data": {
      "text/plain": [
       "['sonny', 32, 7, 'tot']"
      ]
     },
     "execution_count": 150,
     "metadata": {},
     "output_type": "execute_result"
    }
   ],
   "source": [
    "# 리스트 타입으로 변환 list()\n",
    "list(player.values())\n",
    "# 굳이 리스트 타입으로 바꾸는 이유? -> '전처리, 연산' 하기위한 해내들링이 쉬워지기 때문"
   ]
  },
  {
   "cell_type": "markdown",
   "metadata": {},
   "source": [
    "## 튜플\n",
    "\n",
    "    소괄호를 사용하여정의_()\n",
    "    기호 없이 사용 가능하지만, 쉼표로 값 구분\n",
    "    읽기만 가능\n",
    "    변경 불가하여 불변객체 라고 함\n",
    "    삭제나 변경 불가능하지만 리스트처럼 인덱싱과 슬라이싱 가능"
   ]
  },
  {
   "cell_type": "markdown",
   "metadata": {},
   "source": [
    "## 조건문_if\n",
    "    if~elif~else\n",
    "    반드시 '들여쓰기(indent) 해줘야 함\n",
    "\n",
    "## 반복문_for, while\n",
    "    for x in range(시작값, 종료값+1, 증가값):\n",
    "        # 이 부분의 처리의 처리문을 반복 실행\n",
    "\n",
    "## 함수_def\n",
    "    def__ labda, sorted"
   ]
  },
  {
   "cell_type": "code",
   "execution_count": 152,
   "metadata": {},
   "outputs": [
    {
     "name": "stdout",
     "output_type": "stream",
     "text": [
      "0 는 4의 배수로 10보다 작다\n",
      "4 는 4의 배수로 10보다 작다\n",
      "8 는 4의 배수로 10보다 작다\n"
     ]
    }
   ],
   "source": [
    "for x in range(0,10,4):\n",
    "    print(x,'는 4의 배수로 10보다 작다')"
   ]
  },
  {
   "cell_type": "code",
   "execution_count": 155,
   "metadata": {},
   "outputs": [
    {
     "name": "stdout",
     "output_type": "stream",
     "text": [
      "nice sonny\n",
      "nice sonny\n",
      "nice sonny\n",
      "nice sonny\n",
      "nice sonny\n",
      "nice sonny\n",
      "nice sonny\n",
      "nice sonny\n",
      "nice sonny\n",
      "nice sonny\n"
     ]
    }
   ],
   "source": [
    "for x in range(0,10):\n",
    "    print('nice sonny')"
   ]
  },
  {
   "cell_type": "code",
   "execution_count": 156,
   "metadata": {},
   "outputs": [
    {
     "name": "stdout",
     "output_type": "stream",
     "text": [
      "0\n",
      "1\n",
      "2\n",
      "3\n",
      "4\n",
      "5\n",
      "6\n",
      "7\n",
      "8\n",
      "9\n"
     ]
    }
   ],
   "source": [
    "for x in range(0,10):\n",
    "    print(x)"
   ]
  },
  {
   "cell_type": "code",
   "execution_count": 159,
   "metadata": {},
   "outputs": [
    {
     "name": "stdout",
     "output_type": "stream",
     "text": [
      "0\n",
      "2\n",
      "4\n",
      "6\n",
      "8\n"
     ]
    }
   ],
   "source": [
    " # range는 리스트 타입의 데이터를 생성해준다.\n",
    "for x in range(0,10,2):\n",
    "    print(x)\n",
    "\n",
    "# for x in range[0,2,4,6,8]:\n",
    "    # print(x)\n",
    "# 와 같은 코드"
   ]
  },
  {
   "cell_type": "code",
   "execution_count": 160,
   "metadata": {},
   "outputs": [
    {
     "name": "stdout",
     "output_type": "stream",
     "text": [
      "0\n",
      "4\n",
      "8\n"
     ]
    }
   ],
   "source": [
    "# range 함수를 사용하여 4의 배수 출력(0~10)\n",
    "for x in range(0,10,4):\n",
    "    print(x)"
   ]
  },
  {
   "cell_type": "markdown",
   "metadata": {},
   "source": [
    "# 5week"
   ]
  },
  {
   "cell_type": "markdown",
   "metadata": {},
   "source": [
    "## while\n",
    "- while 문은 반복 횟수가 정해져 있지 않을 때 사용하는 반복문\n",
    "- 조건을 만족히자 않으면 무조건 반복 수행함\n",
    "- 조건이 while True:인 경우 항상 참이 되므로 무한 반복하게 됨. 이경우 강제 종료\n",
    "- break 문을 사용해 반복문을 빠져나올 수 있도록 함\n",
    "#####\n",
    "- while 문의 조건이 만족하는 동안은 while 이하의 명령 반복 실행\n",
    "- 들여쓰기 주의"
   ]
  },
  {
   "cell_type": "code",
   "execution_count": 161,
   "metadata": {},
   "outputs": [
    {
     "name": "stdout",
     "output_type": "stream",
     "text": [
      "0\n",
      "1\n",
      "2\n",
      "3\n",
      "4\n",
      "5\n",
      "6\n",
      "7\n",
      "8\n",
      "9\n",
      "10\n"
     ]
    }
   ],
   "source": [
    "# while\n",
    "i = 0\n",
    "\n",
    "while i <= 10:\n",
    "    print(i)\n",
    "    i += 1"
   ]
  },
  {
   "cell_type": "code",
   "execution_count": 162,
   "metadata": {},
   "outputs": [
    {
     "name": "stdout",
     "output_type": "stream",
     "text": [
      "sonny\n",
      "sonny\n"
     ]
    }
   ],
   "source": [
    "for i in range(0,10,4):\n",
    "    if i == 4:\n",
    "        continue\n",
    "    print('sonny')\n",
    "    # break와 continue 문제 나오면 맞출 줄 알아야한다."
   ]
  },
  {
   "cell_type": "code",
   "execution_count": 164,
   "metadata": {},
   "outputs": [
    {
     "name": "stdout",
     "output_type": "stream",
     "text": [
      "0\n",
      "1\n",
      "2\n",
      "3\n",
      "4\n",
      "5\n",
      "6\n",
      "7\n",
      "8\n",
      "9\n",
      "10\n"
     ]
    }
   ],
   "source": [
    "# for in [] 이용해서 0~10까지 출력 (print)\n",
    "for x in range(0,11):\n",
    "    print(x)"
   ]
  },
  {
   "cell_type": "code",
   "execution_count": 166,
   "metadata": {},
   "outputs": [
    {
     "name": "stdout",
     "output_type": "stream",
     "text": [
      "2 * 1 = 2\n",
      "2 * 2 = 4\n",
      "2 * 3 = 6\n",
      "2 * 4 = 8\n",
      "2 * 5 = 10\n",
      "2 * 6 = 12\n",
      "2 * 7 = 14\n",
      "2 * 8 = 16\n",
      "2 * 9 = 18\n"
     ]
    }
   ],
   "source": [
    "# 2단 출력\n",
    "for x in range(1,10):\n",
    "    print('2 *',x, '=',2*x)\n"
   ]
  },
  {
   "cell_type": "code",
   "execution_count": 171,
   "metadata": {},
   "outputs": [
    {
     "name": "stdout",
     "output_type": "stream",
     "text": [
      "2 * 1 = 2\n",
      "2 * 2 = 4\n",
      "2 * 3 = 6\n",
      "2 * 4 = 8\n",
      "2 * 5 = 10\n",
      "2 * 6 = 12\n",
      "2 * 7 = 14\n",
      "2 * 8 = 16\n",
      "2 * 9 = 18\n",
      "\n",
      "3 * 1 = 3\n",
      "3 * 2 = 6\n",
      "3 * 3 = 9\n",
      "3 * 4 = 12\n",
      "3 * 5 = 15\n",
      "3 * 6 = 18\n",
      "3 * 7 = 21\n",
      "3 * 8 = 24\n",
      "3 * 9 = 27\n",
      "\n",
      "4 * 1 = 4\n",
      "4 * 2 = 8\n",
      "4 * 3 = 12\n",
      "4 * 4 = 16\n",
      "4 * 5 = 20\n",
      "4 * 6 = 24\n",
      "4 * 7 = 28\n",
      "4 * 8 = 32\n",
      "4 * 9 = 36\n",
      "\n",
      "5 * 1 = 5\n",
      "5 * 2 = 10\n",
      "5 * 3 = 15\n",
      "5 * 4 = 20\n",
      "5 * 5 = 25\n",
      "5 * 6 = 30\n",
      "5 * 7 = 35\n",
      "5 * 8 = 40\n",
      "5 * 9 = 45\n",
      "\n",
      "6 * 1 = 6\n",
      "6 * 2 = 12\n",
      "6 * 3 = 18\n",
      "6 * 4 = 24\n",
      "6 * 5 = 30\n",
      "6 * 6 = 36\n",
      "6 * 7 = 42\n",
      "6 * 8 = 48\n",
      "6 * 9 = 54\n",
      "\n",
      "7 * 1 = 7\n",
      "7 * 2 = 14\n",
      "7 * 3 = 21\n",
      "7 * 4 = 28\n",
      "7 * 5 = 35\n",
      "7 * 6 = 42\n",
      "7 * 7 = 49\n",
      "7 * 8 = 56\n",
      "7 * 9 = 63\n",
      "\n",
      "8 * 1 = 8\n",
      "8 * 2 = 16\n",
      "8 * 3 = 24\n",
      "8 * 4 = 32\n",
      "8 * 5 = 40\n",
      "8 * 6 = 48\n",
      "8 * 7 = 56\n",
      "8 * 8 = 64\n",
      "8 * 9 = 72\n",
      "\n",
      "9 * 1 = 9\n",
      "9 * 2 = 18\n",
      "9 * 3 = 27\n",
      "9 * 4 = 36\n",
      "9 * 5 = 45\n",
      "9 * 6 = 54\n",
      "9 * 7 = 63\n",
      "9 * 8 = 72\n",
      "9 * 9 = 81\n",
      "\n"
     ]
    }
   ],
   "source": [
    "# 구구단 만들기\n",
    "for x in range(2,10):\n",
    "    for y in range(1,10):\n",
    "        print(x,'*',y,'=',x*y)\n",
    "        if y == 9 :\n",
    "            print()"
   ]
  },
  {
   "cell_type": "markdown",
   "metadata": {},
   "source": [
    "## function\n",
    "\n",
    "### 개념\n",
    "    어떤 작업을 하기 위해 미리 지정된 명령문\n",
    "    \n",
    "    동일하게 반복해야 하는 작업을 함수로 만들어 사용하면 편리함\n",
    "\n",
    "    파이썬에서 제공하는 내장 함수를 사용하거나 또는 사용자가 정의해서 사용 가능\n",
    "\n",
    "### 형태\n",
    "    def 예약어 사용\n",
    "\n",
    "    함수명 다음에는 반드시 괄호와 콜론이 필요\n",
    "\n",
    "    괄호안 인자값을 쉼표로 구분하여 입력\n",
    "\n",
    "    def(인자, 인자):\n",
    "        return 반환값"
   ]
  },
  {
   "cell_type": "code",
   "execution_count": 172,
   "metadata": {},
   "outputs": [
    {
     "name": "stdout",
     "output_type": "stream",
     "text": [
      "230\n"
     ]
    }
   ],
   "source": [
    "def u_sum(a,b,c) :\n",
    "    var_sum = a+b+c\n",
    "    return var_sum\n",
    "\n",
    "i=10\n",
    "j=20\n",
    "k=i*j\n",
    "\n",
    "var = u_sum(i,j,k)\n",
    "print(var)\n",
    "\n",
    "# 엄청나게 중요하다. 엄청나게 중요하다. 함수의 정의는 많이 사용되기 때문."
   ]
  },
  {
   "cell_type": "code",
   "execution_count": 173,
   "metadata": {},
   "outputs": [
    {
     "name": "stdout",
     "output_type": "stream",
     "text": [
      "30\n",
      "50\n"
     ]
    }
   ],
   "source": [
    "# 두개의 변수를 10, 20 받아서 합계를 구하고 화면에 출력\n",
    "# 두개의 변수를 10씩 증가하여 합계를 구하고 화면에 출력\n",
    "# 두개의 변수를 20씩 증가하여 합계를 구하고 화면에 출력\n",
    "# ...\n",
    "# 두개의 변수를 50씩 증가하여 합계를 구하고 화면에 출력\n",
    "\n",
    "a=10\n",
    "b=20\n",
    "c=a+b\n",
    "print(c)\n",
    "\n",
    "a=a+10\n",
    "b=b+10\n",
    "c=a+b\n",
    "print(c)\n",
    "\n",
    "# 이런식으로 직접 작성하여 출력할 수 있지만\n",
    "# 반복문을 사용하면 더욱 짮게 코드 작성 가능"
   ]
  },
  {
   "cell_type": "code",
   "execution_count": 174,
   "metadata": {},
   "outputs": [
    {
     "name": "stdout",
     "output_type": "stream",
     "text": [
      "30\n",
      "50\n",
      "70\n",
      "90\n",
      "110\n",
      "130\n"
     ]
    }
   ],
   "source": [
    "def add(a,b):\n",
    "    c=a+b\n",
    "    return c\n",
    "\n",
    "var1 = 10\n",
    "var2 = 20\n",
    "\n",
    "for i in range(0,6):\n",
    "    result = add(var1 + i*10, var2 + i*10)\n",
    "    print(result)"
   ]
  },
  {
   "cell_type": "markdown",
   "metadata": {},
   "source": [
    "## pandas\n",
    "- 데이터를 조작하고 분석하는 데 사용하는 파이선 라이브러리\n",
    "- 데이터를 표(테이블) 형태로 분석할 수 있음\n",
    "- 시리즈와 데이터 프레임이라는 두가지 데이터형 사용\n",
    "- 시리즈는 표의 열, 데이터프레임은 행과 열이 있음\n",
    "\n",
    "### 시리즈\n",
    "- 1차원 데이터\n",
    "- 리스트와 유사하나 리스트와 달리 인덱스를 부여할 수 있음\n",
    "- sr 별칭을 많이 사용\n",
    "\n",
    "### 데이터프레임\n",
    "- 2차원 데이터\n",
    "- 각각 인덱스를 가진 행(인덱스로 구분)과 열(열 이름으로 구분)로 이루어진 표 형태로 저장\n",
    "- df 별칭을 많이 사용"
   ]
  },
  {
   "cell_type": "code",
   "execution_count": 175,
   "metadata": {},
   "outputs": [
    {
     "data": {
      "text/plain": [
       "0    1\n",
       "1    2\n",
       "2    3\n",
       "3    4\n",
       "4    5\n",
       "dtype: int64"
      ]
     },
     "execution_count": 175,
     "metadata": {},
     "output_type": "execute_result"
    }
   ],
   "source": [
    "# 판다스 사용하기\n",
    "import pandas as pd\n",
    "# 시리즈 사용\n",
    "sr = pd.Series([1,2,3,4,5])\n",
    "sr"
   ]
  },
  {
   "cell_type": "code",
   "execution_count": 176,
   "metadata": {},
   "outputs": [
    {
     "data": {
      "text/html": [
       "<div>\n",
       "<style scoped>\n",
       "    .dataframe tbody tr th:only-of-type {\n",
       "        vertical-align: middle;\n",
       "    }\n",
       "\n",
       "    .dataframe tbody tr th {\n",
       "        vertical-align: top;\n",
       "    }\n",
       "\n",
       "    .dataframe thead th {\n",
       "        text-align: right;\n",
       "    }\n",
       "</style>\n",
       "<table border=\"1\" class=\"dataframe\">\n",
       "  <thead>\n",
       "    <tr style=\"text-align: right;\">\n",
       "      <th></th>\n",
       "      <th>0</th>\n",
       "    </tr>\n",
       "  </thead>\n",
       "  <tbody>\n",
       "    <tr>\n",
       "      <th>0</th>\n",
       "      <td>1</td>\n",
       "    </tr>\n",
       "    <tr>\n",
       "      <th>1</th>\n",
       "      <td>2</td>\n",
       "    </tr>\n",
       "    <tr>\n",
       "      <th>2</th>\n",
       "      <td>3</td>\n",
       "    </tr>\n",
       "    <tr>\n",
       "      <th>3</th>\n",
       "      <td>4</td>\n",
       "    </tr>\n",
       "    <tr>\n",
       "      <th>4</th>\n",
       "      <td>5</td>\n",
       "    </tr>\n",
       "  </tbody>\n",
       "</table>\n",
       "</div>"
      ],
      "text/plain": [
       "   0\n",
       "0  1\n",
       "1  2\n",
       "2  3\n",
       "3  4\n",
       "4  5"
      ]
     },
     "execution_count": 176,
     "metadata": {},
     "output_type": "execute_result"
    }
   ],
   "source": [
    "# 데이터프레임 사용\n",
    "df = pd.DataFrame([1,2,3,4,5])\n",
    "df"
   ]
  },
  {
   "cell_type": "code",
   "execution_count": 177,
   "metadata": {},
   "outputs": [
    {
     "data": {
      "text/html": [
       "<div>\n",
       "<style scoped>\n",
       "    .dataframe tbody tr th:only-of-type {\n",
       "        vertical-align: middle;\n",
       "    }\n",
       "\n",
       "    .dataframe tbody tr th {\n",
       "        vertical-align: top;\n",
       "    }\n",
       "\n",
       "    .dataframe thead th {\n",
       "        text-align: right;\n",
       "    }\n",
       "</style>\n",
       "<table border=\"1\" class=\"dataframe\">\n",
       "  <thead>\n",
       "    <tr style=\"text-align: right;\">\n",
       "      <th></th>\n",
       "      <th>0</th>\n",
       "      <th>player</th>\n",
       "    </tr>\n",
       "  </thead>\n",
       "  <tbody>\n",
       "    <tr>\n",
       "      <th>0</th>\n",
       "      <td>1</td>\n",
       "      <td>sonny</td>\n",
       "    </tr>\n",
       "    <tr>\n",
       "      <th>1</th>\n",
       "      <td>2</td>\n",
       "      <td>lee</td>\n",
       "    </tr>\n",
       "    <tr>\n",
       "      <th>2</th>\n",
       "      <td>3</td>\n",
       "      <td>kim</td>\n",
       "    </tr>\n",
       "    <tr>\n",
       "      <th>3</th>\n",
       "      <td>4</td>\n",
       "      <td>hwang</td>\n",
       "    </tr>\n",
       "    <tr>\n",
       "      <th>4</th>\n",
       "      <td>5</td>\n",
       "      <td>park</td>\n",
       "    </tr>\n",
       "  </tbody>\n",
       "</table>\n",
       "</div>"
      ],
      "text/plain": [
       "   0 player\n",
       "0  1  sonny\n",
       "1  2    lee\n",
       "2  3    kim\n",
       "3  4  hwang\n",
       "4  5   park"
      ]
     },
     "execution_count": 177,
     "metadata": {},
     "output_type": "execute_result"
    }
   ],
   "source": [
    "# 열 추가하기\n",
    "df['player'] = ['sonny','lee','kim','hwang','park']\n",
    "df"
   ]
  },
  {
   "cell_type": "code",
   "execution_count": 178,
   "metadata": {},
   "outputs": [
    {
     "data": {
      "text/html": [
       "<div>\n",
       "<style scoped>\n",
       "    .dataframe tbody tr th:only-of-type {\n",
       "        vertical-align: middle;\n",
       "    }\n",
       "\n",
       "    .dataframe tbody tr th {\n",
       "        vertical-align: top;\n",
       "    }\n",
       "\n",
       "    .dataframe thead th {\n",
       "        text-align: right;\n",
       "    }\n",
       "</style>\n",
       "<table border=\"1\" class=\"dataframe\">\n",
       "  <thead>\n",
       "    <tr style=\"text-align: right;\">\n",
       "      <th></th>\n",
       "      <th>이름</th>\n",
       "      <th>성별</th>\n",
       "      <th>나이</th>\n",
       "      <th>키</th>\n",
       "    </tr>\n",
       "  </thead>\n",
       "  <tbody>\n",
       "    <tr>\n",
       "      <th>0</th>\n",
       "      <td>한빛</td>\n",
       "      <td>남자</td>\n",
       "      <td>20</td>\n",
       "      <td>180</td>\n",
       "    </tr>\n",
       "    <tr>\n",
       "      <th>1</th>\n",
       "      <td>한결</td>\n",
       "      <td>남자</td>\n",
       "      <td>21</td>\n",
       "      <td>177</td>\n",
       "    </tr>\n",
       "    <tr>\n",
       "      <th>2</th>\n",
       "      <td>한라</td>\n",
       "      <td>여자</td>\n",
       "      <td>20</td>\n",
       "      <td>160</td>\n",
       "    </tr>\n",
       "  </tbody>\n",
       "</table>\n",
       "</div>"
      ],
      "text/plain": [
       "   이름  성별  나이    키\n",
       "0  한빛  남자  20  180\n",
       "1  한결  남자  21  177\n",
       "2  한라  여자  20  160"
      ]
     },
     "execution_count": 178,
     "metadata": {},
     "output_type": "execute_result"
    }
   ],
   "source": [
    "# 시리즈와 데이터 프레임 생성\n",
    "\n",
    "# '딕셔너리'로 데이터프레임 생성\n",
    "dict1 = {'이름':{0:'한빛',1:'한결',2:'한라'},\n",
    "         '성별':{0:'남자',1:'남자',2:'여자'},\n",
    "         '나이':{0:'20',1:'21',2:'20'},\n",
    "         '키':{0:'180',1:'177',2:'160'},}\n",
    "pd.DataFrame(dict1)"
   ]
  },
  {
   "cell_type": "code",
   "execution_count": 180,
   "metadata": {},
   "outputs": [
    {
     "data": {
      "text/html": [
       "<div>\n",
       "<style scoped>\n",
       "    .dataframe tbody tr th:only-of-type {\n",
       "        vertical-align: middle;\n",
       "    }\n",
       "\n",
       "    .dataframe tbody tr th {\n",
       "        vertical-align: top;\n",
       "    }\n",
       "\n",
       "    .dataframe thead th {\n",
       "        text-align: right;\n",
       "    }\n",
       "</style>\n",
       "<table border=\"1\" class=\"dataframe\">\n",
       "  <thead>\n",
       "    <tr style=\"text-align: right;\">\n",
       "      <th></th>\n",
       "      <th>이름</th>\n",
       "      <th>성별</th>\n",
       "      <th>나이</th>\n",
       "      <th>키</th>\n",
       "    </tr>\n",
       "  </thead>\n",
       "  <tbody>\n",
       "    <tr>\n",
       "      <th>0</th>\n",
       "      <td>한빛</td>\n",
       "      <td>남자</td>\n",
       "      <td>20</td>\n",
       "      <td>180</td>\n",
       "    </tr>\n",
       "    <tr>\n",
       "      <th>1</th>\n",
       "      <td>한결</td>\n",
       "      <td>남자</td>\n",
       "      <td>21</td>\n",
       "      <td>177</td>\n",
       "    </tr>\n",
       "    <tr>\n",
       "      <th>2</th>\n",
       "      <td>한라</td>\n",
       "      <td>여자</td>\n",
       "      <td>20</td>\n",
       "      <td>160</td>\n",
       "    </tr>\n",
       "  </tbody>\n",
       "</table>\n",
       "</div>"
      ],
      "text/plain": [
       "   이름  성별  나이    키\n",
       "0  한빛  남자  20  180\n",
       "1  한결  남자  21  177\n",
       "2  한라  여자  20  160"
      ]
     },
     "execution_count": 180,
     "metadata": {},
     "output_type": "execute_result"
    }
   ],
   "source": [
    "# '배열'로 데이터프레임 생성\n",
    "import numpy as np\n",
    "\n",
    "# 배열\n",
    "arr1 = np.array([['한빛','남자','20','180'],\n",
    "                 ['한결','남자','21','177'],\n",
    "                 ['한라','여자','20','160'],])\n",
    "# 열 이름 리스트\n",
    "col_names = ['이름','성별','나이','키']\n",
    "\n",
    "# 데이터프레임 생성하기\n",
    "pd.DataFrame(arr1,columns=col_names)"
   ]
  },
  {
   "cell_type": "code",
   "execution_count": 181,
   "metadata": {},
   "outputs": [
    {
     "data": {
      "text/html": [
       "<div>\n",
       "<style scoped>\n",
       "    .dataframe tbody tr th:only-of-type {\n",
       "        vertical-align: middle;\n",
       "    }\n",
       "\n",
       "    .dataframe tbody tr th {\n",
       "        vertical-align: top;\n",
       "    }\n",
       "\n",
       "    .dataframe thead th {\n",
       "        text-align: right;\n",
       "    }\n",
       "</style>\n",
       "<table border=\"1\" class=\"dataframe\">\n",
       "  <thead>\n",
       "    <tr style=\"text-align: right;\">\n",
       "      <th></th>\n",
       "      <th>이름</th>\n",
       "      <th>성별</th>\n",
       "      <th>나이</th>\n",
       "      <th>키</th>\n",
       "    </tr>\n",
       "  </thead>\n",
       "  <tbody>\n",
       "    <tr>\n",
       "      <th>0</th>\n",
       "      <td>허준호</td>\n",
       "      <td>남자</td>\n",
       "      <td>24</td>\n",
       "      <td>183</td>\n",
       "    </tr>\n",
       "    <tr>\n",
       "      <th>1</th>\n",
       "      <td>이가원</td>\n",
       "      <td>여자</td>\n",
       "      <td>23</td>\n",
       "      <td>162</td>\n",
       "    </tr>\n",
       "    <tr>\n",
       "      <th>2</th>\n",
       "      <td>배규민</td>\n",
       "      <td>남자</td>\n",
       "      <td>21</td>\n",
       "      <td>179</td>\n",
       "    </tr>\n",
       "    <tr>\n",
       "      <th>3</th>\n",
       "      <td>고고림</td>\n",
       "      <td>남자</td>\n",
       "      <td>28</td>\n",
       "      <td>182</td>\n",
       "    </tr>\n",
       "    <tr>\n",
       "      <th>4</th>\n",
       "      <td>이새봄</td>\n",
       "      <td>여자</td>\n",
       "      <td>26</td>\n",
       "      <td>160</td>\n",
       "    </tr>\n",
       "    <tr>\n",
       "      <th>5</th>\n",
       "      <td>이루리</td>\n",
       "      <td>여자</td>\n",
       "      <td>24</td>\n",
       "      <td>163</td>\n",
       "    </tr>\n",
       "    <tr>\n",
       "      <th>6</th>\n",
       "      <td>오다현</td>\n",
       "      <td>여자</td>\n",
       "      <td>24</td>\n",
       "      <td>157</td>\n",
       "    </tr>\n",
       "  </tbody>\n",
       "</table>\n",
       "</div>"
      ],
      "text/plain": [
       "    이름  성별  나이    키\n",
       "0  허준호  남자  24  183\n",
       "1  이가원  여자  23  162\n",
       "2  배규민  남자  21  179\n",
       "3  고고림  남자  28  182\n",
       "4  이새봄  여자  26  160\n",
       "5  이루리  여자  24  163\n",
       "6  오다현  여자  24  157"
      ]
     },
     "execution_count": 181,
     "metadata": {},
     "output_type": "execute_result"
    }
   ],
   "source": [
    "# csv 파일로 테이터프레임 생성\n",
    "\n",
    "list1 = list([['허준호','남자','24','183'],\n",
    "              ['이가원','여자','23','162'],\n",
    "              ['배규민','남자','21','179'],\n",
    "              ['고고림','남자','28','182'],\n",
    "              ['이새봄','여자','26','160'],\n",
    "              ['이루리','여자','24','163'],\n",
    "              ['오다현','여자','24','157']])\n",
    "col_names = ['이름','성별','나이','키']\n",
    "df = pd.DataFrame(list1, columns=col_names)\n",
    "df"
   ]
  },
  {
   "cell_type": "code",
   "execution_count": 182,
   "metadata": {},
   "outputs": [
    {
     "data": {
      "text/html": [
       "<div>\n",
       "<style scoped>\n",
       "    .dataframe tbody tr th:only-of-type {\n",
       "        vertical-align: middle;\n",
       "    }\n",
       "\n",
       "    .dataframe tbody tr th {\n",
       "        vertical-align: top;\n",
       "    }\n",
       "\n",
       "    .dataframe thead th {\n",
       "        text-align: right;\n",
       "    }\n",
       "</style>\n",
       "<table border=\"1\" class=\"dataframe\">\n",
       "  <thead>\n",
       "    <tr style=\"text-align: right;\">\n",
       "      <th></th>\n",
       "      <th>이름</th>\n",
       "      <th>성별</th>\n",
       "      <th>나이</th>\n",
       "      <th>키</th>\n",
       "    </tr>\n",
       "  </thead>\n",
       "  <tbody>\n",
       "    <tr>\n",
       "      <th>0</th>\n",
       "      <td>허준호</td>\n",
       "      <td>남자</td>\n",
       "      <td>24</td>\n",
       "      <td>183</td>\n",
       "    </tr>\n",
       "    <tr>\n",
       "      <th>1</th>\n",
       "      <td>이가원</td>\n",
       "      <td>여자</td>\n",
       "      <td>23</td>\n",
       "      <td>162</td>\n",
       "    </tr>\n",
       "    <tr>\n",
       "      <th>2</th>\n",
       "      <td>배규민</td>\n",
       "      <td>남자</td>\n",
       "      <td>21</td>\n",
       "      <td>179</td>\n",
       "    </tr>\n",
       "    <tr>\n",
       "      <th>3</th>\n",
       "      <td>고고림</td>\n",
       "      <td>남자</td>\n",
       "      <td>28</td>\n",
       "      <td>182</td>\n",
       "    </tr>\n",
       "    <tr>\n",
       "      <th>4</th>\n",
       "      <td>이새봄</td>\n",
       "      <td>여자</td>\n",
       "      <td>26</td>\n",
       "      <td>160</td>\n",
       "    </tr>\n",
       "    <tr>\n",
       "      <th>5</th>\n",
       "      <td>이루리</td>\n",
       "      <td>여자</td>\n",
       "      <td>24</td>\n",
       "      <td>163</td>\n",
       "    </tr>\n",
       "    <tr>\n",
       "      <th>6</th>\n",
       "      <td>오다현</td>\n",
       "      <td>여자</td>\n",
       "      <td>24</td>\n",
       "      <td>157</td>\n",
       "    </tr>\n",
       "  </tbody>\n",
       "</table>\n",
       "</div>"
      ],
      "text/plain": [
       "    이름  성별  나이    키\n",
       "0  허준호  남자  24  183\n",
       "1  이가원  여자  23  162\n",
       "2  배규민  남자  21  179\n",
       "3  고고림  남자  28  182\n",
       "4  이새봄  여자  26  160\n",
       "5  이루리  여자  24  163\n",
       "6  오다현  여자  24  157"
      ]
     },
     "execution_count": 182,
     "metadata": {},
     "output_type": "execute_result"
    }
   ],
   "source": [
    "# 데이터프레임을 csv 파일로 저장\n",
    "\n",
    "# 디렉토리에 csv 파일로 저장하기\n",
    "df.to_csv('./file.csv',header=True,index=False,encoding='utf-8')\n",
    "# csv 파일 읽기\n",
    "df2 = pd.read_csv('./file.csv',sep=',')\n",
    "df2"
   ]
  },
  {
   "cell_type": "code",
   "execution_count": 185,
   "metadata": {},
   "outputs": [
    {
     "data": {
      "text/plain": [
       "Index(['이름', '성별', '나이', '키'], dtype='object')"
      ]
     },
     "execution_count": 185,
     "metadata": {},
     "output_type": "execute_result"
    }
   ],
   "source": [
    "# 열 이름 조회\n",
    "\n",
    "df.columns"
   ]
  },
  {
   "cell_type": "code",
   "execution_count": 186,
   "metadata": {},
   "outputs": [
    {
     "data": {
      "text/html": [
       "<div>\n",
       "<style scoped>\n",
       "    .dataframe tbody tr th:only-of-type {\n",
       "        vertical-align: middle;\n",
       "    }\n",
       "\n",
       "    .dataframe tbody tr th {\n",
       "        vertical-align: top;\n",
       "    }\n",
       "\n",
       "    .dataframe thead th {\n",
       "        text-align: right;\n",
       "    }\n",
       "</style>\n",
       "<table border=\"1\" class=\"dataframe\">\n",
       "  <thead>\n",
       "    <tr style=\"text-align: right;\">\n",
       "      <th></th>\n",
       "      <th>이름</th>\n",
       "      <th>성별</th>\n",
       "      <th>나이</th>\n",
       "      <th>키</th>\n",
       "    </tr>\n",
       "  </thead>\n",
       "  <tbody>\n",
       "    <tr>\n",
       "      <th>count</th>\n",
       "      <td>7</td>\n",
       "      <td>7</td>\n",
       "      <td>7</td>\n",
       "      <td>7</td>\n",
       "    </tr>\n",
       "    <tr>\n",
       "      <th>unique</th>\n",
       "      <td>7</td>\n",
       "      <td>2</td>\n",
       "      <td>5</td>\n",
       "      <td>7</td>\n",
       "    </tr>\n",
       "    <tr>\n",
       "      <th>top</th>\n",
       "      <td>허준호</td>\n",
       "      <td>여자</td>\n",
       "      <td>24</td>\n",
       "      <td>183</td>\n",
       "    </tr>\n",
       "    <tr>\n",
       "      <th>freq</th>\n",
       "      <td>1</td>\n",
       "      <td>4</td>\n",
       "      <td>3</td>\n",
       "      <td>1</td>\n",
       "    </tr>\n",
       "  </tbody>\n",
       "</table>\n",
       "</div>"
      ],
      "text/plain": [
       "         이름  성별  나이    키\n",
       "count     7   7   7    7\n",
       "unique    7   2   5    7\n",
       "top     허준호  여자  24  183\n",
       "freq      1   4   3    1"
      ]
     },
     "execution_count": 186,
     "metadata": {},
     "output_type": "execute_result"
    }
   ],
   "source": [
    "# 데이터프레임 값 개수와 빈도수 확인\n",
    "df.describe()"
   ]
  },
  {
   "cell_type": "code",
   "execution_count": 187,
   "metadata": {},
   "outputs": [
    {
     "data": {
      "text/html": [
       "<div>\n",
       "<style scoped>\n",
       "    .dataframe tbody tr th:only-of-type {\n",
       "        vertical-align: middle;\n",
       "    }\n",
       "\n",
       "    .dataframe tbody tr th {\n",
       "        vertical-align: top;\n",
       "    }\n",
       "\n",
       "    .dataframe thead th {\n",
       "        text-align: right;\n",
       "    }\n",
       "</style>\n",
       "<table border=\"1\" class=\"dataframe\">\n",
       "  <thead>\n",
       "    <tr style=\"text-align: right;\">\n",
       "      <th></th>\n",
       "      <th>이름</th>\n",
       "      <th>성별</th>\n",
       "      <th>나이</th>\n",
       "      <th>키</th>\n",
       "    </tr>\n",
       "  </thead>\n",
       "  <tbody>\n",
       "    <tr>\n",
       "      <th>0</th>\n",
       "      <td>허준호</td>\n",
       "      <td>남자</td>\n",
       "      <td>24</td>\n",
       "      <td>183</td>\n",
       "    </tr>\n",
       "    <tr>\n",
       "      <th>1</th>\n",
       "      <td>이가원</td>\n",
       "      <td>여자</td>\n",
       "      <td>23</td>\n",
       "      <td>162</td>\n",
       "    </tr>\n",
       "    <tr>\n",
       "      <th>2</th>\n",
       "      <td>배규민</td>\n",
       "      <td>남자</td>\n",
       "      <td>21</td>\n",
       "      <td>179</td>\n",
       "    </tr>\n",
       "  </tbody>\n",
       "</table>\n",
       "</div>"
      ],
      "text/plain": [
       "    이름  성별  나이    키\n",
       "0  허준호  남자  24  183\n",
       "1  이가원  여자  23  162\n",
       "2  배규민  남자  21  179"
      ]
     },
     "execution_count": 187,
     "metadata": {},
     "output_type": "execute_result"
    }
   ],
   "source": [
    "# 데이터프레임의 처음 세 행 검색\n",
    "df.head(3)"
   ]
  },
  {
   "cell_type": "code",
   "execution_count": 188,
   "metadata": {},
   "outputs": [
    {
     "data": {
      "text/html": [
       "<div>\n",
       "<style scoped>\n",
       "    .dataframe tbody tr th:only-of-type {\n",
       "        vertical-align: middle;\n",
       "    }\n",
       "\n",
       "    .dataframe tbody tr th {\n",
       "        vertical-align: top;\n",
       "    }\n",
       "\n",
       "    .dataframe thead th {\n",
       "        text-align: right;\n",
       "    }\n",
       "</style>\n",
       "<table border=\"1\" class=\"dataframe\">\n",
       "  <thead>\n",
       "    <tr style=\"text-align: right;\">\n",
       "      <th></th>\n",
       "      <th>이름</th>\n",
       "      <th>성별</th>\n",
       "      <th>나이</th>\n",
       "      <th>키</th>\n",
       "    </tr>\n",
       "  </thead>\n",
       "  <tbody>\n",
       "    <tr>\n",
       "      <th>2</th>\n",
       "      <td>배규민</td>\n",
       "      <td>남자</td>\n",
       "      <td>21</td>\n",
       "      <td>179</td>\n",
       "    </tr>\n",
       "    <tr>\n",
       "      <th>3</th>\n",
       "      <td>고고림</td>\n",
       "      <td>남자</td>\n",
       "      <td>28</td>\n",
       "      <td>182</td>\n",
       "    </tr>\n",
       "    <tr>\n",
       "      <th>4</th>\n",
       "      <td>이새봄</td>\n",
       "      <td>여자</td>\n",
       "      <td>26</td>\n",
       "      <td>160</td>\n",
       "    </tr>\n",
       "    <tr>\n",
       "      <th>5</th>\n",
       "      <td>이루리</td>\n",
       "      <td>여자</td>\n",
       "      <td>24</td>\n",
       "      <td>163</td>\n",
       "    </tr>\n",
       "    <tr>\n",
       "      <th>6</th>\n",
       "      <td>오다현</td>\n",
       "      <td>여자</td>\n",
       "      <td>24</td>\n",
       "      <td>157</td>\n",
       "    </tr>\n",
       "  </tbody>\n",
       "</table>\n",
       "</div>"
      ],
      "text/plain": [
       "    이름  성별  나이    키\n",
       "2  배규민  남자  21  179\n",
       "3  고고림  남자  28  182\n",
       "4  이새봄  여자  26  160\n",
       "5  이루리  여자  24  163\n",
       "6  오다현  여자  24  157"
      ]
     },
     "execution_count": 188,
     "metadata": {},
     "output_type": "execute_result"
    }
   ],
   "source": [
    "# 데이터프레임의 마지막 다섯 행 검색\n",
    "df.tail(5)"
   ]
  },
  {
   "cell_type": "markdown",
   "metadata": {},
   "source": [
    "##### 행 정렬"
   ]
  },
  {
   "cell_type": "code",
   "execution_count": 189,
   "metadata": {},
   "outputs": [
    {
     "data": {
      "text/html": [
       "<div>\n",
       "<style scoped>\n",
       "    .dataframe tbody tr th:only-of-type {\n",
       "        vertical-align: middle;\n",
       "    }\n",
       "\n",
       "    .dataframe tbody tr th {\n",
       "        vertical-align: top;\n",
       "    }\n",
       "\n",
       "    .dataframe thead th {\n",
       "        text-align: right;\n",
       "    }\n",
       "</style>\n",
       "<table border=\"1\" class=\"dataframe\">\n",
       "  <thead>\n",
       "    <tr style=\"text-align: right;\">\n",
       "      <th></th>\n",
       "      <th>이름</th>\n",
       "      <th>성별</th>\n",
       "      <th>나이</th>\n",
       "      <th>키</th>\n",
       "    </tr>\n",
       "  </thead>\n",
       "  <tbody>\n",
       "    <tr>\n",
       "      <th>0</th>\n",
       "      <td>허준호</td>\n",
       "      <td>남자</td>\n",
       "      <td>24</td>\n",
       "      <td>183</td>\n",
       "    </tr>\n",
       "    <tr>\n",
       "      <th>1</th>\n",
       "      <td>이가원</td>\n",
       "      <td>여자</td>\n",
       "      <td>23</td>\n",
       "      <td>162</td>\n",
       "    </tr>\n",
       "    <tr>\n",
       "      <th>2</th>\n",
       "      <td>배규민</td>\n",
       "      <td>남자</td>\n",
       "      <td>21</td>\n",
       "      <td>179</td>\n",
       "    </tr>\n",
       "    <tr>\n",
       "      <th>3</th>\n",
       "      <td>고고림</td>\n",
       "      <td>남자</td>\n",
       "      <td>28</td>\n",
       "      <td>182</td>\n",
       "    </tr>\n",
       "    <tr>\n",
       "      <th>4</th>\n",
       "      <td>이새봄</td>\n",
       "      <td>여자</td>\n",
       "      <td>26</td>\n",
       "      <td>160</td>\n",
       "    </tr>\n",
       "  </tbody>\n",
       "</table>\n",
       "</div>"
      ],
      "text/plain": [
       "    이름  성별  나이    키\n",
       "0  허준호  남자  24  183\n",
       "1  이가원  여자  23  162\n",
       "2  배규민  남자  21  179\n",
       "3  고고림  남자  28  182\n",
       "4  이새봄  여자  26  160"
      ]
     },
     "execution_count": 189,
     "metadata": {},
     "output_type": "execute_result"
    }
   ],
   "source": [
    "# 인덱스나 특정 열의 값을 기준으로 행을 정렬할 수 있음.\n",
    "# 기본 정렬 방향은 오름차순이며 내림차순 정렬은 ascending 인자를 False로 지정.\n",
    "\n",
    "# 인덱스 기준으로 정렬\n",
    "df.sort_index(axis=0).head()"
   ]
  },
  {
   "cell_type": "code",
   "execution_count": 192,
   "metadata": {},
   "outputs": [
    {
     "data": {
      "text/html": [
       "<div>\n",
       "<style scoped>\n",
       "    .dataframe tbody tr th:only-of-type {\n",
       "        vertical-align: middle;\n",
       "    }\n",
       "\n",
       "    .dataframe tbody tr th {\n",
       "        vertical-align: top;\n",
       "    }\n",
       "\n",
       "    .dataframe thead th {\n",
       "        text-align: right;\n",
       "    }\n",
       "</style>\n",
       "<table border=\"1\" class=\"dataframe\">\n",
       "  <thead>\n",
       "    <tr style=\"text-align: right;\">\n",
       "      <th></th>\n",
       "      <th>이름</th>\n",
       "      <th>성별</th>\n",
       "      <th>나이</th>\n",
       "      <th>키</th>\n",
       "    </tr>\n",
       "  </thead>\n",
       "  <tbody>\n",
       "    <tr>\n",
       "      <th>3</th>\n",
       "      <td>고고림</td>\n",
       "      <td>남자</td>\n",
       "      <td>28</td>\n",
       "      <td>182</td>\n",
       "    </tr>\n",
       "    <tr>\n",
       "      <th>4</th>\n",
       "      <td>이새봄</td>\n",
       "      <td>여자</td>\n",
       "      <td>26</td>\n",
       "      <td>160</td>\n",
       "    </tr>\n",
       "    <tr>\n",
       "      <th>0</th>\n",
       "      <td>허준호</td>\n",
       "      <td>남자</td>\n",
       "      <td>24</td>\n",
       "      <td>183</td>\n",
       "    </tr>\n",
       "    <tr>\n",
       "      <th>5</th>\n",
       "      <td>이루리</td>\n",
       "      <td>여자</td>\n",
       "      <td>24</td>\n",
       "      <td>163</td>\n",
       "    </tr>\n",
       "    <tr>\n",
       "      <th>6</th>\n",
       "      <td>오다현</td>\n",
       "      <td>여자</td>\n",
       "      <td>24</td>\n",
       "      <td>157</td>\n",
       "    </tr>\n",
       "    <tr>\n",
       "      <th>1</th>\n",
       "      <td>이가원</td>\n",
       "      <td>여자</td>\n",
       "      <td>23</td>\n",
       "      <td>162</td>\n",
       "    </tr>\n",
       "    <tr>\n",
       "      <th>2</th>\n",
       "      <td>배규민</td>\n",
       "      <td>남자</td>\n",
       "      <td>21</td>\n",
       "      <td>179</td>\n",
       "    </tr>\n",
       "  </tbody>\n",
       "</table>\n",
       "</div>"
      ],
      "text/plain": [
       "    이름  성별  나이    키\n",
       "3  고고림  남자  28  182\n",
       "4  이새봄  여자  26  160\n",
       "0  허준호  남자  24  183\n",
       "5  이루리  여자  24  163\n",
       "6  오다현  여자  24  157\n",
       "1  이가원  여자  23  162\n",
       "2  배규민  남자  21  179"
      ]
     },
     "execution_count": 192,
     "metadata": {},
     "output_type": "execute_result"
    }
   ],
   "source": [
    "### sort_values() 함수를 이용하여 특정 열을 기준으로 정렬.\n",
    "\n",
    "# 열 기준으로 정렬\n",
    "\n",
    "# 나이 열과 키 열을 기준으로 행을 정렬하기\n",
    "df.sort_values(by=['나이','키'],ascending=False).head(10)"
   ]
  },
  {
   "cell_type": "markdown",
   "metadata": {},
   "source": [
    "##### 데이터 조회"
   ]
  },
  {
   "cell_type": "code",
   "execution_count": 193,
   "metadata": {},
   "outputs": [
    {
     "data": {
      "text/html": [
       "<div>\n",
       "<style scoped>\n",
       "    .dataframe tbody tr th:only-of-type {\n",
       "        vertical-align: middle;\n",
       "    }\n",
       "\n",
       "    .dataframe tbody tr th {\n",
       "        vertical-align: top;\n",
       "    }\n",
       "\n",
       "    .dataframe thead th {\n",
       "        text-align: right;\n",
       "    }\n",
       "</style>\n",
       "<table border=\"1\" class=\"dataframe\">\n",
       "  <thead>\n",
       "    <tr style=\"text-align: right;\">\n",
       "      <th></th>\n",
       "      <th>이름</th>\n",
       "      <th>키</th>\n",
       "    </tr>\n",
       "  </thead>\n",
       "  <tbody>\n",
       "    <tr>\n",
       "      <th>0</th>\n",
       "      <td>허준호</td>\n",
       "      <td>183</td>\n",
       "    </tr>\n",
       "    <tr>\n",
       "      <th>1</th>\n",
       "      <td>이가원</td>\n",
       "      <td>162</td>\n",
       "    </tr>\n",
       "    <tr>\n",
       "      <th>2</th>\n",
       "      <td>배규민</td>\n",
       "      <td>179</td>\n",
       "    </tr>\n",
       "    <tr>\n",
       "      <th>3</th>\n",
       "      <td>고고림</td>\n",
       "      <td>182</td>\n",
       "    </tr>\n",
       "    <tr>\n",
       "      <th>4</th>\n",
       "      <td>이새봄</td>\n",
       "      <td>160</td>\n",
       "    </tr>\n",
       "  </tbody>\n",
       "</table>\n",
       "</div>"
      ],
      "text/plain": [
       "    이름    키\n",
       "0  허준호  183\n",
       "1  이가원  162\n",
       "2  배규민  179\n",
       "3  고고림  182\n",
       "4  이새봄  160"
      ]
     },
     "execution_count": 193,
     "metadata": {},
     "output_type": "execute_result"
    }
   ],
   "source": [
    "# 데이터프레임[조건식] _ 시리즈로 출력하기\n",
    "# 데이터프레임[[조건식]] _ 데이터프레임으로 출력하기\n",
    "\n",
    "# 열 이름으로 데이터 조회\n",
    "df[['이름','키']].head()"
   ]
  },
  {
   "cell_type": "code",
   "execution_count": 194,
   "metadata": {},
   "outputs": [
    {
     "data": {
      "text/html": [
       "<div>\n",
       "<style scoped>\n",
       "    .dataframe tbody tr th:only-of-type {\n",
       "        vertical-align: middle;\n",
       "    }\n",
       "\n",
       "    .dataframe tbody tr th {\n",
       "        vertical-align: top;\n",
       "    }\n",
       "\n",
       "    .dataframe thead th {\n",
       "        text-align: right;\n",
       "    }\n",
       "</style>\n",
       "<table border=\"1\" class=\"dataframe\">\n",
       "  <thead>\n",
       "    <tr style=\"text-align: right;\">\n",
       "      <th></th>\n",
       "      <th>이름</th>\n",
       "      <th>성별</th>\n",
       "      <th>나이</th>\n",
       "    </tr>\n",
       "  </thead>\n",
       "  <tbody>\n",
       "    <tr>\n",
       "      <th>1</th>\n",
       "      <td>이가원</td>\n",
       "      <td>여자</td>\n",
       "      <td>23</td>\n",
       "    </tr>\n",
       "    <tr>\n",
       "      <th>2</th>\n",
       "      <td>배규민</td>\n",
       "      <td>남자</td>\n",
       "      <td>21</td>\n",
       "    </tr>\n",
       "    <tr>\n",
       "      <th>3</th>\n",
       "      <td>고고림</td>\n",
       "      <td>남자</td>\n",
       "      <td>28</td>\n",
       "    </tr>\n",
       "  </tbody>\n",
       "</table>\n",
       "</div>"
      ],
      "text/plain": [
       "    이름  성별  나이\n",
       "1  이가원  여자  23\n",
       "2  배규민  남자  21\n",
       "3  고고림  남자  28"
      ]
     },
     "execution_count": 194,
     "metadata": {},
     "output_type": "execute_result"
    }
   ],
   "source": [
    "# 인덱스로 데이터 조회\n",
    "df.iloc[1:4,0:3]   # 두 번째 행부터 네 번째 행의 첫 번째 열부터 세 번째 열을 조회"
   ]
  },
  {
   "cell_type": "code",
   "execution_count": null,
   "metadata": {},
   "outputs": [
    {
     "data": {
      "text/html": [
       "<div>\n",
       "<style scoped>\n",
       "    .dataframe tbody tr th:only-of-type {\n",
       "        vertical-align: middle;\n",
       "    }\n",
       "\n",
       "    .dataframe tbody tr th {\n",
       "        vertical-align: top;\n",
       "    }\n",
       "\n",
       "    .dataframe thead th {\n",
       "        text-align: right;\n",
       "    }\n",
       "</style>\n",
       "<table border=\"1\" class=\"dataframe\">\n",
       "  <thead>\n",
       "    <tr style=\"text-align: right;\">\n",
       "      <th></th>\n",
       "      <th>이름</th>\n",
       "      <th>성별</th>\n",
       "      <th>나이</th>\n",
       "      <th>키</th>\n",
       "    </tr>\n",
       "  </thead>\n",
       "  <tbody>\n",
       "    <tr>\n",
       "      <th>0</th>\n",
       "      <td>허준호</td>\n",
       "      <td>남자</td>\n",
       "      <td>24</td>\n",
       "      <td>183</td>\n",
       "    </tr>\n",
       "    <tr>\n",
       "      <th>3</th>\n",
       "      <td>고고림</td>\n",
       "      <td>남자</td>\n",
       "      <td>28</td>\n",
       "      <td>182</td>\n",
       "    </tr>\n",
       "  </tbody>\n",
       "</table>\n",
       "</div>"
      ],
      "text/plain": [
       "    이름  성별  나이    키\n",
       "0  허준호  남자  24  183\n",
       "3  고고림  남자  28  182"
      ]
     },
     "metadata": {},
     "output_type": "display_data"
    }
   ],
   "source": [
    "# 조건식을 만족하는 데이터 조회(2)\n",
    "\n",
    "\n",
    "# 키 열의 데이터를 숫자형으로 입력하면 조건식으로 데이터를 조회할 수 있음."
   ]
  },
  {
   "cell_type": "code",
   "execution_count": null,
   "metadata": {},
   "outputs": [
    {
     "data": {
      "text/html": [
       "<div>\n",
       "<style scoped>\n",
       "    .dataframe tbody tr th:only-of-type {\n",
       "        vertical-align: middle;\n",
       "    }\n",
       "\n",
       "    .dataframe tbody tr th {\n",
       "        vertical-align: top;\n",
       "    }\n",
       "\n",
       "    .dataframe thead th {\n",
       "        text-align: right;\n",
       "    }\n",
       "</style>\n",
       "<table border=\"1\" class=\"dataframe\">\n",
       "  <thead>\n",
       "    <tr style=\"text-align: right;\">\n",
       "      <th></th>\n",
       "      <th>이름</th>\n",
       "      <th>성별</th>\n",
       "      <th>나이</th>\n",
       "      <th>키</th>\n",
       "    </tr>\n",
       "  </thead>\n",
       "  <tbody>\n",
       "    <tr>\n",
       "      <th>1</th>\n",
       "      <td>이가원</td>\n",
       "      <td>여자</td>\n",
       "      <td>23</td>\n",
       "      <td>162</td>\n",
       "    </tr>\n",
       "    <tr>\n",
       "      <th>2</th>\n",
       "      <td>배규민</td>\n",
       "      <td>남자</td>\n",
       "      <td>21</td>\n",
       "      <td>179</td>\n",
       "    </tr>\n",
       "  </tbody>\n",
       "</table>\n",
       "</div>"
      ],
      "text/plain": [
       "    이름  성별  나이    키\n",
       "1  이가원  여자  23  162\n",
       "2  배규민  남자  21  179"
      ]
     },
     "metadata": {},
     "output_type": "display_data"
    }
   ],
   "source": [
    "# 리스트 요소와 일치하는 데이터 조회\n",
    "    # 나이가 21세 또는 23세인 사람을 조회"
   ]
  },
  {
   "cell_type": "code",
   "execution_count": null,
   "metadata": {},
   "outputs": [
    {
     "data": {
      "text/html": [
       "<div>\n",
       "<style scoped>\n",
       "    .dataframe tbody tr th:only-of-type {\n",
       "        vertical-align: middle;\n",
       "    }\n",
       "\n",
       "    .dataframe tbody tr th {\n",
       "        vertical-align: top;\n",
       "    }\n",
       "\n",
       "    .dataframe thead th {\n",
       "        text-align: right;\n",
       "    }\n",
       "</style>\n",
       "<table border=\"1\" class=\"dataframe\">\n",
       "  <thead>\n",
       "    <tr style=\"text-align: right;\">\n",
       "      <th></th>\n",
       "      <th>이름</th>\n",
       "      <th>성별</th>\n",
       "      <th>나이</th>\n",
       "      <th>키</th>\n",
       "    </tr>\n",
       "  </thead>\n",
       "  <tbody>\n",
       "    <tr>\n",
       "      <th>1</th>\n",
       "      <td>이가원</td>\n",
       "      <td>여자</td>\n",
       "      <td>23</td>\n",
       "      <td>162</td>\n",
       "    </tr>\n",
       "    <tr>\n",
       "      <th>5</th>\n",
       "      <td>이루리</td>\n",
       "      <td>여자</td>\n",
       "      <td>24</td>\n",
       "      <td>163</td>\n",
       "    </tr>\n",
       "  </tbody>\n",
       "</table>\n",
       "</div>"
      ],
      "text/plain": [
       "    이름  성별  나이    키\n",
       "1  이가원  여자  23  162\n",
       "5  이루리  여자  24  163"
      ]
     },
     "metadata": {},
     "output_type": "display_data"
    }
   ],
   "source": [
    "# 두 조건식을 동시에 만족하는 데이터 조회"
   ]
  },
  {
   "cell_type": "code",
   "execution_count": null,
   "metadata": {},
   "outputs": [
    {
     "data": {
      "text/html": [
       "<div>\n",
       "<style scoped>\n",
       "    .dataframe tbody tr th:only-of-type {\n",
       "        vertical-align: middle;\n",
       "    }\n",
       "\n",
       "    .dataframe tbody tr th {\n",
       "        vertical-align: top;\n",
       "    }\n",
       "\n",
       "    .dataframe thead th {\n",
       "        text-align: right;\n",
       "    }\n",
       "</style>\n",
       "<table border=\"1\" class=\"dataframe\">\n",
       "  <thead>\n",
       "    <tr style=\"text-align: right;\">\n",
       "      <th></th>\n",
       "      <th>이름</th>\n",
       "      <th>성별</th>\n",
       "      <th>나이</th>\n",
       "      <th>키</th>\n",
       "    </tr>\n",
       "  </thead>\n",
       "  <tbody>\n",
       "    <tr>\n",
       "      <th>0</th>\n",
       "      <td>허준호</td>\n",
       "      <td>남자</td>\n",
       "      <td>24</td>\n",
       "      <td>183</td>\n",
       "    </tr>\n",
       "    <tr>\n",
       "      <th>2</th>\n",
       "      <td>배규민</td>\n",
       "      <td>남자</td>\n",
       "      <td>21</td>\n",
       "      <td>179</td>\n",
       "    </tr>\n",
       "    <tr>\n",
       "      <th>3</th>\n",
       "      <td>고고림</td>\n",
       "      <td>남자</td>\n",
       "      <td>28</td>\n",
       "      <td>182</td>\n",
       "    </tr>\n",
       "  </tbody>\n",
       "</table>\n",
       "</div>"
      ],
      "text/plain": [
       "    이름  성별  나이    키\n",
       "0  허준호  남자  24  183\n",
       "2  배규민  남자  21  179\n",
       "3  고고림  남자  28  182"
      ]
     },
     "metadata": {},
     "output_type": "display_data"
    }
   ],
   "source": [
    "# 두 조건식 중 하나 이상 만족하는 데이터 조회"
   ]
  },
  {
   "cell_type": "code",
   "execution_count": null,
   "metadata": {},
   "outputs": [
    {
     "data": {
      "text/html": [
       "<div>\n",
       "<style scoped>\n",
       "    .dataframe tbody tr th:only-of-type {\n",
       "        vertical-align: middle;\n",
       "    }\n",
       "\n",
       "    .dataframe tbody tr th {\n",
       "        vertical-align: top;\n",
       "    }\n",
       "\n",
       "    .dataframe thead th {\n",
       "        text-align: right;\n",
       "    }\n",
       "</style>\n",
       "<table border=\"1\" class=\"dataframe\">\n",
       "  <thead>\n",
       "    <tr style=\"text-align: right;\">\n",
       "      <th></th>\n",
       "      <th>이름</th>\n",
       "      <th>성별</th>\n",
       "      <th>나이</th>\n",
       "      <th>키</th>\n",
       "    </tr>\n",
       "  </thead>\n",
       "  <tbody>\n",
       "    <tr>\n",
       "      <th>4</th>\n",
       "      <td>이새봄</td>\n",
       "      <td>여자</td>\n",
       "      <td>26</td>\n",
       "      <td>160</td>\n",
       "    </tr>\n",
       "  </tbody>\n",
       "</table>\n",
       "</div>"
      ],
      "text/plain": [
       "    이름  성별  나이    키\n",
       "4  이새봄  여자  26  160"
      ]
     },
     "metadata": {},
     "output_type": "display_data"
    }
   ],
   "source": [
    "# 특정 문자열을 포함하는 문자열 데이터 조회\n",
    "   # 이름에 '봄' 들어간 사람을 조회"
   ]
  },
  {
   "cell_type": "markdown",
   "metadata": {},
   "source": [
    "##### 데이터프레임 통계"
   ]
  },
  {
   "cell_type": "code",
   "execution_count": null,
   "metadata": {},
   "outputs": [
    {
     "data": {
      "text/html": [
       "<div>\n",
       "<style scoped>\n",
       "    .dataframe tbody tr th:only-of-type {\n",
       "        vertical-align: middle;\n",
       "    }\n",
       "\n",
       "    .dataframe tbody tr th {\n",
       "        vertical-align: top;\n",
       "    }\n",
       "\n",
       "    .dataframe thead th {\n",
       "        text-align: right;\n",
       "    }\n",
       "</style>\n",
       "<table border=\"1\" class=\"dataframe\">\n",
       "  <thead>\n",
       "    <tr style=\"text-align: right;\">\n",
       "      <th></th>\n",
       "      <th>나이</th>\n",
       "      <th>키</th>\n",
       "    </tr>\n",
       "  </thead>\n",
       "  <tbody>\n",
       "    <tr>\n",
       "      <th>count</th>\n",
       "      <td>7.000000</td>\n",
       "      <td>7.000000</td>\n",
       "    </tr>\n",
       "    <tr>\n",
       "      <th>mean</th>\n",
       "      <td>24.285714</td>\n",
       "      <td>169.428571</td>\n",
       "    </tr>\n",
       "    <tr>\n",
       "      <th>std</th>\n",
       "      <td>2.214670</td>\n",
       "      <td>11.355720</td>\n",
       "    </tr>\n",
       "    <tr>\n",
       "      <th>min</th>\n",
       "      <td>21.000000</td>\n",
       "      <td>157.000000</td>\n",
       "    </tr>\n",
       "    <tr>\n",
       "      <th>25%</th>\n",
       "      <td>23.500000</td>\n",
       "      <td>161.000000</td>\n",
       "    </tr>\n",
       "    <tr>\n",
       "      <th>50%</th>\n",
       "      <td>24.000000</td>\n",
       "      <td>163.000000</td>\n",
       "    </tr>\n",
       "    <tr>\n",
       "      <th>75%</th>\n",
       "      <td>25.000000</td>\n",
       "      <td>180.500000</td>\n",
       "    </tr>\n",
       "    <tr>\n",
       "      <th>max</th>\n",
       "      <td>28.000000</td>\n",
       "      <td>183.000000</td>\n",
       "    </tr>\n",
       "  </tbody>\n",
       "</table>\n",
       "</div>"
      ],
      "text/plain": [
       "              나이           키\n",
       "count   7.000000    7.000000\n",
       "mean   24.285714  169.428571\n",
       "std     2.214670   11.355720\n",
       "min    21.000000  157.000000\n",
       "25%    23.500000  161.000000\n",
       "50%    24.000000  163.000000\n",
       "75%    25.000000  180.500000\n",
       "max    28.000000  183.000000"
      ]
     },
     "metadata": {},
     "output_type": "display_data"
    }
   ],
   "source": [
    "# 데이터프레임 통계 확인\n"
   ]
  },
  {
   "cell_type": "markdown",
   "metadata": {},
   "source": [
    "##### 데이터 갱신"
   ]
  },
  {
   "cell_type": "code",
   "execution_count": null,
   "metadata": {},
   "outputs": [
    {
     "data": {
      "text/html": [
       "<div>\n",
       "<style scoped>\n",
       "    .dataframe tbody tr th:only-of-type {\n",
       "        vertical-align: middle;\n",
       "    }\n",
       "\n",
       "    .dataframe tbody tr th {\n",
       "        vertical-align: top;\n",
       "    }\n",
       "\n",
       "    .dataframe thead th {\n",
       "        text-align: right;\n",
       "    }\n",
       "</style>\n",
       "<table border=\"1\" class=\"dataframe\">\n",
       "  <thead>\n",
       "    <tr style=\"text-align: right;\">\n",
       "      <th></th>\n",
       "      <th>이름</th>\n",
       "      <th>성별</th>\n",
       "      <th>나이</th>\n",
       "      <th>키</th>\n",
       "    </tr>\n",
       "  </thead>\n",
       "  <tbody>\n",
       "    <tr>\n",
       "      <th>4</th>\n",
       "      <td>이새봄</td>\n",
       "      <td>여자</td>\n",
       "      <td>26</td>\n",
       "      <td>165</td>\n",
       "    </tr>\n",
       "  </tbody>\n",
       "</table>\n",
       "</div>"
      ],
      "text/plain": [
       "    이름  성별  나이    키\n",
       "4  이새봄  여자  26  165"
      ]
     },
     "metadata": {},
     "output_type": "display_data"
    }
   ],
   "source": [
    "# 인덱스로 조회한 데이터를 수정\n",
    "\n",
    "# 인덱스 4번 행의 키 열 값을 5만큼 증가 시킨다."
   ]
  },
  {
   "cell_type": "code",
   "execution_count": null,
   "metadata": {},
   "outputs": [
    {
     "name": "stderr",
     "output_type": "stream",
     "text": [
      "C:\\Users\\SAMSUNG\\AppData\\Local\\Temp\\ipykernel_6628\\662328567.py:2: FutureWarning: Setting an item of incompatible dtype is deprecated and will raise an error in a future version of pandas. Value '['모름', '모름', '모름']' has dtype incompatible with int64, please explicitly cast to a compatible dtype first.\n",
      "  df.loc[1:3,'키'] = ['모름'] * 3\n"
     ]
    },
    {
     "data": {
      "text/html": [
       "<div>\n",
       "<style scoped>\n",
       "    .dataframe tbody tr th:only-of-type {\n",
       "        vertical-align: middle;\n",
       "    }\n",
       "\n",
       "    .dataframe tbody tr th {\n",
       "        vertical-align: top;\n",
       "    }\n",
       "\n",
       "    .dataframe thead th {\n",
       "        text-align: right;\n",
       "    }\n",
       "</style>\n",
       "<table border=\"1\" class=\"dataframe\">\n",
       "  <thead>\n",
       "    <tr style=\"text-align: right;\">\n",
       "      <th></th>\n",
       "      <th>이름</th>\n",
       "      <th>성별</th>\n",
       "      <th>나이</th>\n",
       "      <th>키</th>\n",
       "    </tr>\n",
       "  </thead>\n",
       "  <tbody>\n",
       "    <tr>\n",
       "      <th>0</th>\n",
       "      <td>허준호</td>\n",
       "      <td>남자</td>\n",
       "      <td>24</td>\n",
       "      <td>183</td>\n",
       "    </tr>\n",
       "    <tr>\n",
       "      <th>1</th>\n",
       "      <td>이가원</td>\n",
       "      <td>여자</td>\n",
       "      <td>23</td>\n",
       "      <td>모름</td>\n",
       "    </tr>\n",
       "    <tr>\n",
       "      <th>2</th>\n",
       "      <td>배규민</td>\n",
       "      <td>남자</td>\n",
       "      <td>21</td>\n",
       "      <td>모름</td>\n",
       "    </tr>\n",
       "    <tr>\n",
       "      <th>3</th>\n",
       "      <td>고고림</td>\n",
       "      <td>남자</td>\n",
       "      <td>28</td>\n",
       "      <td>모름</td>\n",
       "    </tr>\n",
       "    <tr>\n",
       "      <th>4</th>\n",
       "      <td>이새봄</td>\n",
       "      <td>여자</td>\n",
       "      <td>26</td>\n",
       "      <td>165</td>\n",
       "    </tr>\n",
       "    <tr>\n",
       "      <th>5</th>\n",
       "      <td>이루리</td>\n",
       "      <td>여자</td>\n",
       "      <td>24</td>\n",
       "      <td>163</td>\n",
       "    </tr>\n",
       "    <tr>\n",
       "      <th>6</th>\n",
       "      <td>오다현</td>\n",
       "      <td>여자</td>\n",
       "      <td>24</td>\n",
       "      <td>157</td>\n",
       "    </tr>\n",
       "  </tbody>\n",
       "</table>\n",
       "</div>"
      ],
      "text/plain": [
       "    이름  성별  나이    키\n",
       "0  허준호  남자  24  183\n",
       "1  이가원  여자  23   모름\n",
       "2  배규민  남자  21   모름\n",
       "3  고고림  남자  28   모름\n",
       "4  이새봄  여자  26  165\n",
       "5  이루리  여자  24  163\n",
       "6  오다현  여자  24  157"
      ]
     },
     "metadata": {},
     "output_type": "display_data"
    }
   ],
   "source": [
    "# 반복 연산자 사용\n",
    "\n",
    "# 인덱스 1번 행부터 3번 행까지 키 데이터를 '모름'으로 한꺼번에 변경."
   ]
  },
  {
   "cell_type": "markdown",
   "metadata": {},
   "source": [
    "##### 데이터프레임 구조 수정"
   ]
  },
  {
   "cell_type": "code",
   "execution_count": null,
   "metadata": {},
   "outputs": [
    {
     "data": {
      "text/html": [
       "<div>\n",
       "<style scoped>\n",
       "    .dataframe tbody tr th:only-of-type {\n",
       "        vertical-align: middle;\n",
       "    }\n",
       "\n",
       "    .dataframe tbody tr th {\n",
       "        vertical-align: top;\n",
       "    }\n",
       "\n",
       "    .dataframe thead th {\n",
       "        text-align: right;\n",
       "    }\n",
       "</style>\n",
       "<table border=\"1\" class=\"dataframe\">\n",
       "  <thead>\n",
       "    <tr style=\"text-align: right;\">\n",
       "      <th></th>\n",
       "      <th>성별</th>\n",
       "      <th>나이</th>\n",
       "      <th>키</th>\n",
       "    </tr>\n",
       "    <tr>\n",
       "      <th>이름</th>\n",
       "      <th></th>\n",
       "      <th></th>\n",
       "      <th></th>\n",
       "    </tr>\n",
       "  </thead>\n",
       "  <tbody>\n",
       "    <tr>\n",
       "      <th>허준호</th>\n",
       "      <td>남자</td>\n",
       "      <td>24</td>\n",
       "      <td>183</td>\n",
       "    </tr>\n",
       "    <tr>\n",
       "      <th>이가원</th>\n",
       "      <td>여자</td>\n",
       "      <td>23</td>\n",
       "      <td>모름</td>\n",
       "    </tr>\n",
       "    <tr>\n",
       "      <th>배규민</th>\n",
       "      <td>남자</td>\n",
       "      <td>21</td>\n",
       "      <td>모름</td>\n",
       "    </tr>\n",
       "  </tbody>\n",
       "</table>\n",
       "</div>"
      ],
      "text/plain": [
       "     성별  나이    키\n",
       "이름              \n",
       "허준호  남자  24  183\n",
       "이가원  여자  23   모름\n",
       "배규민  남자  21   모름"
      ]
     },
     "metadata": {},
     "output_type": "display_data"
    }
   ],
   "source": [
    "# 인덱스 변경(1)\n",
    "\n",
    "# inplace=True 를 지정하면 직업을 데이터프레임 원본에 적용."
   ]
  },
  {
   "cell_type": "code",
   "execution_count": null,
   "metadata": {},
   "outputs": [
    {
     "data": {
      "text/html": [
       "<div>\n",
       "<style scoped>\n",
       "    .dataframe tbody tr th:only-of-type {\n",
       "        vertical-align: middle;\n",
       "    }\n",
       "\n",
       "    .dataframe tbody tr th {\n",
       "        vertical-align: top;\n",
       "    }\n",
       "\n",
       "    .dataframe thead th {\n",
       "        text-align: right;\n",
       "    }\n",
       "</style>\n",
       "<table border=\"1\" class=\"dataframe\">\n",
       "  <thead>\n",
       "    <tr style=\"text-align: right;\">\n",
       "      <th></th>\n",
       "      <th>성별</th>\n",
       "      <th>나이</th>\n",
       "      <th>키</th>\n",
       "      <th>보너스</th>\n",
       "    </tr>\n",
       "    <tr>\n",
       "      <th>이름</th>\n",
       "      <th></th>\n",
       "      <th></th>\n",
       "      <th></th>\n",
       "      <th></th>\n",
       "    </tr>\n",
       "  </thead>\n",
       "  <tbody>\n",
       "    <tr>\n",
       "      <th>허준호</th>\n",
       "      <td>남자</td>\n",
       "      <td>24</td>\n",
       "      <td>183</td>\n",
       "      <td>240000</td>\n",
       "    </tr>\n",
       "    <tr>\n",
       "      <th>이가원</th>\n",
       "      <td>여자</td>\n",
       "      <td>23</td>\n",
       "      <td>모름</td>\n",
       "      <td>230000</td>\n",
       "    </tr>\n",
       "    <tr>\n",
       "      <th>배규민</th>\n",
       "      <td>남자</td>\n",
       "      <td>21</td>\n",
       "      <td>모름</td>\n",
       "      <td>210000</td>\n",
       "    </tr>\n",
       "  </tbody>\n",
       "</table>\n",
       "</div>"
      ],
      "text/plain": [
       "     성별  나이    키     보너스\n",
       "이름                      \n",
       "허준호  남자  24  183  240000\n",
       "이가원  여자  23   모름  230000\n",
       "배규민  남자  21   모름  210000"
      ]
     },
     "metadata": {},
     "output_type": "display_data"
    }
   ],
   "source": [
    "# 열 생성\n"
   ]
  },
  {
   "cell_type": "code",
   "execution_count": null,
   "metadata": {},
   "outputs": [
    {
     "data": {
      "text/html": [
       "<div>\n",
       "<style scoped>\n",
       "    .dataframe tbody tr th:only-of-type {\n",
       "        vertical-align: middle;\n",
       "    }\n",
       "\n",
       "    .dataframe tbody tr th {\n",
       "        vertical-align: top;\n",
       "    }\n",
       "\n",
       "    .dataframe thead th {\n",
       "        text-align: right;\n",
       "    }\n",
       "</style>\n",
       "<table border=\"1\" class=\"dataframe\">\n",
       "  <thead>\n",
       "    <tr style=\"text-align: right;\">\n",
       "      <th></th>\n",
       "      <th>성별</th>\n",
       "      <th>나이</th>\n",
       "      <th>키</th>\n",
       "    </tr>\n",
       "    <tr>\n",
       "      <th>이름</th>\n",
       "      <th></th>\n",
       "      <th></th>\n",
       "      <th></th>\n",
       "    </tr>\n",
       "  </thead>\n",
       "  <tbody>\n",
       "    <tr>\n",
       "      <th>허준호</th>\n",
       "      <td>남자</td>\n",
       "      <td>24</td>\n",
       "      <td>183</td>\n",
       "    </tr>\n",
       "    <tr>\n",
       "      <th>이가원</th>\n",
       "      <td>여자</td>\n",
       "      <td>23</td>\n",
       "      <td>모름</td>\n",
       "    </tr>\n",
       "    <tr>\n",
       "      <th>배규민</th>\n",
       "      <td>남자</td>\n",
       "      <td>21</td>\n",
       "      <td>모름</td>\n",
       "    </tr>\n",
       "  </tbody>\n",
       "</table>\n",
       "</div>"
      ],
      "text/plain": [
       "     성별  나이    키\n",
       "이름              \n",
       "허준호  남자  24  183\n",
       "이가원  여자  23   모름\n",
       "배규민  남자  21   모름"
      ]
     },
     "metadata": {},
     "output_type": "display_data"
    }
   ],
   "source": [
    "# 열 삭제\n"
   ]
  },
  {
   "cell_type": "code",
   "execution_count": null,
   "metadata": {},
   "outputs": [
    {
     "data": {
      "text/html": [
       "<div>\n",
       "<style scoped>\n",
       "    .dataframe tbody tr th:only-of-type {\n",
       "        vertical-align: middle;\n",
       "    }\n",
       "\n",
       "    .dataframe tbody tr th {\n",
       "        vertical-align: top;\n",
       "    }\n",
       "\n",
       "    .dataframe thead th {\n",
       "        text-align: right;\n",
       "    }\n",
       "</style>\n",
       "<table border=\"1\" class=\"dataframe\">\n",
       "  <thead>\n",
       "    <tr style=\"text-align: right;\">\n",
       "      <th></th>\n",
       "      <th>이름</th>\n",
       "      <th>성별</th>\n",
       "      <th>나이</th>\n",
       "      <th>키</th>\n",
       "    </tr>\n",
       "  </thead>\n",
       "  <tbody>\n",
       "    <tr>\n",
       "      <th>0</th>\n",
       "      <td>허준호</td>\n",
       "      <td>남자</td>\n",
       "      <td>24</td>\n",
       "      <td>183</td>\n",
       "    </tr>\n",
       "    <tr>\n",
       "      <th>1</th>\n",
       "      <td>이가원</td>\n",
       "      <td>여자</td>\n",
       "      <td>23</td>\n",
       "      <td>모름</td>\n",
       "    </tr>\n",
       "    <tr>\n",
       "      <th>2</th>\n",
       "      <td>배규민</td>\n",
       "      <td>남자</td>\n",
       "      <td>21</td>\n",
       "      <td>모름</td>\n",
       "    </tr>\n",
       "  </tbody>\n",
       "</table>\n",
       "</div>"
      ],
      "text/plain": [
       "    이름  성별  나이    키\n",
       "0  허준호  남자  24  183\n",
       "1  이가원  여자  23   모름\n",
       "2  배규민  남자  21   모름"
      ]
     },
     "metadata": {},
     "output_type": "display_data"
    }
   ],
   "source": []
  },
  {
   "cell_type": "code",
   "execution_count": null,
   "metadata": {},
   "outputs": [
    {
     "name": "stderr",
     "output_type": "stream",
     "text": [
      "C:\\Users\\SAMSUNG\\AppData\\Local\\Temp\\ipykernel_6628\\3498396558.py:3: FutureWarning: Downcasting behavior in `replace` is deprecated and will be removed in a future version. To retain the old behavior, explicitly call `result.infer_objects(copy=False)`. To opt-in to the future behavior, set `pd.set_option('future.no_silent_downcasting', True)`\n",
      "  df2 = df.replace(rep_cond)\n"
     ]
    },
    {
     "data": {
      "text/html": [
       "<div>\n",
       "<style scoped>\n",
       "    .dataframe tbody tr th:only-of-type {\n",
       "        vertical-align: middle;\n",
       "    }\n",
       "\n",
       "    .dataframe tbody tr th {\n",
       "        vertical-align: top;\n",
       "    }\n",
       "\n",
       "    .dataframe thead th {\n",
       "        text-align: right;\n",
       "    }\n",
       "</style>\n",
       "<table border=\"1\" class=\"dataframe\">\n",
       "  <thead>\n",
       "    <tr style=\"text-align: right;\">\n",
       "      <th></th>\n",
       "      <th>이름</th>\n",
       "      <th>성별</th>\n",
       "      <th>나이</th>\n",
       "      <th>키</th>\n",
       "    </tr>\n",
       "  </thead>\n",
       "  <tbody>\n",
       "    <tr>\n",
       "      <th>0</th>\n",
       "      <td>허준호</td>\n",
       "      <td>1</td>\n",
       "      <td>24</td>\n",
       "      <td>183</td>\n",
       "    </tr>\n",
       "    <tr>\n",
       "      <th>1</th>\n",
       "      <td>이가원</td>\n",
       "      <td>0</td>\n",
       "      <td>23</td>\n",
       "      <td>모름</td>\n",
       "    </tr>\n",
       "    <tr>\n",
       "      <th>2</th>\n",
       "      <td>배규민</td>\n",
       "      <td>1</td>\n",
       "      <td>21</td>\n",
       "      <td>모름</td>\n",
       "    </tr>\n",
       "  </tbody>\n",
       "</table>\n",
       "</div>"
      ],
      "text/plain": [
       "    이름  성별  나이    키\n",
       "0  허준호   1  24  183\n",
       "1  이가원   0  23   모름\n",
       "2  배규민   1  21   모름"
      ]
     },
     "metadata": {},
     "output_type": "display_data"
    }
   ],
   "source": [
    "# 데이터 치환\n",
    "\n",
    "# 성별이 남자일 때 1, 여자일 때 0으로 치환한 데이터프레임을 df2로 저장"
   ]
  },
  {
   "cell_type": "code",
   "execution_count": null,
   "metadata": {},
   "outputs": [
    {
     "data": {
      "text/html": [
       "<div>\n",
       "<style scoped>\n",
       "    .dataframe tbody tr th:only-of-type {\n",
       "        vertical-align: middle;\n",
       "    }\n",
       "\n",
       "    .dataframe tbody tr th {\n",
       "        vertical-align: top;\n",
       "    }\n",
       "\n",
       "    .dataframe thead th {\n",
       "        text-align: right;\n",
       "    }\n",
       "</style>\n",
       "<table border=\"1\" class=\"dataframe\">\n",
       "  <thead>\n",
       "    <tr style=\"text-align: right;\">\n",
       "      <th></th>\n",
       "      <th>성별</th>\n",
       "      <th>평균 키</th>\n",
       "      <th>키의 표준편차</th>\n",
       "    </tr>\n",
       "  </thead>\n",
       "  <tbody>\n",
       "    <tr>\n",
       "      <th>0</th>\n",
       "      <td>남자</td>\n",
       "      <td>181.333333</td>\n",
       "      <td>2.081666</td>\n",
       "    </tr>\n",
       "    <tr>\n",
       "      <th>1</th>\n",
       "      <td>여자</td>\n",
       "      <td>160.500000</td>\n",
       "      <td>2.645751</td>\n",
       "    </tr>\n",
       "  </tbody>\n",
       "</table>\n",
       "</div>"
      ],
      "text/plain": [
       "   성별        평균 키   키의 표준편차\n",
       "0  남자  181.333333  2.081666\n",
       "1  여자  160.500000  2.645751"
      ]
     },
     "metadata": {},
     "output_type": "display_data"
    }
   ],
   "source": [
    "# 데이터프레임의 값 연산\n",
    "\n",
    "\n",
    "# 성별 평균 키\n",
    "\n",
    "# 성별 키의 표준편차\n",
    "\n"
   ]
  },
  {
   "cell_type": "markdown",
   "metadata": {},
   "source": [
    "# 6week"
   ]
  },
  {
   "cell_type": "code",
   "execution_count": null,
   "metadata": {},
   "outputs": [
    {
     "data": {
      "text/html": [
       "<div>\n",
       "<style scoped>\n",
       "    .dataframe tbody tr th:only-of-type {\n",
       "        vertical-align: middle;\n",
       "    }\n",
       "\n",
       "    .dataframe tbody tr th {\n",
       "        vertical-align: top;\n",
       "    }\n",
       "\n",
       "    .dataframe thead th {\n",
       "        text-align: right;\n",
       "    }\n",
       "</style>\n",
       "<table border=\"1\" class=\"dataframe\">\n",
       "  <thead>\n",
       "    <tr style=\"text-align: right;\">\n",
       "      <th></th>\n",
       "      <th>0</th>\n",
       "    </tr>\n",
       "  </thead>\n",
       "  <tbody>\n",
       "    <tr>\n",
       "      <th>0</th>\n",
       "      <td>1</td>\n",
       "    </tr>\n",
       "    <tr>\n",
       "      <th>1</th>\n",
       "      <td>2</td>\n",
       "    </tr>\n",
       "    <tr>\n",
       "      <th>2</th>\n",
       "      <td>3</td>\n",
       "    </tr>\n",
       "    <tr>\n",
       "      <th>3</th>\n",
       "      <td>4</td>\n",
       "    </tr>\n",
       "    <tr>\n",
       "      <th>4</th>\n",
       "      <td>5</td>\n",
       "    </tr>\n",
       "  </tbody>\n",
       "</table>\n",
       "</div>"
      ],
      "text/plain": [
       "   0\n",
       "0  1\n",
       "1  2\n",
       "2  3\n",
       "3  4\n",
       "4  5"
      ]
     },
     "metadata": {},
     "output_type": "display_data"
    }
   ],
   "source": []
  },
  {
   "cell_type": "code",
   "execution_count": null,
   "metadata": {},
   "outputs": [
    {
     "data": {
      "text/html": [
       "<div>\n",
       "<style scoped>\n",
       "    .dataframe tbody tr th:only-of-type {\n",
       "        vertical-align: middle;\n",
       "    }\n",
       "\n",
       "    .dataframe tbody tr th {\n",
       "        vertical-align: top;\n",
       "    }\n",
       "\n",
       "    .dataframe thead th {\n",
       "        text-align: right;\n",
       "    }\n",
       "</style>\n",
       "<table border=\"1\" class=\"dataframe\">\n",
       "  <thead>\n",
       "    <tr style=\"text-align: right;\">\n",
       "      <th></th>\n",
       "      <th>0</th>\n",
       "      <th>player</th>\n",
       "    </tr>\n",
       "  </thead>\n",
       "  <tbody>\n",
       "    <tr>\n",
       "      <th>0</th>\n",
       "      <td>1</td>\n",
       "      <td>sonny</td>\n",
       "    </tr>\n",
       "    <tr>\n",
       "      <th>1</th>\n",
       "      <td>2</td>\n",
       "      <td>lee</td>\n",
       "    </tr>\n",
       "    <tr>\n",
       "      <th>2</th>\n",
       "      <td>3</td>\n",
       "      <td>kim</td>\n",
       "    </tr>\n",
       "    <tr>\n",
       "      <th>3</th>\n",
       "      <td>4</td>\n",
       "      <td>hwang</td>\n",
       "    </tr>\n",
       "    <tr>\n",
       "      <th>4</th>\n",
       "      <td>5</td>\n",
       "      <td>park</td>\n",
       "    </tr>\n",
       "  </tbody>\n",
       "</table>\n",
       "</div>"
      ],
      "text/plain": [
       "   0 player\n",
       "0  1  sonny\n",
       "1  2    lee\n",
       "2  3    kim\n",
       "3  4  hwang\n",
       "4  5   park"
      ]
     },
     "metadata": {},
     "output_type": "display_data"
    }
   ],
   "source": [
    "# 열 추가 :player => 'sonny','lee','kim','hwang','park'\n",
    "\n"
   ]
  },
  {
   "cell_type": "code",
   "execution_count": null,
   "metadata": {},
   "outputs": [
    {
     "data": {
      "text/plain": [
       "Index([0, 'player'], dtype='object')"
      ]
     },
     "metadata": {},
     "output_type": "display_data"
    }
   ],
   "source": []
  },
  {
   "cell_type": "code",
   "execution_count": null,
   "metadata": {},
   "outputs": [
    {
     "data": {
      "text/html": [
       "<div>\n",
       "<style scoped>\n",
       "    .dataframe tbody tr th:only-of-type {\n",
       "        vertical-align: middle;\n",
       "    }\n",
       "\n",
       "    .dataframe tbody tr th {\n",
       "        vertical-align: top;\n",
       "    }\n",
       "\n",
       "    .dataframe thead th {\n",
       "        text-align: right;\n",
       "    }\n",
       "</style>\n",
       "<table border=\"1\" class=\"dataframe\">\n",
       "  <thead>\n",
       "    <tr style=\"text-align: right;\">\n",
       "      <th></th>\n",
       "      <th>no</th>\n",
       "      <th>player</th>\n",
       "    </tr>\n",
       "  </thead>\n",
       "  <tbody>\n",
       "    <tr>\n",
       "      <th>0</th>\n",
       "      <td>1</td>\n",
       "      <td>sonny</td>\n",
       "    </tr>\n",
       "    <tr>\n",
       "      <th>1</th>\n",
       "      <td>2</td>\n",
       "      <td>lee</td>\n",
       "    </tr>\n",
       "    <tr>\n",
       "      <th>2</th>\n",
       "      <td>3</td>\n",
       "      <td>kim</td>\n",
       "    </tr>\n",
       "    <tr>\n",
       "      <th>3</th>\n",
       "      <td>4</td>\n",
       "      <td>hwang</td>\n",
       "    </tr>\n",
       "    <tr>\n",
       "      <th>4</th>\n",
       "      <td>5</td>\n",
       "      <td>park</td>\n",
       "    </tr>\n",
       "  </tbody>\n",
       "</table>\n",
       "</div>"
      ],
      "text/plain": [
       "   no player\n",
       "0   1  sonny\n",
       "1   2    lee\n",
       "2   3    kim\n",
       "3   4  hwang\n",
       "4   5   park"
      ]
     },
     "metadata": {},
     "output_type": "display_data"
    }
   ],
   "source": [
    "# 컬럽 이름 수정\n"
   ]
  },
  {
   "cell_type": "code",
   "execution_count": null,
   "metadata": {},
   "outputs": [
    {
     "data": {
      "text/plain": [
       "array([[1, 'sonny'],\n",
       "       [2, 'lee'],\n",
       "       [3, 'kim'],\n",
       "       [4, 'hwang'],\n",
       "       [5, 'park']], dtype=object)"
      ]
     },
     "metadata": {},
     "output_type": "display_data"
    }
   ],
   "source": [
    "\n",
    "# 리스트 타입 형태이며, 데이터 값만 나온다.\n",
    "# \"리스트 안에 리스트가 있다.\" => 2차원 리스트"
   ]
  },
  {
   "cell_type": "code",
   "execution_count": null,
   "metadata": {},
   "outputs": [
    {
     "data": {
      "text/plain": [
       "[[7, 'sonny'], [10, 'lee'], [3, 'kim']]"
      ]
     },
     "metadata": {},
     "output_type": "display_data"
    }
   ],
   "source": [
    "# 2차원 리스트 -> 데이터프레임\n",
    "# 데이터가 여러개 있을 때는 list 형태로\n"
   ]
  },
  {
   "cell_type": "code",
   "execution_count": null,
   "metadata": {},
   "outputs": [
    {
     "data": {
      "text/html": [
       "<div>\n",
       "<style scoped>\n",
       "    .dataframe tbody tr th:only-of-type {\n",
       "        vertical-align: middle;\n",
       "    }\n",
       "\n",
       "    .dataframe tbody tr th {\n",
       "        vertical-align: top;\n",
       "    }\n",
       "\n",
       "    .dataframe thead th {\n",
       "        text-align: right;\n",
       "    }\n",
       "</style>\n",
       "<table border=\"1\" class=\"dataframe\">\n",
       "  <thead>\n",
       "    <tr style=\"text-align: right;\">\n",
       "      <th></th>\n",
       "      <th>0</th>\n",
       "      <th>1</th>\n",
       "    </tr>\n",
       "  </thead>\n",
       "  <tbody>\n",
       "    <tr>\n",
       "      <th>0</th>\n",
       "      <td>7</td>\n",
       "      <td>sonny</td>\n",
       "    </tr>\n",
       "    <tr>\n",
       "      <th>1</th>\n",
       "      <td>10</td>\n",
       "      <td>lee</td>\n",
       "    </tr>\n",
       "    <tr>\n",
       "      <th>2</th>\n",
       "      <td>3</td>\n",
       "      <td>kim</td>\n",
       "    </tr>\n",
       "  </tbody>\n",
       "</table>\n",
       "</div>"
      ],
      "text/plain": [
       "    0      1\n",
       "0   7  sonny\n",
       "1  10    lee\n",
       "2   3    kim"
      ]
     },
     "metadata": {},
     "output_type": "display_data"
    }
   ],
   "source": [
    "# list -> df으로 변환\n",
    "\n",
    "# df 는 그저 변수명인것을 참고하라"
   ]
  },
  {
   "cell_type": "code",
   "execution_count": null,
   "metadata": {},
   "outputs": [
    {
     "data": {
      "text/html": [
       "<div>\n",
       "<style scoped>\n",
       "    .dataframe tbody tr th:only-of-type {\n",
       "        vertical-align: middle;\n",
       "    }\n",
       "\n",
       "    .dataframe tbody tr th {\n",
       "        vertical-align: top;\n",
       "    }\n",
       "\n",
       "    .dataframe thead th {\n",
       "        text-align: right;\n",
       "    }\n",
       "</style>\n",
       "<table border=\"1\" class=\"dataframe\">\n",
       "  <thead>\n",
       "    <tr style=\"text-align: right;\">\n",
       "      <th></th>\n",
       "      <th>no</th>\n",
       "      <th>player</th>\n",
       "    </tr>\n",
       "  </thead>\n",
       "  <tbody>\n",
       "    <tr>\n",
       "      <th>0</th>\n",
       "      <td>7</td>\n",
       "      <td>sonny</td>\n",
       "    </tr>\n",
       "    <tr>\n",
       "      <th>1</th>\n",
       "      <td>10</td>\n",
       "      <td>lee</td>\n",
       "    </tr>\n",
       "    <tr>\n",
       "      <th>2</th>\n",
       "      <td>3</td>\n",
       "      <td>kim</td>\n",
       "    </tr>\n",
       "  </tbody>\n",
       "</table>\n",
       "</div>"
      ],
      "text/plain": [
       "   no player\n",
       "0   7  sonny\n",
       "1  10    lee\n",
       "2   3    kim"
      ]
     },
     "metadata": {},
     "output_type": "display_data"
    }
   ],
   "source": [
    "# column 명 바꾸기\n"
   ]
  },
  {
   "cell_type": "code",
   "execution_count": null,
   "metadata": {},
   "outputs": [
    {
     "data": {
      "text/plain": [
       "{'name': ['sonny', 'kangin', 'minjae', 'channy'],\n",
       " 'no': [7, 9, 3, 10],\n",
       " 'age': [32, 23, 28, 28]}"
      ]
     },
     "metadata": {},
     "output_type": "display_data"
    }
   ],
   "source": [
    "# 딕셔너리 -> 데이터프레임\n",
    "\n",
    "#딕셔너리 타입을 데이터프레임으로 { 키(열이름):value(데이터) }\n"
   ]
  },
  {
   "cell_type": "code",
   "execution_count": null,
   "metadata": {},
   "outputs": [
    {
     "data": {
      "text/html": [
       "<div>\n",
       "<style scoped>\n",
       "    .dataframe tbody tr th:only-of-type {\n",
       "        vertical-align: middle;\n",
       "    }\n",
       "\n",
       "    .dataframe tbody tr th {\n",
       "        vertical-align: top;\n",
       "    }\n",
       "\n",
       "    .dataframe thead th {\n",
       "        text-align: right;\n",
       "    }\n",
       "</style>\n",
       "<table border=\"1\" class=\"dataframe\">\n",
       "  <thead>\n",
       "    <tr style=\"text-align: right;\">\n",
       "      <th></th>\n",
       "      <th>name</th>\n",
       "      <th>no</th>\n",
       "      <th>age</th>\n",
       "    </tr>\n",
       "  </thead>\n",
       "  <tbody>\n",
       "    <tr>\n",
       "      <th>0</th>\n",
       "      <td>sonny</td>\n",
       "      <td>7</td>\n",
       "      <td>32</td>\n",
       "    </tr>\n",
       "    <tr>\n",
       "      <th>1</th>\n",
       "      <td>kangin</td>\n",
       "      <td>9</td>\n",
       "      <td>23</td>\n",
       "    </tr>\n",
       "    <tr>\n",
       "      <th>2</th>\n",
       "      <td>minjae</td>\n",
       "      <td>3</td>\n",
       "      <td>28</td>\n",
       "    </tr>\n",
       "    <tr>\n",
       "      <th>3</th>\n",
       "      <td>channy</td>\n",
       "      <td>10</td>\n",
       "      <td>28</td>\n",
       "    </tr>\n",
       "  </tbody>\n",
       "</table>\n",
       "</div>"
      ],
      "text/plain": [
       "     name  no  age\n",
       "0   sonny   7   32\n",
       "1  kangin   9   23\n",
       "2  minjae   3   28\n",
       "3  channy  10   28"
      ]
     },
     "metadata": {},
     "output_type": "display_data"
    }
   ],
   "source": []
  },
  {
   "cell_type": "code",
   "execution_count": null,
   "metadata": {},
   "outputs": [
    {
     "data": {
      "text/plain": [
       "(4, 3)"
      ]
     },
     "metadata": {},
     "output_type": "display_data"
    }
   ],
   "source": [
    "# 데이터프레임 크기\n"
   ]
  },
  {
   "cell_type": "code",
   "execution_count": null,
   "metadata": {},
   "outputs": [
    {
     "data": {
      "text/html": [
       "<div>\n",
       "<style scoped>\n",
       "    .dataframe tbody tr th:only-of-type {\n",
       "        vertical-align: middle;\n",
       "    }\n",
       "\n",
       "    .dataframe tbody tr th {\n",
       "        vertical-align: top;\n",
       "    }\n",
       "\n",
       "    .dataframe thead th {\n",
       "        text-align: right;\n",
       "    }\n",
       "</style>\n",
       "<table border=\"1\" class=\"dataframe\">\n",
       "  <thead>\n",
       "    <tr style=\"text-align: right;\">\n",
       "      <th></th>\n",
       "      <th>name</th>\n",
       "      <th>no</th>\n",
       "      <th>age</th>\n",
       "    </tr>\n",
       "  </thead>\n",
       "  <tbody>\n",
       "    <tr>\n",
       "      <th>0</th>\n",
       "      <td>sonny</td>\n",
       "      <td>7</td>\n",
       "      <td>32</td>\n",
       "    </tr>\n",
       "    <tr>\n",
       "      <th>1</th>\n",
       "      <td>kangin</td>\n",
       "      <td>9</td>\n",
       "      <td>23</td>\n",
       "    </tr>\n",
       "    <tr>\n",
       "      <th>2</th>\n",
       "      <td>minjae</td>\n",
       "      <td>3</td>\n",
       "      <td>28</td>\n",
       "    </tr>\n",
       "  </tbody>\n",
       "</table>\n",
       "</div>"
      ],
      "text/plain": [
       "     name  no  age\n",
       "0   sonny   7   32\n",
       "1  kangin   9   23\n",
       "2  minjae   3   28"
      ]
     },
     "metadata": {},
     "output_type": "display_data"
    }
   ],
   "source": [
    "# 데이터프레임 처음 3행 출력\n"
   ]
  },
  {
   "cell_type": "code",
   "execution_count": null,
   "metadata": {},
   "outputs": [
    {
     "data": {
      "text/html": [
       "<div>\n",
       "<style scoped>\n",
       "    .dataframe tbody tr th:only-of-type {\n",
       "        vertical-align: middle;\n",
       "    }\n",
       "\n",
       "    .dataframe tbody tr th {\n",
       "        vertical-align: top;\n",
       "    }\n",
       "\n",
       "    .dataframe thead th {\n",
       "        text-align: right;\n",
       "    }\n",
       "</style>\n",
       "<table border=\"1\" class=\"dataframe\">\n",
       "  <thead>\n",
       "    <tr style=\"text-align: right;\">\n",
       "      <th></th>\n",
       "      <th>name</th>\n",
       "      <th>no</th>\n",
       "      <th>age</th>\n",
       "    </tr>\n",
       "  </thead>\n",
       "  <tbody>\n",
       "    <tr>\n",
       "      <th>1</th>\n",
       "      <td>kangin</td>\n",
       "      <td>9</td>\n",
       "      <td>23</td>\n",
       "    </tr>\n",
       "    <tr>\n",
       "      <th>2</th>\n",
       "      <td>minjae</td>\n",
       "      <td>3</td>\n",
       "      <td>28</td>\n",
       "    </tr>\n",
       "    <tr>\n",
       "      <th>3</th>\n",
       "      <td>channy</td>\n",
       "      <td>10</td>\n",
       "      <td>28</td>\n",
       "    </tr>\n",
       "  </tbody>\n",
       "</table>\n",
       "</div>"
      ],
      "text/plain": [
       "     name  no  age\n",
       "1  kangin   9   23\n",
       "2  minjae   3   28\n",
       "3  channy  10   28"
      ]
     },
     "metadata": {},
     "output_type": "display_data"
    }
   ],
   "source": [
    "# 데이터프레임 끝 3행 출력\n"
   ]
  },
  {
   "cell_type": "code",
   "execution_count": null,
   "metadata": {},
   "outputs": [
    {
     "name": "stdout",
     "output_type": "stream",
     "text": [
      "<class 'pandas.core.frame.DataFrame'>\n",
      "RangeIndex: 4 entries, 0 to 3\n",
      "Data columns (total 3 columns):\n",
      " #   Column  Non-Null Count  Dtype \n",
      "---  ------  --------------  ----- \n",
      " 0   name    4 non-null      object\n",
      " 1   no      4 non-null      int64 \n",
      " 2   age     4 non-null      int64 \n",
      "dtypes: int64(2), object(1)\n",
      "memory usage: 228.0+ bytes\n"
     ]
    }
   ],
   "source": [
    "# 데이터 속성 확인\n"
   ]
  },
  {
   "cell_type": "code",
   "execution_count": null,
   "metadata": {},
   "outputs": [
    {
     "data": {
      "text/html": [
       "<div>\n",
       "<style scoped>\n",
       "    .dataframe tbody tr th:only-of-type {\n",
       "        vertical-align: middle;\n",
       "    }\n",
       "\n",
       "    .dataframe tbody tr th {\n",
       "        vertical-align: top;\n",
       "    }\n",
       "\n",
       "    .dataframe thead th {\n",
       "        text-align: right;\n",
       "    }\n",
       "</style>\n",
       "<table border=\"1\" class=\"dataframe\">\n",
       "  <thead>\n",
       "    <tr style=\"text-align: right;\">\n",
       "      <th></th>\n",
       "      <th>no</th>\n",
       "      <th>age</th>\n",
       "    </tr>\n",
       "  </thead>\n",
       "  <tbody>\n",
       "    <tr>\n",
       "      <th>count</th>\n",
       "      <td>4.000000</td>\n",
       "      <td>4.000000</td>\n",
       "    </tr>\n",
       "    <tr>\n",
       "      <th>mean</th>\n",
       "      <td>7.250000</td>\n",
       "      <td>27.750000</td>\n",
       "    </tr>\n",
       "    <tr>\n",
       "      <th>std</th>\n",
       "      <td>3.095696</td>\n",
       "      <td>3.685557</td>\n",
       "    </tr>\n",
       "    <tr>\n",
       "      <th>min</th>\n",
       "      <td>3.000000</td>\n",
       "      <td>23.000000</td>\n",
       "    </tr>\n",
       "    <tr>\n",
       "      <th>25%</th>\n",
       "      <td>6.000000</td>\n",
       "      <td>26.750000</td>\n",
       "    </tr>\n",
       "    <tr>\n",
       "      <th>50%</th>\n",
       "      <td>8.000000</td>\n",
       "      <td>28.000000</td>\n",
       "    </tr>\n",
       "    <tr>\n",
       "      <th>75%</th>\n",
       "      <td>9.250000</td>\n",
       "      <td>29.000000</td>\n",
       "    </tr>\n",
       "    <tr>\n",
       "      <th>max</th>\n",
       "      <td>10.000000</td>\n",
       "      <td>32.000000</td>\n",
       "    </tr>\n",
       "  </tbody>\n",
       "</table>\n",
       "</div>"
      ],
      "text/plain": [
       "              no        age\n",
       "count   4.000000   4.000000\n",
       "mean    7.250000  27.750000\n",
       "std     3.095696   3.685557\n",
       "min     3.000000  23.000000\n",
       "25%     6.000000  26.750000\n",
       "50%     8.000000  28.000000\n",
       "75%     9.250000  29.000000\n",
       "max    10.000000  32.000000"
      ]
     },
     "metadata": {},
     "output_type": "display_data"
    }
   ],
   "source": [
    "# 데이터프레임 기술 통계\n",
    "\n",
    "# 데이터 받으면 핸들링 하기전의 기본 자세\n",
    "## shape -> head() or tail() -> info() -> describe()"
   ]
  },
  {
   "cell_type": "code",
   "execution_count": null,
   "metadata": {},
   "outputs": [
    {
     "data": {
      "text/html": [
       "<div>\n",
       "<style scoped>\n",
       "    .dataframe tbody tr th:only-of-type {\n",
       "        vertical-align: middle;\n",
       "    }\n",
       "\n",
       "    .dataframe tbody tr th {\n",
       "        vertical-align: top;\n",
       "    }\n",
       "\n",
       "    .dataframe thead th {\n",
       "        text-align: right;\n",
       "    }\n",
       "</style>\n",
       "<table border=\"1\" class=\"dataframe\">\n",
       "  <thead>\n",
       "    <tr style=\"text-align: right;\">\n",
       "      <th></th>\n",
       "      <th>name</th>\n",
       "      <th>no</th>\n",
       "      <th>age</th>\n",
       "      <th>weight</th>\n",
       "    </tr>\n",
       "  </thead>\n",
       "  <tbody>\n",
       "    <tr>\n",
       "      <th>0</th>\n",
       "      <td>sonny</td>\n",
       "      <td>7</td>\n",
       "      <td>32</td>\n",
       "      <td>75</td>\n",
       "    </tr>\n",
       "    <tr>\n",
       "      <th>1</th>\n",
       "      <td>kangin</td>\n",
       "      <td>9</td>\n",
       "      <td>23</td>\n",
       "      <td>60</td>\n",
       "    </tr>\n",
       "    <tr>\n",
       "      <th>2</th>\n",
       "      <td>minjae</td>\n",
       "      <td>3</td>\n",
       "      <td>28</td>\n",
       "      <td>80</td>\n",
       "    </tr>\n",
       "    <tr>\n",
       "      <th>3</th>\n",
       "      <td>channy</td>\n",
       "      <td>10</td>\n",
       "      <td>28</td>\n",
       "      <td>80</td>\n",
       "    </tr>\n",
       "  </tbody>\n",
       "</table>\n",
       "</div>"
      ],
      "text/plain": [
       "     name  no  age  weight\n",
       "0   sonny   7   32      75\n",
       "1  kangin   9   23      60\n",
       "2  minjae   3   28      80\n",
       "3  channy  10   28      80"
      ]
     },
     "metadata": {},
     "output_type": "display_data"
    }
   ],
   "source": [
    "# 열 추가\n"
   ]
  },
  {
   "cell_type": "code",
   "execution_count": null,
   "metadata": {},
   "outputs": [
    {
     "data": {
      "text/html": [
       "<div>\n",
       "<style scoped>\n",
       "    .dataframe tbody tr th:only-of-type {\n",
       "        vertical-align: middle;\n",
       "    }\n",
       "\n",
       "    .dataframe tbody tr th {\n",
       "        vertical-align: top;\n",
       "    }\n",
       "\n",
       "    .dataframe thead th {\n",
       "        text-align: right;\n",
       "    }\n",
       "</style>\n",
       "<table border=\"1\" class=\"dataframe\">\n",
       "  <thead>\n",
       "    <tr style=\"text-align: right;\">\n",
       "      <th></th>\n",
       "      <th>name</th>\n",
       "      <th>no</th>\n",
       "      <th>age</th>\n",
       "      <th>weight</th>\n",
       "      <th>height</th>\n",
       "    </tr>\n",
       "  </thead>\n",
       "  <tbody>\n",
       "    <tr>\n",
       "      <th>0</th>\n",
       "      <td>sonny</td>\n",
       "      <td>7</td>\n",
       "      <td>32</td>\n",
       "      <td>75</td>\n",
       "      <td>180</td>\n",
       "    </tr>\n",
       "    <tr>\n",
       "      <th>1</th>\n",
       "      <td>kangin</td>\n",
       "      <td>9</td>\n",
       "      <td>23</td>\n",
       "      <td>60</td>\n",
       "      <td>171</td>\n",
       "    </tr>\n",
       "    <tr>\n",
       "      <th>2</th>\n",
       "      <td>minjae</td>\n",
       "      <td>3</td>\n",
       "      <td>28</td>\n",
       "      <td>80</td>\n",
       "      <td>190</td>\n",
       "    </tr>\n",
       "    <tr>\n",
       "      <th>3</th>\n",
       "      <td>channy</td>\n",
       "      <td>10</td>\n",
       "      <td>28</td>\n",
       "      <td>80</td>\n",
       "      <td>179</td>\n",
       "    </tr>\n",
       "  </tbody>\n",
       "</table>\n",
       "</div>"
      ],
      "text/plain": [
       "     name  no  age  weight  height\n",
       "0   sonny   7   32      75     180\n",
       "1  kangin   9   23      60     171\n",
       "2  minjae   3   28      80     190\n",
       "3  channy  10   28      80     179"
      ]
     },
     "metadata": {},
     "output_type": "display_data"
    }
   ],
   "source": []
  },
  {
   "cell_type": "code",
   "execution_count": null,
   "metadata": {},
   "outputs": [
    {
     "data": {
      "text/plain": [
       "0     sonny\n",
       "1    kangin\n",
       "2    minjae\n",
       "3    channy\n",
       "Name: name, dtype: object"
      ]
     },
     "metadata": {},
     "output_type": "display_data"
    }
   ],
   "source": [
    "# 특정 열 선택 출력\n"
   ]
  },
  {
   "cell_type": "code",
   "execution_count": null,
   "metadata": {},
   "outputs": [
    {
     "data": {
      "text/plain": [
       "name      kangin\n",
       "no             9\n",
       "age           23\n",
       "weight        60\n",
       "height       171\n",
       "Name: 1, dtype: object"
      ]
     },
     "metadata": {},
     "output_type": "display_data"
    }
   ],
   "source": [
    "# 특정 행 선택 출력\n"
   ]
  },
  {
   "cell_type": "code",
   "execution_count": null,
   "metadata": {},
   "outputs": [
    {
     "data": {
      "text/html": [
       "<div>\n",
       "<style scoped>\n",
       "    .dataframe tbody tr th:only-of-type {\n",
       "        vertical-align: middle;\n",
       "    }\n",
       "\n",
       "    .dataframe tbody tr th {\n",
       "        vertical-align: top;\n",
       "    }\n",
       "\n",
       "    .dataframe thead th {\n",
       "        text-align: right;\n",
       "    }\n",
       "</style>\n",
       "<table border=\"1\" class=\"dataframe\">\n",
       "  <thead>\n",
       "    <tr style=\"text-align: right;\">\n",
       "      <th></th>\n",
       "      <th>대중교통구분</th>\n",
       "      <th>노선명</th>\n",
       "      <th>년월</th>\n",
       "      <th>승차총승객수</th>\n",
       "    </tr>\n",
       "  </thead>\n",
       "  <tbody>\n",
       "    <tr>\n",
       "      <th>0</th>\n",
       "      <td>지하철</td>\n",
       "      <td>1호선</td>\n",
       "      <td>201711</td>\n",
       "      <td>8633618</td>\n",
       "    </tr>\n",
       "    <tr>\n",
       "      <th>1</th>\n",
       "      <td>지하철</td>\n",
       "      <td>1호선</td>\n",
       "      <td>201712</td>\n",
       "      <td>8737235</td>\n",
       "    </tr>\n",
       "    <tr>\n",
       "      <th>2</th>\n",
       "      <td>지하철</td>\n",
       "      <td>1호선</td>\n",
       "      <td>201801</td>\n",
       "      <td>8145989</td>\n",
       "    </tr>\n",
       "    <tr>\n",
       "      <th>3</th>\n",
       "      <td>지하철</td>\n",
       "      <td>1호선</td>\n",
       "      <td>201802</td>\n",
       "      <td>7273309</td>\n",
       "    </tr>\n",
       "    <tr>\n",
       "      <th>4</th>\n",
       "      <td>지하철</td>\n",
       "      <td>1호선</td>\n",
       "      <td>201803</td>\n",
       "      <td>8692551</td>\n",
       "    </tr>\n",
       "    <tr>\n",
       "      <th>...</th>\n",
       "      <td>...</td>\n",
       "      <td>...</td>\n",
       "      <td>...</td>\n",
       "      <td>...</td>\n",
       "    </tr>\n",
       "    <tr>\n",
       "      <th>596</th>\n",
       "      <td>지하철</td>\n",
       "      <td>우이신설선</td>\n",
       "      <td>201901</td>\n",
       "      <td>1263643</td>\n",
       "    </tr>\n",
       "    <tr>\n",
       "      <th>597</th>\n",
       "      <td>지하철</td>\n",
       "      <td>우이신설선</td>\n",
       "      <td>201902</td>\n",
       "      <td>1102109</td>\n",
       "    </tr>\n",
       "    <tr>\n",
       "      <th>598</th>\n",
       "      <td>지하철</td>\n",
       "      <td>우이신설선</td>\n",
       "      <td>201903</td>\n",
       "      <td>1402393</td>\n",
       "    </tr>\n",
       "    <tr>\n",
       "      <th>599</th>\n",
       "      <td>지하철</td>\n",
       "      <td>우이신설선</td>\n",
       "      <td>201904</td>\n",
       "      <td>1403115</td>\n",
       "    </tr>\n",
       "    <tr>\n",
       "      <th>600</th>\n",
       "      <td>지하철</td>\n",
       "      <td>우이신설선</td>\n",
       "      <td>201905</td>\n",
       "      <td>1469681</td>\n",
       "    </tr>\n",
       "  </tbody>\n",
       "</table>\n",
       "<p>601 rows × 4 columns</p>\n",
       "</div>"
      ],
      "text/plain": [
       "    대중교통구분    노선명      년월   승차총승객수\n",
       "0      지하철    1호선  201711  8633618\n",
       "1      지하철    1호선  201712  8737235\n",
       "2      지하철    1호선  201801  8145989\n",
       "3      지하철    1호선  201802  7273309\n",
       "4      지하철    1호선  201803  8692551\n",
       "..     ...    ...     ...      ...\n",
       "596    지하철  우이신설선  201901  1263643\n",
       "597    지하철  우이신설선  201902  1102109\n",
       "598    지하철  우이신설선  201903  1402393\n",
       "599    지하철  우이신설선  201904  1403115\n",
       "600    지하철  우이신설선  201905  1469681\n",
       "\n",
       "[601 rows x 4 columns]"
      ]
     },
     "metadata": {},
     "output_type": "display_data"
    }
   ],
   "source": [
    "# exel 파일 받기\n",
    " # 'sheet_name =' 없이 적으면 첫번째 sheet 만 출력"
   ]
  },
  {
   "cell_type": "code",
   "execution_count": null,
   "metadata": {},
   "outputs": [
    {
     "data": {
      "text/plain": [
       "(601, 4)"
      ]
     },
     "metadata": {},
     "output_type": "display_data"
    }
   ],
   "source": [
    "# 데이터 프레임 크기\n",
    "\n"
   ]
  },
  {
   "cell_type": "code",
   "execution_count": null,
   "metadata": {},
   "outputs": [
    {
     "data": {
      "text/html": [
       "<div>\n",
       "<style scoped>\n",
       "    .dataframe tbody tr th:only-of-type {\n",
       "        vertical-align: middle;\n",
       "    }\n",
       "\n",
       "    .dataframe tbody tr th {\n",
       "        vertical-align: top;\n",
       "    }\n",
       "\n",
       "    .dataframe thead th {\n",
       "        text-align: right;\n",
       "    }\n",
       "</style>\n",
       "<table border=\"1\" class=\"dataframe\">\n",
       "  <thead>\n",
       "    <tr style=\"text-align: right;\">\n",
       "      <th></th>\n",
       "      <th>대중교통구분</th>\n",
       "      <th>노선명</th>\n",
       "      <th>년월</th>\n",
       "      <th>승차총승객수</th>\n",
       "    </tr>\n",
       "  </thead>\n",
       "  <tbody>\n",
       "    <tr>\n",
       "      <th>0</th>\n",
       "      <td>지하철</td>\n",
       "      <td>1호선</td>\n",
       "      <td>201711</td>\n",
       "      <td>8633618</td>\n",
       "    </tr>\n",
       "    <tr>\n",
       "      <th>1</th>\n",
       "      <td>지하철</td>\n",
       "      <td>1호선</td>\n",
       "      <td>201712</td>\n",
       "      <td>8737235</td>\n",
       "    </tr>\n",
       "    <tr>\n",
       "      <th>2</th>\n",
       "      <td>지하철</td>\n",
       "      <td>1호선</td>\n",
       "      <td>201801</td>\n",
       "      <td>8145989</td>\n",
       "    </tr>\n",
       "  </tbody>\n",
       "</table>\n",
       "</div>"
      ],
      "text/plain": [
       "  대중교통구분  노선명      년월   승차총승객수\n",
       "0    지하철  1호선  201711  8633618\n",
       "1    지하철  1호선  201712  8737235\n",
       "2    지하철  1호선  201801  8145989"
      ]
     },
     "metadata": {},
     "output_type": "display_data"
    }
   ],
   "source": [
    "# 데이터프레임 데이터 앞 3개 출력\n",
    "\n"
   ]
  },
  {
   "cell_type": "code",
   "execution_count": null,
   "metadata": {},
   "outputs": [
    {
     "data": {
      "text/html": [
       "<div>\n",
       "<style scoped>\n",
       "    .dataframe tbody tr th:only-of-type {\n",
       "        vertical-align: middle;\n",
       "    }\n",
       "\n",
       "    .dataframe tbody tr th {\n",
       "        vertical-align: top;\n",
       "    }\n",
       "\n",
       "    .dataframe thead th {\n",
       "        text-align: right;\n",
       "    }\n",
       "</style>\n",
       "<table border=\"1\" class=\"dataframe\">\n",
       "  <thead>\n",
       "    <tr style=\"text-align: right;\">\n",
       "      <th></th>\n",
       "      <th>대중교통구분</th>\n",
       "      <th>노선명</th>\n",
       "      <th>년월</th>\n",
       "      <th>승차총승객수</th>\n",
       "    </tr>\n",
       "  </thead>\n",
       "  <tbody>\n",
       "    <tr>\n",
       "      <th>598</th>\n",
       "      <td>지하철</td>\n",
       "      <td>우이신설선</td>\n",
       "      <td>201903</td>\n",
       "      <td>1402393</td>\n",
       "    </tr>\n",
       "    <tr>\n",
       "      <th>599</th>\n",
       "      <td>지하철</td>\n",
       "      <td>우이신설선</td>\n",
       "      <td>201904</td>\n",
       "      <td>1403115</td>\n",
       "    </tr>\n",
       "    <tr>\n",
       "      <th>600</th>\n",
       "      <td>지하철</td>\n",
       "      <td>우이신설선</td>\n",
       "      <td>201905</td>\n",
       "      <td>1469681</td>\n",
       "    </tr>\n",
       "  </tbody>\n",
       "</table>\n",
       "</div>"
      ],
      "text/plain": [
       "    대중교통구분    노선명      년월   승차총승객수\n",
       "598    지하철  우이신설선  201903  1402393\n",
       "599    지하철  우이신설선  201904  1403115\n",
       "600    지하철  우이신설선  201905  1469681"
      ]
     },
     "metadata": {},
     "output_type": "display_data"
    }
   ],
   "source": [
    "# 데이터프레임 데이터 뒤 3개 출력\n"
   ]
  },
  {
   "cell_type": "code",
   "execution_count": null,
   "metadata": {},
   "outputs": [
    {
     "data": {
      "text/html": [
       "<div>\n",
       "<style scoped>\n",
       "    .dataframe tbody tr th:only-of-type {\n",
       "        vertical-align: middle;\n",
       "    }\n",
       "\n",
       "    .dataframe tbody tr th {\n",
       "        vertical-align: top;\n",
       "    }\n",
       "\n",
       "    .dataframe thead th {\n",
       "        text-align: right;\n",
       "    }\n",
       "</style>\n",
       "<table border=\"1\" class=\"dataframe\">\n",
       "  <thead>\n",
       "    <tr style=\"text-align: right;\">\n",
       "      <th></th>\n",
       "      <th>대중교통구분</th>\n",
       "      <th>년월</th>\n",
       "      <th>승차총승객수</th>\n",
       "    </tr>\n",
       "  </thead>\n",
       "  <tbody>\n",
       "    <tr>\n",
       "      <th>0</th>\n",
       "      <td>버스</td>\n",
       "      <td>201711</td>\n",
       "      <td>163443126</td>\n",
       "    </tr>\n",
       "    <tr>\n",
       "      <th>1</th>\n",
       "      <td>버스</td>\n",
       "      <td>201712</td>\n",
       "      <td>162521011</td>\n",
       "    </tr>\n",
       "    <tr>\n",
       "      <th>2</th>\n",
       "      <td>버스</td>\n",
       "      <td>201801</td>\n",
       "      <td>153335185</td>\n",
       "    </tr>\n",
       "    <tr>\n",
       "      <th>3</th>\n",
       "      <td>버스</td>\n",
       "      <td>201802</td>\n",
       "      <td>134768582</td>\n",
       "    </tr>\n",
       "    <tr>\n",
       "      <th>4</th>\n",
       "      <td>버스</td>\n",
       "      <td>201803</td>\n",
       "      <td>166177855</td>\n",
       "    </tr>\n",
       "    <tr>\n",
       "      <th>5</th>\n",
       "      <td>버스</td>\n",
       "      <td>201804</td>\n",
       "      <td>160452595</td>\n",
       "    </tr>\n",
       "    <tr>\n",
       "      <th>6</th>\n",
       "      <td>버스</td>\n",
       "      <td>201805</td>\n",
       "      <td>164390595</td>\n",
       "    </tr>\n",
       "    <tr>\n",
       "      <th>7</th>\n",
       "      <td>버스</td>\n",
       "      <td>201806</td>\n",
       "      <td>156999747</td>\n",
       "    </tr>\n",
       "    <tr>\n",
       "      <th>8</th>\n",
       "      <td>버스</td>\n",
       "      <td>201807</td>\n",
       "      <td>163736112</td>\n",
       "    </tr>\n",
       "    <tr>\n",
       "      <th>9</th>\n",
       "      <td>버스</td>\n",
       "      <td>201808</td>\n",
       "      <td>160240197</td>\n",
       "    </tr>\n",
       "    <tr>\n",
       "      <th>10</th>\n",
       "      <td>버스</td>\n",
       "      <td>201809</td>\n",
       "      <td>151311657</td>\n",
       "    </tr>\n",
       "    <tr>\n",
       "      <th>11</th>\n",
       "      <td>버스</td>\n",
       "      <td>201810</td>\n",
       "      <td>165820934</td>\n",
       "    </tr>\n",
       "    <tr>\n",
       "      <th>12</th>\n",
       "      <td>버스</td>\n",
       "      <td>201811</td>\n",
       "      <td>163017758</td>\n",
       "    </tr>\n",
       "    <tr>\n",
       "      <th>13</th>\n",
       "      <td>버스</td>\n",
       "      <td>201812</td>\n",
       "      <td>158049446</td>\n",
       "    </tr>\n",
       "    <tr>\n",
       "      <th>14</th>\n",
       "      <td>버스</td>\n",
       "      <td>201901</td>\n",
       "      <td>153037549</td>\n",
       "    </tr>\n",
       "    <tr>\n",
       "      <th>15</th>\n",
       "      <td>버스</td>\n",
       "      <td>201902</td>\n",
       "      <td>131621925</td>\n",
       "    </tr>\n",
       "    <tr>\n",
       "      <th>16</th>\n",
       "      <td>버스</td>\n",
       "      <td>201903</td>\n",
       "      <td>161694445</td>\n",
       "    </tr>\n",
       "    <tr>\n",
       "      <th>17</th>\n",
       "      <td>버스</td>\n",
       "      <td>201904</td>\n",
       "      <td>161900273</td>\n",
       "    </tr>\n",
       "    <tr>\n",
       "      <th>18</th>\n",
       "      <td>버스</td>\n",
       "      <td>201905</td>\n",
       "      <td>166587933</td>\n",
       "    </tr>\n",
       "  </tbody>\n",
       "</table>\n",
       "</div>"
      ],
      "text/plain": [
       "   대중교통구분      년월     승차총승객수\n",
       "0      버스  201711  163443126\n",
       "1      버스  201712  162521011\n",
       "2      버스  201801  153335185\n",
       "3      버스  201802  134768582\n",
       "4      버스  201803  166177855\n",
       "5      버스  201804  160452595\n",
       "6      버스  201805  164390595\n",
       "7      버스  201806  156999747\n",
       "8      버스  201807  163736112\n",
       "9      버스  201808  160240197\n",
       "10     버스  201809  151311657\n",
       "11     버스  201810  165820934\n",
       "12     버스  201811  163017758\n",
       "13     버스  201812  158049446\n",
       "14     버스  201901  153037549\n",
       "15     버스  201902  131621925\n",
       "16     버스  201903  161694445\n",
       "17     버스  201904  161900273\n",
       "18     버스  201905  166587933"
      ]
     },
     "metadata": {},
     "output_type": "display_data"
    }
   ],
   "source": [
    "# 특정 sheet 변경\n"
   ]
  },
  {
   "cell_type": "code",
   "execution_count": null,
   "metadata": {},
   "outputs": [
    {
     "data": {
      "text/html": [
       "<div>\n",
       "<style scoped>\n",
       "    .dataframe tbody tr th:only-of-type {\n",
       "        vertical-align: middle;\n",
       "    }\n",
       "\n",
       "    .dataframe tbody tr th {\n",
       "        vertical-align: top;\n",
       "    }\n",
       "\n",
       "    .dataframe thead th {\n",
       "        text-align: right;\n",
       "    }\n",
       "</style>\n",
       "<table border=\"1\" class=\"dataframe\">\n",
       "  <thead>\n",
       "    <tr style=\"text-align: right;\">\n",
       "      <th></th>\n",
       "      <th>대중교통구분</th>\n",
       "      <th>노선명</th>\n",
       "      <th>년월</th>\n",
       "      <th>승차총승객수</th>\n",
       "    </tr>\n",
       "  </thead>\n",
       "  <tbody>\n",
       "    <tr>\n",
       "      <th>0</th>\n",
       "      <td>지하철</td>\n",
       "      <td>1호선</td>\n",
       "      <td>201711</td>\n",
       "      <td>8633618</td>\n",
       "    </tr>\n",
       "    <tr>\n",
       "      <th>1</th>\n",
       "      <td>지하철</td>\n",
       "      <td>1호선</td>\n",
       "      <td>201712</td>\n",
       "      <td>8737235</td>\n",
       "    </tr>\n",
       "    <tr>\n",
       "      <th>2</th>\n",
       "      <td>지하철</td>\n",
       "      <td>1호선</td>\n",
       "      <td>201801</td>\n",
       "      <td>8145989</td>\n",
       "    </tr>\n",
       "    <tr>\n",
       "      <th>3</th>\n",
       "      <td>지하철</td>\n",
       "      <td>1호선</td>\n",
       "      <td>201802</td>\n",
       "      <td>7273309</td>\n",
       "    </tr>\n",
       "    <tr>\n",
       "      <th>4</th>\n",
       "      <td>지하철</td>\n",
       "      <td>1호선</td>\n",
       "      <td>201803</td>\n",
       "      <td>8692551</td>\n",
       "    </tr>\n",
       "    <tr>\n",
       "      <th>...</th>\n",
       "      <td>...</td>\n",
       "      <td>...</td>\n",
       "      <td>...</td>\n",
       "      <td>...</td>\n",
       "    </tr>\n",
       "    <tr>\n",
       "      <th>596</th>\n",
       "      <td>지하철</td>\n",
       "      <td>우이신설선</td>\n",
       "      <td>201901</td>\n",
       "      <td>1263643</td>\n",
       "    </tr>\n",
       "    <tr>\n",
       "      <th>597</th>\n",
       "      <td>지하철</td>\n",
       "      <td>우이신설선</td>\n",
       "      <td>201902</td>\n",
       "      <td>1102109</td>\n",
       "    </tr>\n",
       "    <tr>\n",
       "      <th>598</th>\n",
       "      <td>지하철</td>\n",
       "      <td>우이신설선</td>\n",
       "      <td>201903</td>\n",
       "      <td>1402393</td>\n",
       "    </tr>\n",
       "    <tr>\n",
       "      <th>599</th>\n",
       "      <td>지하철</td>\n",
       "      <td>우이신설선</td>\n",
       "      <td>201904</td>\n",
       "      <td>1403115</td>\n",
       "    </tr>\n",
       "    <tr>\n",
       "      <th>600</th>\n",
       "      <td>지하철</td>\n",
       "      <td>우이신설선</td>\n",
       "      <td>201905</td>\n",
       "      <td>1469681</td>\n",
       "    </tr>\n",
       "  </tbody>\n",
       "</table>\n",
       "<p>601 rows × 4 columns</p>\n",
       "</div>"
      ],
      "text/plain": [
       "    대중교통구분    노선명      년월   승차총승객수\n",
       "0      지하철    1호선  201711  8633618\n",
       "1      지하철    1호선  201712  8737235\n",
       "2      지하철    1호선  201801  8145989\n",
       "3      지하철    1호선  201802  7273309\n",
       "4      지하철    1호선  201803  8692551\n",
       "..     ...    ...     ...      ...\n",
       "596    지하철  우이신설선  201901  1263643\n",
       "597    지하철  우이신설선  201902  1102109\n",
       "598    지하철  우이신설선  201903  1402393\n",
       "599    지하철  우이신설선  201904  1403115\n",
       "600    지하철  우이신설선  201905  1469681\n",
       "\n",
       "[601 rows x 4 columns]"
      ]
     },
     "metadata": {},
     "output_type": "display_data"
    }
   ],
   "source": []
  },
  {
   "cell_type": "code",
   "execution_count": null,
   "metadata": {},
   "outputs": [
    {
     "data": {
      "text/plain": [
       "0        1호선\n",
       "1        1호선\n",
       "2        1호선\n",
       "3        1호선\n",
       "4        1호선\n",
       "       ...  \n",
       "596    우이신설선\n",
       "597    우이신설선\n",
       "598    우이신설선\n",
       "599    우이신설선\n",
       "600    우이신설선\n",
       "Name: 노선명, Length: 601, dtype: object"
      ]
     },
     "metadata": {},
     "output_type": "display_data"
    }
   ],
   "source": [
    "# 특정 열 출력\n"
   ]
  },
  {
   "cell_type": "code",
   "execution_count": null,
   "metadata": {},
   "outputs": [
    {
     "data": {
      "text/plain": [
       "array(['1호선', '2호선', '3호선', '4호선', '경부선', '경인선', '경원선', '안산선', '과천선',\n",
       "       '분당선', '일산선', '중앙선', '장항선', '경의선', '경춘선', '수인선', '경강선', '서해선',\n",
       "       '5호선', '6호선', '7호선', '8호선', '인천1호선', '인천2호선', '9호선', '공항철도 1호선',\n",
       "       '신분당선', '9호선2~3단계', '용인에버라인', '의정부경전철', '경기철도', '우이신설선'],\n",
       "      dtype=object)"
      ]
     },
     "metadata": {},
     "output_type": "display_data"
    }
   ],
   "source": [
    "# 중복 제거 - 많은 데이터 중 중복을 제거\n"
   ]
  },
  {
   "cell_type": "code",
   "execution_count": null,
   "metadata": {},
   "outputs": [
    {
     "data": {
      "text/plain": [
       "10356250"
      ]
     },
     "metadata": {},
     "output_type": "display_data"
    }
   ],
   "source": [
    "# 특정 열, data 출력"
   ]
  },
  {
   "cell_type": "code",
   "execution_count": null,
   "metadata": {},
   "outputs": [
    {
     "data": {
      "text/plain": [
       "10356250"
      ]
     },
     "metadata": {},
     "output_type": "display_data"
    }
   ],
   "source": []
  },
  {
   "cell_type": "code",
   "execution_count": null,
   "metadata": {},
   "outputs": [
    {
     "data": {
      "text/html": [
       "<div>\n",
       "<style scoped>\n",
       "    .dataframe tbody tr th:only-of-type {\n",
       "        vertical-align: middle;\n",
       "    }\n",
       "\n",
       "    .dataframe tbody tr th {\n",
       "        vertical-align: top;\n",
       "    }\n",
       "\n",
       "    .dataframe thead th {\n",
       "        text-align: right;\n",
       "    }\n",
       "</style>\n",
       "<table border=\"1\" class=\"dataframe\">\n",
       "  <thead>\n",
       "    <tr style=\"text-align: right;\">\n",
       "      <th></th>\n",
       "      <th>대중교통구분</th>\n",
       "      <th>노선명</th>\n",
       "      <th>년월</th>\n",
       "      <th>승차총승객수</th>\n",
       "    </tr>\n",
       "  </thead>\n",
       "  <tbody>\n",
       "    <tr>\n",
       "      <th>0</th>\n",
       "      <td>지하철</td>\n",
       "      <td>1호선</td>\n",
       "      <td>201711</td>\n",
       "      <td>8633618</td>\n",
       "    </tr>\n",
       "    <tr>\n",
       "      <th>1</th>\n",
       "      <td>지하철</td>\n",
       "      <td>1호선</td>\n",
       "      <td>201712</td>\n",
       "      <td>8737235</td>\n",
       "    </tr>\n",
       "    <tr>\n",
       "      <th>2</th>\n",
       "      <td>지하철</td>\n",
       "      <td>1호선</td>\n",
       "      <td>201801</td>\n",
       "      <td>8145989</td>\n",
       "    </tr>\n",
       "    <tr>\n",
       "      <th>3</th>\n",
       "      <td>지하철</td>\n",
       "      <td>1호선</td>\n",
       "      <td>201802</td>\n",
       "      <td>7273309</td>\n",
       "    </tr>\n",
       "    <tr>\n",
       "      <th>4</th>\n",
       "      <td>지하철</td>\n",
       "      <td>1호선</td>\n",
       "      <td>201803</td>\n",
       "      <td>8692551</td>\n",
       "    </tr>\n",
       "    <tr>\n",
       "      <th>5</th>\n",
       "      <td>지하철</td>\n",
       "      <td>1호선</td>\n",
       "      <td>201804</td>\n",
       "      <td>8275767</td>\n",
       "    </tr>\n",
       "  </tbody>\n",
       "</table>\n",
       "</div>"
      ],
      "text/plain": [
       "  대중교통구분  노선명      년월   승차총승객수\n",
       "0    지하철  1호선  201711  8633618\n",
       "1    지하철  1호선  201712  8737235\n",
       "2    지하철  1호선  201801  8145989\n",
       "3    지하철  1호선  201802  7273309\n",
       "4    지하철  1호선  201803  8692551\n",
       "5    지하철  1호선  201804  8275767"
      ]
     },
     "metadata": {},
     "output_type": "display_data"
    }
   ],
   "source": [
    "# loc 슬라이싱 (시작:끝)\n"
   ]
  },
  {
   "cell_type": "code",
   "execution_count": null,
   "metadata": {},
   "outputs": [
    {
     "data": {
      "text/html": [
       "<div>\n",
       "<style scoped>\n",
       "    .dataframe tbody tr th:only-of-type {\n",
       "        vertical-align: middle;\n",
       "    }\n",
       "\n",
       "    .dataframe tbody tr th {\n",
       "        vertical-align: top;\n",
       "    }\n",
       "\n",
       "    .dataframe thead th {\n",
       "        text-align: right;\n",
       "    }\n",
       "</style>\n",
       "<table border=\"1\" class=\"dataframe\">\n",
       "  <thead>\n",
       "    <tr style=\"text-align: right;\">\n",
       "      <th></th>\n",
       "      <th>승차총승객수</th>\n",
       "      <th>대중교통구분</th>\n",
       "    </tr>\n",
       "  </thead>\n",
       "  <tbody>\n",
       "    <tr>\n",
       "      <th>0</th>\n",
       "      <td>8633618</td>\n",
       "      <td>지하철</td>\n",
       "    </tr>\n",
       "    <tr>\n",
       "      <th>1</th>\n",
       "      <td>8737235</td>\n",
       "      <td>지하철</td>\n",
       "    </tr>\n",
       "    <tr>\n",
       "      <th>2</th>\n",
       "      <td>8145989</td>\n",
       "      <td>지하철</td>\n",
       "    </tr>\n",
       "    <tr>\n",
       "      <th>3</th>\n",
       "      <td>7273309</td>\n",
       "      <td>지하철</td>\n",
       "    </tr>\n",
       "    <tr>\n",
       "      <th>4</th>\n",
       "      <td>8692551</td>\n",
       "      <td>지하철</td>\n",
       "    </tr>\n",
       "    <tr>\n",
       "      <th>5</th>\n",
       "      <td>8275767</td>\n",
       "      <td>지하철</td>\n",
       "    </tr>\n",
       "  </tbody>\n",
       "</table>\n",
       "</div>"
      ],
      "text/plain": [
       "    승차총승객수 대중교통구분\n",
       "0  8633618    지하철\n",
       "1  8737235    지하철\n",
       "2  8145989    지하철\n",
       "3  7273309    지하철\n",
       "4  8692551    지하철\n",
       "5  8275767    지하철"
      ]
     },
     "metadata": {},
     "output_type": "display_data"
    }
   ],
   "source": [
    "# 0~5번 행 슬라이싱 + 열은 '승차총승객수','대중교통구분'\n"
   ]
  },
  {
   "cell_type": "code",
   "execution_count": null,
   "metadata": {},
   "outputs": [
    {
     "data": {
      "text/html": [
       "<div>\n",
       "<style scoped>\n",
       "    .dataframe tbody tr th:only-of-type {\n",
       "        vertical-align: middle;\n",
       "    }\n",
       "\n",
       "    .dataframe tbody tr th {\n",
       "        vertical-align: top;\n",
       "    }\n",
       "\n",
       "    .dataframe thead th {\n",
       "        text-align: right;\n",
       "    }\n",
       "</style>\n",
       "<table border=\"1\" class=\"dataframe\">\n",
       "  <thead>\n",
       "    <tr style=\"text-align: right;\">\n",
       "      <th></th>\n",
       "      <th>책이름</th>\n",
       "      <th>저자</th>\n",
       "      <th>출판사</th>\n",
       "      <th>출간일</th>\n",
       "      <th>가격</th>\n",
       "    </tr>\n",
       "  </thead>\n",
       "  <tbody>\n",
       "    <tr>\n",
       "      <th>0</th>\n",
       "      <td>Do it! 점프 투 파이썬</td>\n",
       "      <td>박응용</td>\n",
       "      <td>이지스퍼블리싱</td>\n",
       "      <td>2019년 06월</td>\n",
       "      <td>16,920</td>\n",
       "    </tr>\n",
       "    <tr>\n",
       "      <th>1</th>\n",
       "      <td>혼자 공부하는 머신러닝+딥러닝</td>\n",
       "      <td>박해선</td>\n",
       "      <td>한빛미디어</td>\n",
       "      <td>2020년 12월</td>\n",
       "      <td>23,400</td>\n",
       "    </tr>\n",
       "    <tr>\n",
       "      <th>2</th>\n",
       "      <td>혼자 공부하는 파이썬</td>\n",
       "      <td>윤인성</td>\n",
       "      <td>한빛미디어</td>\n",
       "      <td>2019년 06월</td>\n",
       "      <td>16,200</td>\n",
       "    </tr>\n",
       "    <tr>\n",
       "      <th>3</th>\n",
       "      <td>이것이 취업을 위한 코딩 테스트다 with 파이썬</td>\n",
       "      <td>나동빈</td>\n",
       "      <td>한빛미디어</td>\n",
       "      <td>2020년 08월</td>\n",
       "      <td>30,600</td>\n",
       "    </tr>\n",
       "    <tr>\n",
       "      <th>4</th>\n",
       "      <td>비전공자도 이해할 수 있는 AI 지식</td>\n",
       "      <td>박상길</td>\n",
       "      <td>반니</td>\n",
       "      <td>2022년 03월</td>\n",
       "      <td>17,820</td>\n",
       "    </tr>\n",
       "    <tr>\n",
       "      <th>...</th>\n",
       "      <td>...</td>\n",
       "      <td>...</td>\n",
       "      <td>...</td>\n",
       "      <td>...</td>\n",
       "      <td>...</td>\n",
       "    </tr>\n",
       "    <tr>\n",
       "      <th>739</th>\n",
       "      <td>스펙트럼 머신러닝 with 파이썬</td>\n",
       "      <td>장철원</td>\n",
       "      <td>비제이퍼블릭(BJ퍼블릭)</td>\n",
       "      <td>2021년 12월</td>\n",
       "      <td>64,350</td>\n",
       "    </tr>\n",
       "    <tr>\n",
       "      <th>740</th>\n",
       "      <td>당신이 지금 알아야 할 클라우드 세트</td>\n",
       "      <td>이영호</td>\n",
       "      <td>비제이퍼블릭(BJ퍼블릭)</td>\n",
       "      <td>2020년 10월</td>\n",
       "      <td>142,200</td>\n",
       "    </tr>\n",
       "    <tr>\n",
       "      <th>741</th>\n",
       "      <td>Step by Step 파이썬 비즈니스 통계분석</td>\n",
       "      <td>김형수</td>\n",
       "      <td>프레딕스</td>\n",
       "      <td>2021년 11월</td>\n",
       "      <td>32,000</td>\n",
       "    </tr>\n",
       "    <tr>\n",
       "      <th>742</th>\n",
       "      <td>머신러닝 알고리듬 트레이딩</td>\n",
       "      <td>스테판 젠슨</td>\n",
       "      <td>에이콘출판사</td>\n",
       "      <td>2021년 09월</td>\n",
       "      <td>76,500</td>\n",
       "    </tr>\n",
       "    <tr>\n",
       "      <th>743</th>\n",
       "      <td>머신러닝 알고리즘 트레이딩</td>\n",
       "      <td>세바스티앙 도나디오</td>\n",
       "      <td>에이콘출판사</td>\n",
       "      <td>0001년 01월</td>\n",
       "      <td>70,200</td>\n",
       "    </tr>\n",
       "  </tbody>\n",
       "</table>\n",
       "<p>744 rows × 5 columns</p>\n",
       "</div>"
      ],
      "text/plain": [
       "                              책이름          저자            출판사        출간일  \\\n",
       "0                 Do it! 점프 투 파이썬         박응용        이지스퍼블리싱  2019년 06월   \n",
       "1                혼자 공부하는 머신러닝+딥러닝         박해선          한빛미디어  2020년 12월   \n",
       "2                     혼자 공부하는 파이썬         윤인성          한빛미디어  2019년 06월   \n",
       "3    이것이 취업을 위한 코딩 테스트다 with 파이썬          나동빈          한빛미디어  2020년 08월   \n",
       "4            비전공자도 이해할 수 있는 AI 지식         박상길             반니  2022년 03월   \n",
       "..                            ...         ...            ...        ...   \n",
       "739            스펙트럼 머신러닝 with 파이썬         장철원  비제이퍼블릭(BJ퍼블릭)  2021년 12월   \n",
       "740          당신이 지금 알아야 할 클라우드 세트         이영호  비제이퍼블릭(BJ퍼블릭)  2020년 10월   \n",
       "741    Step by Step 파이썬 비즈니스 통계분석         김형수           프레딕스  2021년 11월   \n",
       "742                머신러닝 알고리듬 트레이딩      스테판 젠슨         에이콘출판사  2021년 09월   \n",
       "743                머신러닝 알고리즘 트레이딩  세바스티앙 도나디오         에이콘출판사  0001년 01월   \n",
       "\n",
       "          가격  \n",
       "0     16,920  \n",
       "1     23,400  \n",
       "2     16,200  \n",
       "3     30,600  \n",
       "4     17,820  \n",
       "..       ...  \n",
       "739   64,350  \n",
       "740  142,200  \n",
       "741   32,000  \n",
       "742   76,500  \n",
       "743   70,200  \n",
       "\n",
       "[744 rows x 5 columns]"
      ]
     },
     "metadata": {},
     "output_type": "display_data"
    }
   ],
   "source": [
    "# csv 파일 받아오기\n",
    "\n",
    "# csv 파일은 한글을 지원하기 위해 인코딩 옵션을 주면 된다."
   ]
  },
  {
   "cell_type": "code",
   "execution_count": null,
   "metadata": {},
   "outputs": [
    {
     "data": {
      "text/plain": [
       "(744, 5)"
      ]
     },
     "metadata": {},
     "output_type": "display_data"
    }
   ],
   "source": [
    "# 데이터 크기\n"
   ]
  },
  {
   "cell_type": "code",
   "execution_count": null,
   "metadata": {},
   "outputs": [
    {
     "name": "stdout",
     "output_type": "stream",
     "text": [
      "<class 'pandas.core.frame.DataFrame'>\n",
      "RangeIndex: 744 entries, 0 to 743\n",
      "Data columns (total 5 columns):\n",
      " #   Column  Non-Null Count  Dtype \n",
      "---  ------  --------------  ----- \n",
      " 0   책이름     744 non-null    object\n",
      " 1   저자      744 non-null    object\n",
      " 2   출판사     744 non-null    object\n",
      " 3   출간일     744 non-null    object\n",
      " 4   가격      744 non-null    object\n",
      "dtypes: object(5)\n",
      "memory usage: 29.2+ KB\n"
     ]
    }
   ],
   "source": [
    "# 데이터 타입 정보\n"
   ]
  },
  {
   "cell_type": "code",
   "execution_count": null,
   "metadata": {},
   "outputs": [
    {
     "data": {
      "text/plain": [
       "array(['이지스퍼블리싱', '한빛미디어', '반니', '길벗', '앤써북', '책만', '생능출판사', '위키북스',\n",
       "       '파이스탁', '정보문화사', '비제이퍼블릭(BJ퍼블릭)', '한빛아카데미', '생능북스', '에이콘출판사',\n",
       "       '인포앤북', '골든래빗', '인피니티북스', '로드북', '제이펍', '영진닷컴', '터닝포인트', '오렌지미디어',\n",
       "       '루비페이퍼', '시대고시기획 시대교육', '삼양미디어', '인사이트(insight)', '자유아카데미', '구미서관',\n",
       "       'BOOKK(부크크)', '연두에디션', '복두출판사', '광문각', '잇플ITPLE', '삼일인포마인', '프리렉',\n",
       "       '아이콕스(iCox)', '성안당', '씨마스', '홍릉과학출판사', '서울대학교출판문화원', '씨마스21',\n",
       "       '코딩엑스', '햄큐(HAMQ)', '이한미디어', '부산대학교출판문화원', '디지털북스', '북스홀릭퍼블리싱',\n",
       "       '동양북스(동양books)', '명진씨앤피', '가메출판사', 'REXmedia(렉스미디어)', '남가람북스',\n",
       "       '아이씨뱅큐', '미리어드스페이스', '21세기사', '한양대학교출판부', '휴먼싸이언스', '오일러', '코딩타임',\n",
       "       '가치랩스', '서현사', '늘봄', '책밥', '아티오', '홍릉', '심통', '지오북스', '한국정보인재개발원',\n",
       "       '범', '시그마프레스', '씨아이알(CIR)', '교학사', '내하출판사', '정익사',\n",
       "       '스토리조아(STORYJOA)', '좋은땅', '아이리포', '성진미디어', '코쿤아우트', '비팬북스(러닝스페이스)',\n",
       "       '도수서원', '(주)코딩스쿨', '그린 (윤덕우)', '디스커버리미디어', 'AK(에이케이 커뮤니케이션즈)',\n",
       "       '지오아카데미', '스포트라잇북', '그린', '글로벌', 'e비즈북스', '혜지원', '한티에듀', '인디라이프',\n",
       "       '시대인', '에듀웨이', '카오스북', '(주)박영사', '와이북스', '다올미디어', '한나래', '일진사',\n",
       "       '한경사', '원펀치', '기한재', '상학당', '앤아이컴즈', 'UUP', '플랜투비아이플러스',\n",
       "       '부산대학교출판부(PNU Press)', '지앤선(志&嬋)', '경문사', '창조와지식', '크라운출판사',\n",
       "       '지식과감성#', '영남대학교출판부(知YU智)', '노드미디어', '출판사Bogook(출판사보국)',\n",
       "       '한성대학교출판부', '더코딩칼리지', '북스힐', '지란지교에듀랩', '에피스테메(방송대출판문화원)',\n",
       "       '서울시립대학교출판부', '북랩', '고시고시', '구민사', '넥서스', '이모션미디어', '(유)캐멀컨설팅',\n",
       "       '프레딕스'], dtype=object)"
      ]
     },
     "metadata": {},
     "output_type": "display_data"
    }
   ],
   "source": [
    "# 중복 제거\n"
   ]
  },
  {
   "cell_type": "code",
   "execution_count": null,
   "metadata": {},
   "outputs": [],
   "source": []
  },
  {
   "cell_type": "markdown",
   "metadata": {},
   "source": [
    "# 7week"
   ]
  },
  {
   "cell_type": "code",
   "execution_count": 1,
   "metadata": {},
   "outputs": [
    {
     "data": {
      "text/html": [
       "<div>\n",
       "<style scoped>\n",
       "    .dataframe tbody tr th:only-of-type {\n",
       "        vertical-align: middle;\n",
       "    }\n",
       "\n",
       "    .dataframe tbody tr th {\n",
       "        vertical-align: top;\n",
       "    }\n",
       "\n",
       "    .dataframe thead th {\n",
       "        text-align: right;\n",
       "    }\n",
       "</style>\n",
       "<table border=\"1\" class=\"dataframe\">\n",
       "  <thead>\n",
       "    <tr style=\"text-align: right;\">\n",
       "      <th></th>\n",
       "      <th>대중교통구분</th>\n",
       "      <th>노선명</th>\n",
       "      <th>년월</th>\n",
       "      <th>승차총승객수</th>\n",
       "    </tr>\n",
       "  </thead>\n",
       "  <tbody>\n",
       "    <tr>\n",
       "      <th>0</th>\n",
       "      <td>지하철</td>\n",
       "      <td>1호선</td>\n",
       "      <td>201711</td>\n",
       "      <td>8633618</td>\n",
       "    </tr>\n",
       "    <tr>\n",
       "      <th>1</th>\n",
       "      <td>지하철</td>\n",
       "      <td>1호선</td>\n",
       "      <td>201712</td>\n",
       "      <td>8737235</td>\n",
       "    </tr>\n",
       "    <tr>\n",
       "      <th>2</th>\n",
       "      <td>지하철</td>\n",
       "      <td>1호선</td>\n",
       "      <td>201801</td>\n",
       "      <td>8145989</td>\n",
       "    </tr>\n",
       "    <tr>\n",
       "      <th>3</th>\n",
       "      <td>지하철</td>\n",
       "      <td>1호선</td>\n",
       "      <td>201802</td>\n",
       "      <td>7273309</td>\n",
       "    </tr>\n",
       "    <tr>\n",
       "      <th>4</th>\n",
       "      <td>지하철</td>\n",
       "      <td>1호선</td>\n",
       "      <td>201803</td>\n",
       "      <td>8692551</td>\n",
       "    </tr>\n",
       "    <tr>\n",
       "      <th>...</th>\n",
       "      <td>...</td>\n",
       "      <td>...</td>\n",
       "      <td>...</td>\n",
       "      <td>...</td>\n",
       "    </tr>\n",
       "    <tr>\n",
       "      <th>596</th>\n",
       "      <td>지하철</td>\n",
       "      <td>우이신설선</td>\n",
       "      <td>201901</td>\n",
       "      <td>1263643</td>\n",
       "    </tr>\n",
       "    <tr>\n",
       "      <th>597</th>\n",
       "      <td>지하철</td>\n",
       "      <td>우이신설선</td>\n",
       "      <td>201902</td>\n",
       "      <td>1102109</td>\n",
       "    </tr>\n",
       "    <tr>\n",
       "      <th>598</th>\n",
       "      <td>지하철</td>\n",
       "      <td>우이신설선</td>\n",
       "      <td>201903</td>\n",
       "      <td>1402393</td>\n",
       "    </tr>\n",
       "    <tr>\n",
       "      <th>599</th>\n",
       "      <td>지하철</td>\n",
       "      <td>우이신설선</td>\n",
       "      <td>201904</td>\n",
       "      <td>1403115</td>\n",
       "    </tr>\n",
       "    <tr>\n",
       "      <th>600</th>\n",
       "      <td>지하철</td>\n",
       "      <td>우이신설선</td>\n",
       "      <td>201905</td>\n",
       "      <td>1469681</td>\n",
       "    </tr>\n",
       "  </tbody>\n",
       "</table>\n",
       "<p>601 rows × 4 columns</p>\n",
       "</div>"
      ],
      "text/plain": [
       "    대중교통구분    노선명      년월   승차총승객수\n",
       "0      지하철    1호선  201711  8633618\n",
       "1      지하철    1호선  201712  8737235\n",
       "2      지하철    1호선  201801  8145989\n",
       "3      지하철    1호선  201802  7273309\n",
       "4      지하철    1호선  201803  8692551\n",
       "..     ...    ...     ...      ...\n",
       "596    지하철  우이신설선  201901  1263643\n",
       "597    지하철  우이신설선  201902  1102109\n",
       "598    지하철  우이신설선  201903  1402393\n",
       "599    지하철  우이신설선  201904  1403115\n",
       "600    지하철  우이신설선  201905  1469681\n",
       "\n",
       "[601 rows x 4 columns]"
      ]
     },
     "execution_count": 1,
     "metadata": {},
     "output_type": "execute_result"
    }
   ],
   "source": [
    "# 매우 중요하다.\n",
    "import pandas as pd\n",
    "\n",
    "# excel 파일 받아오기\n",
    "df_exl = pd.read_excel('C:/Users/SAMSUNG/Desktop/big_data_blog/middle_test/transportation.xlsx')\n",
    "df_exl"
   ]
  },
  {
   "cell_type": "code",
   "execution_count": 2,
   "metadata": {},
   "outputs": [
    {
     "data": {
      "text/plain": [
       "(601, 4)"
      ]
     },
     "execution_count": 2,
     "metadata": {},
     "output_type": "execute_result"
    }
   ],
   "source": [
    "# 데이터 크기\n",
    "df_exl.shape"
   ]
  },
  {
   "cell_type": "code",
   "execution_count": 3,
   "metadata": {},
   "outputs": [
    {
     "data": {
      "text/html": [
       "<div>\n",
       "<style scoped>\n",
       "    .dataframe tbody tr th:only-of-type {\n",
       "        vertical-align: middle;\n",
       "    }\n",
       "\n",
       "    .dataframe tbody tr th {\n",
       "        vertical-align: top;\n",
       "    }\n",
       "\n",
       "    .dataframe thead th {\n",
       "        text-align: right;\n",
       "    }\n",
       "</style>\n",
       "<table border=\"1\" class=\"dataframe\">\n",
       "  <thead>\n",
       "    <tr style=\"text-align: right;\">\n",
       "      <th></th>\n",
       "      <th>대중교통구분</th>\n",
       "      <th>노선명</th>\n",
       "      <th>년월</th>\n",
       "      <th>승차총승객수</th>\n",
       "    </tr>\n",
       "  </thead>\n",
       "  <tbody>\n",
       "    <tr>\n",
       "      <th>0</th>\n",
       "      <td>지하철</td>\n",
       "      <td>1호선</td>\n",
       "      <td>201711</td>\n",
       "      <td>8633618</td>\n",
       "    </tr>\n",
       "    <tr>\n",
       "      <th>1</th>\n",
       "      <td>지하철</td>\n",
       "      <td>1호선</td>\n",
       "      <td>201712</td>\n",
       "      <td>8737235</td>\n",
       "    </tr>\n",
       "    <tr>\n",
       "      <th>2</th>\n",
       "      <td>지하철</td>\n",
       "      <td>1호선</td>\n",
       "      <td>201801</td>\n",
       "      <td>8145989</td>\n",
       "    </tr>\n",
       "    <tr>\n",
       "      <th>3</th>\n",
       "      <td>지하철</td>\n",
       "      <td>1호선</td>\n",
       "      <td>201802</td>\n",
       "      <td>7273309</td>\n",
       "    </tr>\n",
       "    <tr>\n",
       "      <th>4</th>\n",
       "      <td>지하철</td>\n",
       "      <td>1호선</td>\n",
       "      <td>201803</td>\n",
       "      <td>8692551</td>\n",
       "    </tr>\n",
       "  </tbody>\n",
       "</table>\n",
       "</div>"
      ],
      "text/plain": [
       "  대중교통구분  노선명      년월   승차총승객수\n",
       "0    지하철  1호선  201711  8633618\n",
       "1    지하철  1호선  201712  8737235\n",
       "2    지하철  1호선  201801  8145989\n",
       "3    지하철  1호선  201802  7273309\n",
       "4    지하철  1호선  201803  8692551"
      ]
     },
     "execution_count": 3,
     "metadata": {},
     "output_type": "execute_result"
    }
   ],
   "source": [
    "# 앞 5개 데이터 출력\n",
    "df_exl.head()"
   ]
  },
  {
   "cell_type": "code",
   "execution_count": 4,
   "metadata": {},
   "outputs": [
    {
     "data": {
      "text/html": [
       "<div>\n",
       "<style scoped>\n",
       "    .dataframe tbody tr th:only-of-type {\n",
       "        vertical-align: middle;\n",
       "    }\n",
       "\n",
       "    .dataframe tbody tr th {\n",
       "        vertical-align: top;\n",
       "    }\n",
       "\n",
       "    .dataframe thead th {\n",
       "        text-align: right;\n",
       "    }\n",
       "</style>\n",
       "<table border=\"1\" class=\"dataframe\">\n",
       "  <thead>\n",
       "    <tr style=\"text-align: right;\">\n",
       "      <th></th>\n",
       "      <th>대중교통구분</th>\n",
       "      <th>노선명</th>\n",
       "      <th>년월</th>\n",
       "      <th>승차총승객수</th>\n",
       "    </tr>\n",
       "  </thead>\n",
       "  <tbody>\n",
       "    <tr>\n",
       "      <th>596</th>\n",
       "      <td>지하철</td>\n",
       "      <td>우이신설선</td>\n",
       "      <td>201901</td>\n",
       "      <td>1263643</td>\n",
       "    </tr>\n",
       "    <tr>\n",
       "      <th>597</th>\n",
       "      <td>지하철</td>\n",
       "      <td>우이신설선</td>\n",
       "      <td>201902</td>\n",
       "      <td>1102109</td>\n",
       "    </tr>\n",
       "    <tr>\n",
       "      <th>598</th>\n",
       "      <td>지하철</td>\n",
       "      <td>우이신설선</td>\n",
       "      <td>201903</td>\n",
       "      <td>1402393</td>\n",
       "    </tr>\n",
       "    <tr>\n",
       "      <th>599</th>\n",
       "      <td>지하철</td>\n",
       "      <td>우이신설선</td>\n",
       "      <td>201904</td>\n",
       "      <td>1403115</td>\n",
       "    </tr>\n",
       "    <tr>\n",
       "      <th>600</th>\n",
       "      <td>지하철</td>\n",
       "      <td>우이신설선</td>\n",
       "      <td>201905</td>\n",
       "      <td>1469681</td>\n",
       "    </tr>\n",
       "  </tbody>\n",
       "</table>\n",
       "</div>"
      ],
      "text/plain": [
       "    대중교통구분    노선명      년월   승차총승객수\n",
       "596    지하철  우이신설선  201901  1263643\n",
       "597    지하철  우이신설선  201902  1102109\n",
       "598    지하철  우이신설선  201903  1402393\n",
       "599    지하철  우이신설선  201904  1403115\n",
       "600    지하철  우이신설선  201905  1469681"
      ]
     },
     "execution_count": 4,
     "metadata": {},
     "output_type": "execute_result"
    }
   ],
   "source": [
    "# 뒤 5개 데이터 출력\n",
    "df_exl.tail()"
   ]
  },
  {
   "cell_type": "code",
   "execution_count": 5,
   "metadata": {},
   "outputs": [
    {
     "name": "stdout",
     "output_type": "stream",
     "text": [
      "<class 'pandas.core.frame.DataFrame'>\n",
      "RangeIndex: 601 entries, 0 to 600\n",
      "Data columns (total 4 columns):\n",
      " #   Column  Non-Null Count  Dtype \n",
      "---  ------  --------------  ----- \n",
      " 0   대중교통구분  601 non-null    object\n",
      " 1   노선명     601 non-null    object\n",
      " 2   년월      601 non-null    int64 \n",
      " 3   승차총승객수  601 non-null    int64 \n",
      "dtypes: int64(2), object(2)\n",
      "memory usage: 18.9+ KB\n"
     ]
    }
   ],
   "source": [
    "# 데이터 타입\n",
    "df_exl.info()"
   ]
  },
  {
   "cell_type": "code",
   "execution_count": 6,
   "metadata": {},
   "outputs": [
    {
     "data": {
      "text/html": [
       "<div>\n",
       "<style scoped>\n",
       "    .dataframe tbody tr th:only-of-type {\n",
       "        vertical-align: middle;\n",
       "    }\n",
       "\n",
       "    .dataframe tbody tr th {\n",
       "        vertical-align: top;\n",
       "    }\n",
       "\n",
       "    .dataframe thead th {\n",
       "        text-align: right;\n",
       "    }\n",
       "</style>\n",
       "<table border=\"1\" class=\"dataframe\">\n",
       "  <thead>\n",
       "    <tr style=\"text-align: right;\">\n",
       "      <th></th>\n",
       "      <th>년월</th>\n",
       "      <th>승차총승객수</th>\n",
       "    </tr>\n",
       "  </thead>\n",
       "  <tbody>\n",
       "    <tr>\n",
       "      <th>count</th>\n",
       "      <td>601.000000</td>\n",
       "      <td>6.010000e+02</td>\n",
       "    </tr>\n",
       "    <tr>\n",
       "      <th>mean</th>\n",
       "      <td>201822.419301</td>\n",
       "      <td>7.542217e+06</td>\n",
       "    </tr>\n",
       "    <tr>\n",
       "      <th>std</th>\n",
       "      <td>56.303380</td>\n",
       "      <td>9.225438e+06</td>\n",
       "    </tr>\n",
       "    <tr>\n",
       "      <th>min</th>\n",
       "      <td>201711.000000</td>\n",
       "      <td>3.437850e+05</td>\n",
       "    </tr>\n",
       "    <tr>\n",
       "      <th>25%</th>\n",
       "      <td>201803.000000</td>\n",
       "      <td>1.403115e+06</td>\n",
       "    </tr>\n",
       "    <tr>\n",
       "      <th>50%</th>\n",
       "      <td>201808.000000</td>\n",
       "      <td>3.537142e+06</td>\n",
       "    </tr>\n",
       "    <tr>\n",
       "      <th>75%</th>\n",
       "      <td>201901.000000</td>\n",
       "      <td>1.034604e+07</td>\n",
       "    </tr>\n",
       "    <tr>\n",
       "      <th>max</th>\n",
       "      <td>201905.000000</td>\n",
       "      <td>4.935649e+07</td>\n",
       "    </tr>\n",
       "  </tbody>\n",
       "</table>\n",
       "</div>"
      ],
      "text/plain": [
       "                  년월        승차총승객수\n",
       "count     601.000000  6.010000e+02\n",
       "mean   201822.419301  7.542217e+06\n",
       "std        56.303380  9.225438e+06\n",
       "min    201711.000000  3.437850e+05\n",
       "25%    201803.000000  1.403115e+06\n",
       "50%    201808.000000  3.537142e+06\n",
       "75%    201901.000000  1.034604e+07\n",
       "max    201905.000000  4.935649e+07"
      ]
     },
     "execution_count": 6,
     "metadata": {},
     "output_type": "execute_result"
    }
   ],
   "source": [
    "# 기술통계\n",
    "df_exl.describe()"
   ]
  },
  {
   "cell_type": "code",
   "execution_count": 7,
   "metadata": {},
   "outputs": [
    {
     "data": {
      "text/plain": [
       "0        1호선\n",
       "1        1호선\n",
       "2        1호선\n",
       "3        1호선\n",
       "4        1호선\n",
       "       ...  \n",
       "596    우이신설선\n",
       "597    우이신설선\n",
       "598    우이신설선\n",
       "599    우이신설선\n",
       "600    우이신설선\n",
       "Name: 노선명, Length: 601, dtype: object"
      ]
     },
     "execution_count": 7,
     "metadata": {},
     "output_type": "execute_result"
    }
   ],
   "source": [
    "# 특정 열 출력 _ 노선명\n",
    "df_exl['노선명']"
   ]
  },
  {
   "cell_type": "code",
   "execution_count": 9,
   "metadata": {},
   "outputs": [
    {
     "data": {
      "text/plain": [
       "array(['1호선', '2호선', '3호선', '4호선', '경부선', '경인선', '경원선', '안산선', '과천선',\n",
       "       '분당선', '일산선', '중앙선', '장항선', '경의선', '경춘선', '수인선', '경강선', '서해선',\n",
       "       '5호선', '6호선', '7호선', '8호선', '인천1호선', '인천2호선', '9호선', '공항철도 1호선',\n",
       "       '신분당선', '9호선2~3단계', '용인에버라인', '의정부경전철', '경기철도', '우이신설선'],\n",
       "      dtype=object)"
      ]
     },
     "execution_count": 9,
     "metadata": {},
     "output_type": "execute_result"
    }
   ],
   "source": [
    "# 중복 삭제 _ 노선명\n",
    "unique_data_exl = df_exl['노선명'].unique()\n",
    "unique_data_exl"
   ]
  },
  {
   "cell_type": "code",
   "execution_count": null,
   "metadata": {},
   "outputs": [
    {
     "data": {
      "text/plain": [
       "대중교통구분         지하철\n",
       "노선명            경인선\n",
       "년월          201804\n",
       "승차총승객수    10356250\n",
       "Name: 100, dtype: object"
      ]
     },
     "metadata": {},
     "output_type": "display_data"
    }
   ],
   "source": [
    "# 특정 행 출력 _ 100번\n",
    "df.\n",
    "\n",
    "# 행 이름과 index번호가 우연으로 일치해서지\n",
    "# 원래 이름은 loc(ation), 숫자는 iloc"
   ]
  },
  {
   "cell_type": "code",
   "execution_count": null,
   "metadata": {},
   "outputs": [
    {
     "data": {
      "text/plain": [
       "7876712"
      ]
     },
     "metadata": {},
     "output_type": "display_data"
    }
   ],
   "source": [
    "# loc 이용해서 특정 행,열 출력\n"
   ]
  },
  {
   "cell_type": "code",
   "execution_count": null,
   "metadata": {},
   "outputs": [
    {
     "data": {
      "text/plain": [
       "7876712"
      ]
     },
     "metadata": {},
     "output_type": "display_data"
    }
   ],
   "source": [
    "# iloc 이용해서 특정 행,열 출력\n"
   ]
  },
  {
   "cell_type": "code",
   "execution_count": null,
   "metadata": {},
   "outputs": [
    {
     "data": {
      "text/html": [
       "<div>\n",
       "<style scoped>\n",
       "    .dataframe tbody tr th:only-of-type {\n",
       "        vertical-align: middle;\n",
       "    }\n",
       "\n",
       "    .dataframe tbody tr th {\n",
       "        vertical-align: top;\n",
       "    }\n",
       "\n",
       "    .dataframe thead th {\n",
       "        text-align: right;\n",
       "    }\n",
       "</style>\n",
       "<table border=\"1\" class=\"dataframe\">\n",
       "  <thead>\n",
       "    <tr style=\"text-align: right;\">\n",
       "      <th></th>\n",
       "      <th>노선명</th>\n",
       "      <th>승차총승객수</th>\n",
       "    </tr>\n",
       "  </thead>\n",
       "  <tbody>\n",
       "    <tr>\n",
       "      <th>10</th>\n",
       "      <td>1호선</td>\n",
       "      <td>7876712</td>\n",
       "    </tr>\n",
       "    <tr>\n",
       "      <th>11</th>\n",
       "      <td>1호선</td>\n",
       "      <td>8783242</td>\n",
       "    </tr>\n",
       "    <tr>\n",
       "      <th>12</th>\n",
       "      <td>1호선</td>\n",
       "      <td>8692924</td>\n",
       "    </tr>\n",
       "  </tbody>\n",
       "</table>\n",
       "</div>"
      ],
      "text/plain": [
       "    노선명   승차총승객수\n",
       "10  1호선  7876712\n",
       "11  1호선  8783242\n",
       "12  1호선  8692924"
      ]
     },
     "metadata": {},
     "output_type": "display_data"
    }
   ],
   "source": [
    "# loc 이용해서 10~12행, 노선명,승차총승객수 출력\n",
    "\n",
    "# 두개 이상일때는 2차리스트[] 해줘야한다."
   ]
  },
  {
   "cell_type": "code",
   "execution_count": null,
   "metadata": {},
   "outputs": [
    {
     "data": {
      "text/html": [
       "<div>\n",
       "<style scoped>\n",
       "    .dataframe tbody tr th:only-of-type {\n",
       "        vertical-align: middle;\n",
       "    }\n",
       "\n",
       "    .dataframe tbody tr th {\n",
       "        vertical-align: top;\n",
       "    }\n",
       "\n",
       "    .dataframe thead th {\n",
       "        text-align: right;\n",
       "    }\n",
       "</style>\n",
       "<table border=\"1\" class=\"dataframe\">\n",
       "  <thead>\n",
       "    <tr style=\"text-align: right;\">\n",
       "      <th></th>\n",
       "      <th>노선명</th>\n",
       "      <th>승차총승객수</th>\n",
       "    </tr>\n",
       "  </thead>\n",
       "  <tbody>\n",
       "    <tr>\n",
       "      <th>10</th>\n",
       "      <td>1호선</td>\n",
       "      <td>7876712</td>\n",
       "    </tr>\n",
       "    <tr>\n",
       "      <th>11</th>\n",
       "      <td>1호선</td>\n",
       "      <td>8783242</td>\n",
       "    </tr>\n",
       "    <tr>\n",
       "      <th>12</th>\n",
       "      <td>1호선</td>\n",
       "      <td>8692924</td>\n",
       "    </tr>\n",
       "  </tbody>\n",
       "</table>\n",
       "</div>"
      ],
      "text/plain": [
       "    노선명   승차총승객수\n",
       "10  1호선  7876712\n",
       "11  1호선  8783242\n",
       "12  1호선  8692924"
      ]
     },
     "metadata": {},
     "output_type": "display_data"
    }
   ],
   "source": [
    "# iloc 이용해서 10~12행, 노선명,승차총승객수 출력\n"
   ]
  },
  {
   "cell_type": "code",
   "execution_count": null,
   "metadata": {},
   "outputs": [
    {
     "data": {
      "text/html": [
       "<div>\n",
       "<style scoped>\n",
       "    .dataframe tbody tr th:only-of-type {\n",
       "        vertical-align: middle;\n",
       "    }\n",
       "\n",
       "    .dataframe tbody tr th {\n",
       "        vertical-align: top;\n",
       "    }\n",
       "\n",
       "    .dataframe thead th {\n",
       "        text-align: right;\n",
       "    }\n",
       "</style>\n",
       "<table border=\"1\" class=\"dataframe\">\n",
       "  <thead>\n",
       "    <tr style=\"text-align: right;\">\n",
       "      <th></th>\n",
       "      <th>책이름</th>\n",
       "      <th>저자</th>\n",
       "      <th>출판사</th>\n",
       "      <th>출간일</th>\n",
       "      <th>가격</th>\n",
       "    </tr>\n",
       "  </thead>\n",
       "  <tbody>\n",
       "    <tr>\n",
       "      <th>0</th>\n",
       "      <td>Do it! 점프 투 파이썬</td>\n",
       "      <td>박응용</td>\n",
       "      <td>이지스퍼블리싱</td>\n",
       "      <td>2019년 06월</td>\n",
       "      <td>16,920</td>\n",
       "    </tr>\n",
       "    <tr>\n",
       "      <th>1</th>\n",
       "      <td>혼자 공부하는 머신러닝+딥러닝</td>\n",
       "      <td>박해선</td>\n",
       "      <td>한빛미디어</td>\n",
       "      <td>2020년 12월</td>\n",
       "      <td>23,400</td>\n",
       "    </tr>\n",
       "    <tr>\n",
       "      <th>2</th>\n",
       "      <td>혼자 공부하는 파이썬</td>\n",
       "      <td>윤인성</td>\n",
       "      <td>한빛미디어</td>\n",
       "      <td>2019년 06월</td>\n",
       "      <td>16,200</td>\n",
       "    </tr>\n",
       "    <tr>\n",
       "      <th>3</th>\n",
       "      <td>이것이 취업을 위한 코딩 테스트다 with 파이썬</td>\n",
       "      <td>나동빈</td>\n",
       "      <td>한빛미디어</td>\n",
       "      <td>2020년 08월</td>\n",
       "      <td>30,600</td>\n",
       "    </tr>\n",
       "    <tr>\n",
       "      <th>4</th>\n",
       "      <td>비전공자도 이해할 수 있는 AI 지식</td>\n",
       "      <td>박상길</td>\n",
       "      <td>반니</td>\n",
       "      <td>2022년 03월</td>\n",
       "      <td>17,820</td>\n",
       "    </tr>\n",
       "    <tr>\n",
       "      <th>...</th>\n",
       "      <td>...</td>\n",
       "      <td>...</td>\n",
       "      <td>...</td>\n",
       "      <td>...</td>\n",
       "      <td>...</td>\n",
       "    </tr>\n",
       "    <tr>\n",
       "      <th>739</th>\n",
       "      <td>스펙트럼 머신러닝 with 파이썬</td>\n",
       "      <td>장철원</td>\n",
       "      <td>비제이퍼블릭(BJ퍼블릭)</td>\n",
       "      <td>2021년 12월</td>\n",
       "      <td>64,350</td>\n",
       "    </tr>\n",
       "    <tr>\n",
       "      <th>740</th>\n",
       "      <td>당신이 지금 알아야 할 클라우드 세트</td>\n",
       "      <td>이영호</td>\n",
       "      <td>비제이퍼블릭(BJ퍼블릭)</td>\n",
       "      <td>2020년 10월</td>\n",
       "      <td>142,200</td>\n",
       "    </tr>\n",
       "    <tr>\n",
       "      <th>741</th>\n",
       "      <td>Step by Step 파이썬 비즈니스 통계분석</td>\n",
       "      <td>김형수</td>\n",
       "      <td>프레딕스</td>\n",
       "      <td>2021년 11월</td>\n",
       "      <td>32,000</td>\n",
       "    </tr>\n",
       "    <tr>\n",
       "      <th>742</th>\n",
       "      <td>머신러닝 알고리듬 트레이딩</td>\n",
       "      <td>스테판 젠슨</td>\n",
       "      <td>에이콘출판사</td>\n",
       "      <td>2021년 09월</td>\n",
       "      <td>76,500</td>\n",
       "    </tr>\n",
       "    <tr>\n",
       "      <th>743</th>\n",
       "      <td>머신러닝 알고리즘 트레이딩</td>\n",
       "      <td>세바스티앙 도나디오</td>\n",
       "      <td>에이콘출판사</td>\n",
       "      <td>0001년 01월</td>\n",
       "      <td>70,200</td>\n",
       "    </tr>\n",
       "  </tbody>\n",
       "</table>\n",
       "<p>744 rows × 5 columns</p>\n",
       "</div>"
      ],
      "text/plain": [
       "                              책이름          저자            출판사        출간일  \\\n",
       "0                 Do it! 점프 투 파이썬         박응용        이지스퍼블리싱  2019년 06월   \n",
       "1                혼자 공부하는 머신러닝+딥러닝         박해선          한빛미디어  2020년 12월   \n",
       "2                     혼자 공부하는 파이썬         윤인성          한빛미디어  2019년 06월   \n",
       "3    이것이 취업을 위한 코딩 테스트다 with 파이썬          나동빈          한빛미디어  2020년 08월   \n",
       "4            비전공자도 이해할 수 있는 AI 지식         박상길             반니  2022년 03월   \n",
       "..                            ...         ...            ...        ...   \n",
       "739            스펙트럼 머신러닝 with 파이썬         장철원  비제이퍼블릭(BJ퍼블릭)  2021년 12월   \n",
       "740          당신이 지금 알아야 할 클라우드 세트         이영호  비제이퍼블릭(BJ퍼블릭)  2020년 10월   \n",
       "741    Step by Step 파이썬 비즈니스 통계분석         김형수           프레딕스  2021년 11월   \n",
       "742                머신러닝 알고리듬 트레이딩      스테판 젠슨         에이콘출판사  2021년 09월   \n",
       "743                머신러닝 알고리즘 트레이딩  세바스티앙 도나디오         에이콘출판사  0001년 01월   \n",
       "\n",
       "          가격  \n",
       "0     16,920  \n",
       "1     23,400  \n",
       "2     16,200  \n",
       "3     30,600  \n",
       "4     17,820  \n",
       "..       ...  \n",
       "739   64,350  \n",
       "740  142,200  \n",
       "741   32,000  \n",
       "742   76,500  \n",
       "743   70,200  \n",
       "\n",
       "[744 rows x 5 columns]"
      ]
     },
     "metadata": {},
     "output_type": "display_data"
    }
   ],
   "source": [
    "# csv 파일 받아오기\n"
   ]
  },
  {
   "cell_type": "code",
   "execution_count": null,
   "metadata": {},
   "outputs": [
    {
     "data": {
      "text/plain": [
       "(744, 5)"
      ]
     },
     "metadata": {},
     "output_type": "display_data"
    }
   ],
   "source": [
    "# 데이터 크기\n"
   ]
  },
  {
   "cell_type": "code",
   "execution_count": null,
   "metadata": {},
   "outputs": [
    {
     "data": {
      "text/html": [
       "<div>\n",
       "<style scoped>\n",
       "    .dataframe tbody tr th:only-of-type {\n",
       "        vertical-align: middle;\n",
       "    }\n",
       "\n",
       "    .dataframe tbody tr th {\n",
       "        vertical-align: top;\n",
       "    }\n",
       "\n",
       "    .dataframe thead th {\n",
       "        text-align: right;\n",
       "    }\n",
       "</style>\n",
       "<table border=\"1\" class=\"dataframe\">\n",
       "  <thead>\n",
       "    <tr style=\"text-align: right;\">\n",
       "      <th></th>\n",
       "      <th>책이름</th>\n",
       "      <th>저자</th>\n",
       "      <th>출판사</th>\n",
       "      <th>출간일</th>\n",
       "      <th>가격</th>\n",
       "    </tr>\n",
       "  </thead>\n",
       "  <tbody>\n",
       "    <tr>\n",
       "      <th>0</th>\n",
       "      <td>Do it! 점프 투 파이썬</td>\n",
       "      <td>박응용</td>\n",
       "      <td>이지스퍼블리싱</td>\n",
       "      <td>2019년 06월</td>\n",
       "      <td>16,920</td>\n",
       "    </tr>\n",
       "    <tr>\n",
       "      <th>1</th>\n",
       "      <td>혼자 공부하는 머신러닝+딥러닝</td>\n",
       "      <td>박해선</td>\n",
       "      <td>한빛미디어</td>\n",
       "      <td>2020년 12월</td>\n",
       "      <td>23,400</td>\n",
       "    </tr>\n",
       "    <tr>\n",
       "      <th>2</th>\n",
       "      <td>혼자 공부하는 파이썬</td>\n",
       "      <td>윤인성</td>\n",
       "      <td>한빛미디어</td>\n",
       "      <td>2019년 06월</td>\n",
       "      <td>16,200</td>\n",
       "    </tr>\n",
       "    <tr>\n",
       "      <th>3</th>\n",
       "      <td>이것이 취업을 위한 코딩 테스트다 with 파이썬</td>\n",
       "      <td>나동빈</td>\n",
       "      <td>한빛미디어</td>\n",
       "      <td>2020년 08월</td>\n",
       "      <td>30,600</td>\n",
       "    </tr>\n",
       "    <tr>\n",
       "      <th>4</th>\n",
       "      <td>비전공자도 이해할 수 있는 AI 지식</td>\n",
       "      <td>박상길</td>\n",
       "      <td>반니</td>\n",
       "      <td>2022년 03월</td>\n",
       "      <td>17,820</td>\n",
       "    </tr>\n",
       "  </tbody>\n",
       "</table>\n",
       "</div>"
      ],
      "text/plain": [
       "                            책이름   저자      출판사        출간일      가격\n",
       "0               Do it! 점프 투 파이썬  박응용  이지스퍼블리싱  2019년 06월  16,920\n",
       "1              혼자 공부하는 머신러닝+딥러닝  박해선    한빛미디어  2020년 12월  23,400\n",
       "2                   혼자 공부하는 파이썬  윤인성    한빛미디어  2019년 06월  16,200\n",
       "3  이것이 취업을 위한 코딩 테스트다 with 파이썬   나동빈    한빛미디어  2020년 08월  30,600\n",
       "4          비전공자도 이해할 수 있는 AI 지식  박상길       반니  2022년 03월  17,820"
      ]
     },
     "metadata": {},
     "output_type": "display_data"
    }
   ],
   "source": [
    "# 앞 5개 데이터 출력\n"
   ]
  },
  {
   "cell_type": "code",
   "execution_count": null,
   "metadata": {},
   "outputs": [
    {
     "data": {
      "text/html": [
       "<div>\n",
       "<style scoped>\n",
       "    .dataframe tbody tr th:only-of-type {\n",
       "        vertical-align: middle;\n",
       "    }\n",
       "\n",
       "    .dataframe tbody tr th {\n",
       "        vertical-align: top;\n",
       "    }\n",
       "\n",
       "    .dataframe thead th {\n",
       "        text-align: right;\n",
       "    }\n",
       "</style>\n",
       "<table border=\"1\" class=\"dataframe\">\n",
       "  <thead>\n",
       "    <tr style=\"text-align: right;\">\n",
       "      <th></th>\n",
       "      <th>책이름</th>\n",
       "      <th>저자</th>\n",
       "      <th>출판사</th>\n",
       "      <th>출간일</th>\n",
       "      <th>가격</th>\n",
       "    </tr>\n",
       "  </thead>\n",
       "  <tbody>\n",
       "    <tr>\n",
       "      <th>739</th>\n",
       "      <td>스펙트럼 머신러닝 with 파이썬</td>\n",
       "      <td>장철원</td>\n",
       "      <td>비제이퍼블릭(BJ퍼블릭)</td>\n",
       "      <td>2021년 12월</td>\n",
       "      <td>64,350</td>\n",
       "    </tr>\n",
       "    <tr>\n",
       "      <th>740</th>\n",
       "      <td>당신이 지금 알아야 할 클라우드 세트</td>\n",
       "      <td>이영호</td>\n",
       "      <td>비제이퍼블릭(BJ퍼블릭)</td>\n",
       "      <td>2020년 10월</td>\n",
       "      <td>142,200</td>\n",
       "    </tr>\n",
       "    <tr>\n",
       "      <th>741</th>\n",
       "      <td>Step by Step 파이썬 비즈니스 통계분석</td>\n",
       "      <td>김형수</td>\n",
       "      <td>프레딕스</td>\n",
       "      <td>2021년 11월</td>\n",
       "      <td>32,000</td>\n",
       "    </tr>\n",
       "    <tr>\n",
       "      <th>742</th>\n",
       "      <td>머신러닝 알고리듬 트레이딩</td>\n",
       "      <td>스테판 젠슨</td>\n",
       "      <td>에이콘출판사</td>\n",
       "      <td>2021년 09월</td>\n",
       "      <td>76,500</td>\n",
       "    </tr>\n",
       "    <tr>\n",
       "      <th>743</th>\n",
       "      <td>머신러닝 알고리즘 트레이딩</td>\n",
       "      <td>세바스티앙 도나디오</td>\n",
       "      <td>에이콘출판사</td>\n",
       "      <td>0001년 01월</td>\n",
       "      <td>70,200</td>\n",
       "    </tr>\n",
       "  </tbody>\n",
       "</table>\n",
       "</div>"
      ],
      "text/plain": [
       "                            책이름          저자            출판사        출간일       가격\n",
       "739          스펙트럼 머신러닝 with 파이썬         장철원  비제이퍼블릭(BJ퍼블릭)  2021년 12월   64,350\n",
       "740        당신이 지금 알아야 할 클라우드 세트         이영호  비제이퍼블릭(BJ퍼블릭)  2020년 10월  142,200\n",
       "741  Step by Step 파이썬 비즈니스 통계분석         김형수           프레딕스  2021년 11월   32,000\n",
       "742              머신러닝 알고리듬 트레이딩      스테판 젠슨         에이콘출판사  2021년 09월   76,500\n",
       "743              머신러닝 알고리즘 트레이딩  세바스티앙 도나디오         에이콘출판사  0001년 01월   70,200"
      ]
     },
     "metadata": {},
     "output_type": "display_data"
    }
   ],
   "source": [
    "# 뒤 5개 데이터 출력\n"
   ]
  },
  {
   "cell_type": "code",
   "execution_count": null,
   "metadata": {},
   "outputs": [
    {
     "name": "stdout",
     "output_type": "stream",
     "text": [
      "<class 'pandas.core.frame.DataFrame'>\n",
      "RangeIndex: 744 entries, 0 to 743\n",
      "Data columns (total 5 columns):\n",
      " #   Column  Non-Null Count  Dtype \n",
      "---  ------  --------------  ----- \n",
      " 0   책이름     744 non-null    object\n",
      " 1   저자      744 non-null    object\n",
      " 2   출판사     744 non-null    object\n",
      " 3   출간일     744 non-null    object\n",
      " 4   가격      744 non-null    object\n",
      "dtypes: object(5)\n",
      "memory usage: 29.2+ KB\n"
     ]
    }
   ],
   "source": [
    "# 데이터 타입\n"
   ]
  },
  {
   "cell_type": "code",
   "execution_count": null,
   "metadata": {},
   "outputs": [
    {
     "data": {
      "text/html": [
       "<div>\n",
       "<style scoped>\n",
       "    .dataframe tbody tr th:only-of-type {\n",
       "        vertical-align: middle;\n",
       "    }\n",
       "\n",
       "    .dataframe tbody tr th {\n",
       "        vertical-align: top;\n",
       "    }\n",
       "\n",
       "    .dataframe thead th {\n",
       "        text-align: right;\n",
       "    }\n",
       "</style>\n",
       "<table border=\"1\" class=\"dataframe\">\n",
       "  <thead>\n",
       "    <tr style=\"text-align: right;\">\n",
       "      <th></th>\n",
       "      <th>책이름</th>\n",
       "      <th>저자</th>\n",
       "      <th>출판사</th>\n",
       "      <th>출간일</th>\n",
       "      <th>가격</th>\n",
       "    </tr>\n",
       "  </thead>\n",
       "  <tbody>\n",
       "    <tr>\n",
       "      <th>count</th>\n",
       "      <td>744</td>\n",
       "      <td>744</td>\n",
       "      <td>744</td>\n",
       "      <td>744</td>\n",
       "      <td>744</td>\n",
       "    </tr>\n",
       "    <tr>\n",
       "      <th>unique</th>\n",
       "      <td>720</td>\n",
       "      <td>607</td>\n",
       "      <td>130</td>\n",
       "      <td>93</td>\n",
       "      <td>103</td>\n",
       "    </tr>\n",
       "    <tr>\n",
       "      <th>top</th>\n",
       "      <td>파이썬 프로그래밍</td>\n",
       "      <td>천인국</td>\n",
       "      <td>한빛미디어</td>\n",
       "      <td>2022년 03월</td>\n",
       "      <td>27,000</td>\n",
       "    </tr>\n",
       "    <tr>\n",
       "      <th>freq</th>\n",
       "      <td>8</td>\n",
       "      <td>7</td>\n",
       "      <td>102</td>\n",
       "      <td>24</td>\n",
       "      <td>58</td>\n",
       "    </tr>\n",
       "  </tbody>\n",
       "</table>\n",
       "</div>"
      ],
      "text/plain": [
       "              책이름   저자    출판사        출간일      가격\n",
       "count         744  744    744        744     744\n",
       "unique        720  607    130         93     103\n",
       "top     파이썬 프로그래밍  천인국  한빛미디어  2022년 03월  27,000\n",
       "freq            8    7    102         24      58"
      ]
     },
     "metadata": {},
     "output_type": "display_data"
    }
   ],
   "source": [
    "# 기술 통계\n"
   ]
  },
  {
   "cell_type": "code",
   "execution_count": null,
   "metadata": {},
   "outputs": [
    {
     "data": {
      "text/plain": [
       "array(['이지스퍼블리싱', '한빛미디어', '반니', '길벗', '앤써북', '책만', '생능출판사', '위키북스',\n",
       "       '파이스탁', '정보문화사', '비제이퍼블릭(BJ퍼블릭)', '한빛아카데미', '생능북스', '에이콘출판사',\n",
       "       '인포앤북', '골든래빗', '인피니티북스', '로드북', '제이펍', '영진닷컴', '터닝포인트', '오렌지미디어',\n",
       "       '루비페이퍼', '시대고시기획 시대교육', '삼양미디어', '인사이트(insight)', '자유아카데미', '구미서관',\n",
       "       'BOOKK(부크크)', '연두에디션', '복두출판사', '광문각', '잇플ITPLE', '삼일인포마인', '프리렉',\n",
       "       '아이콕스(iCox)', '성안당', '씨마스', '홍릉과학출판사', '서울대학교출판문화원', '씨마스21',\n",
       "       '코딩엑스', '햄큐(HAMQ)', '이한미디어', '부산대학교출판문화원', '디지털북스', '북스홀릭퍼블리싱',\n",
       "       '동양북스(동양books)', '명진씨앤피', '가메출판사', 'REXmedia(렉스미디어)', '남가람북스',\n",
       "       '아이씨뱅큐', '미리어드스페이스', '21세기사', '한양대학교출판부', '휴먼싸이언스', '오일러', '코딩타임',\n",
       "       '가치랩스', '서현사', '늘봄', '책밥', '아티오', '홍릉', '심통', '지오북스', '한국정보인재개발원',\n",
       "       '범', '시그마프레스', '씨아이알(CIR)', '교학사', '내하출판사', '정익사',\n",
       "       '스토리조아(STORYJOA)', '좋은땅', '아이리포', '성진미디어', '코쿤아우트', '비팬북스(러닝스페이스)',\n",
       "       '도수서원', '(주)코딩스쿨', '그린 (윤덕우)', '디스커버리미디어', 'AK(에이케이 커뮤니케이션즈)',\n",
       "       '지오아카데미', '스포트라잇북', '그린', '글로벌', 'e비즈북스', '혜지원', '한티에듀', '인디라이프',\n",
       "       '시대인', '에듀웨이', '카오스북', '(주)박영사', '와이북스', '다올미디어', '한나래', '일진사',\n",
       "       '한경사', '원펀치', '기한재', '상학당', '앤아이컴즈', 'UUP', '플랜투비아이플러스',\n",
       "       '부산대학교출판부(PNU Press)', '지앤선(志&嬋)', '경문사', '창조와지식', '크라운출판사',\n",
       "       '지식과감성#', '영남대학교출판부(知YU智)', '노드미디어', '출판사Bogook(출판사보국)',\n",
       "       '한성대학교출판부', '더코딩칼리지', '북스힐', '지란지교에듀랩', '에피스테메(방송대출판문화원)',\n",
       "       '서울시립대학교출판부', '북랩', '고시고시', '구민사', '넥서스', '이모션미디어', '(유)캐멀컨설팅',\n",
       "       '프레딕스'], dtype=object)"
      ]
     },
     "metadata": {},
     "output_type": "display_data"
    }
   ],
   "source": [
    "# 중복 삭제 _ 출판사\n"
   ]
  },
  {
   "cell_type": "code",
   "execution_count": null,
   "metadata": {},
   "outputs": [
    {
     "name": "stdout",
     "output_type": "stream",
     "text": [
      "<class 'pandas.core.frame.DataFrame'>\n",
      "RangeIndex: 744 entries, 0 to 743\n",
      "Data columns (total 5 columns):\n",
      " #   Column  Non-Null Count  Dtype \n",
      "---  ------  --------------  ----- \n",
      " 0   책이름     744 non-null    object\n",
      " 1   저자      744 non-null    object\n",
      " 2   출판사     744 non-null    object\n",
      " 3   출간일     744 non-null    object\n",
      " 4   가격      744 non-null    int32 \n",
      "dtypes: int32(1), object(4)\n",
      "memory usage: 26.3+ KB\n"
     ]
    }
   ],
   "source": [
    "# 데이터 수정\n",
    "\n",
    "# 1. ',' 없애기 _ 가격에서\n",
    "\n",
    "# 2. 문자형 -> 숫자형으로 변환\n",
    "\n",
    "# 데이터 타입 확인\n"
   ]
  },
  {
   "cell_type": "code",
   "execution_count": null,
   "metadata": {},
   "outputs": [
    {
     "data": {
      "text/html": [
       "<div>\n",
       "<style scoped>\n",
       "    .dataframe tbody tr th:only-of-type {\n",
       "        vertical-align: middle;\n",
       "    }\n",
       "\n",
       "    .dataframe tbody tr th {\n",
       "        vertical-align: top;\n",
       "    }\n",
       "\n",
       "    .dataframe thead th {\n",
       "        text-align: right;\n",
       "    }\n",
       "</style>\n",
       "<table border=\"1\" class=\"dataframe\">\n",
       "  <thead>\n",
       "    <tr style=\"text-align: right;\">\n",
       "      <th></th>\n",
       "      <th>가격</th>\n",
       "    </tr>\n",
       "  </thead>\n",
       "  <tbody>\n",
       "    <tr>\n",
       "      <th>count</th>\n",
       "      <td>744.000000</td>\n",
       "    </tr>\n",
       "    <tr>\n",
       "      <th>mean</th>\n",
       "      <td>24828.521505</td>\n",
       "    </tr>\n",
       "    <tr>\n",
       "      <th>std</th>\n",
       "      <td>9581.718881</td>\n",
       "    </tr>\n",
       "    <tr>\n",
       "      <th>min</th>\n",
       "      <td>4500.000000</td>\n",
       "    </tr>\n",
       "    <tr>\n",
       "      <th>25%</th>\n",
       "      <td>19800.000000</td>\n",
       "    </tr>\n",
       "    <tr>\n",
       "      <th>50%</th>\n",
       "      <td>23875.000000</td>\n",
       "    </tr>\n",
       "    <tr>\n",
       "      <th>75%</th>\n",
       "      <td>28800.000000</td>\n",
       "    </tr>\n",
       "    <tr>\n",
       "      <th>max</th>\n",
       "      <td>142200.000000</td>\n",
       "    </tr>\n",
       "  </tbody>\n",
       "</table>\n",
       "</div>"
      ],
      "text/plain": [
       "                  가격\n",
       "count     744.000000\n",
       "mean    24828.521505\n",
       "std      9581.718881\n",
       "min      4500.000000\n",
       "25%     19800.000000\n",
       "50%     23875.000000\n",
       "75%     28800.000000\n",
       "max    142200.000000"
      ]
     },
     "metadata": {},
     "output_type": "display_data"
    }
   ],
   "source": [
    "# 기술 통계\n"
   ]
  },
  {
   "cell_type": "code",
   "execution_count": null,
   "metadata": {},
   "outputs": [
    {
     "data": {
      "text/html": [
       "<div>\n",
       "<style scoped>\n",
       "    .dataframe tbody tr th:only-of-type {\n",
       "        vertical-align: middle;\n",
       "    }\n",
       "\n",
       "    .dataframe tbody tr th {\n",
       "        vertical-align: top;\n",
       "    }\n",
       "\n",
       "    .dataframe thead th {\n",
       "        text-align: right;\n",
       "    }\n",
       "</style>\n",
       "<table border=\"1\" class=\"dataframe\">\n",
       "  <thead>\n",
       "    <tr style=\"text-align: right;\">\n",
       "      <th></th>\n",
       "      <th>책이름</th>\n",
       "      <th>저자</th>\n",
       "      <th>출판사</th>\n",
       "      <th>출간일</th>\n",
       "      <th>가격</th>\n",
       "    </tr>\n",
       "  </thead>\n",
       "  <tbody>\n",
       "    <tr>\n",
       "      <th>724</th>\n",
       "      <td>처음 시작하는 파이썬 코딩</td>\n",
       "      <td>문병수</td>\n",
       "      <td>(유)캐멀컨설팅</td>\n",
       "      <td>2017년 07월</td>\n",
       "      <td>14400</td>\n",
       "    </tr>\n",
       "    <tr>\n",
       "      <th>545</th>\n",
       "      <td>파이썬 해킹프로그래밍</td>\n",
       "      <td>한상준</td>\n",
       "      <td>(주)박영사</td>\n",
       "      <td>2019년 03월</td>\n",
       "      <td>14000</td>\n",
       "    </tr>\n",
       "    <tr>\n",
       "      <th>483</th>\n",
       "      <td>스타트 파이썬</td>\n",
       "      <td>황재호</td>\n",
       "      <td>(주)코딩스쿨</td>\n",
       "      <td>2018년 09월</td>\n",
       "      <td>17100</td>\n",
       "    </tr>\n",
       "    <tr>\n",
       "      <th>633</th>\n",
       "      <td>파이썬 터틀 그래픽을 이용한 프로그래밍 코딩</td>\n",
       "      <td>정민영</td>\n",
       "      <td>21세기사</td>\n",
       "      <td>2017년 09월</td>\n",
       "      <td>20000</td>\n",
       "    </tr>\n",
       "    <tr>\n",
       "      <th>614</th>\n",
       "      <td>파이썬을 이용한 빅데이터 분석</td>\n",
       "      <td>유성준</td>\n",
       "      <td>21세기사</td>\n",
       "      <td>2018년 10월</td>\n",
       "      <td>25000</td>\n",
       "    </tr>\n",
       "  </tbody>\n",
       "</table>\n",
       "</div>"
      ],
      "text/plain": [
       "                          책이름   저자       출판사        출간일     가격\n",
       "724            처음 시작하는 파이썬 코딩  문병수  (유)캐멀컨설팅  2017년 07월  14400\n",
       "545               파이썬 해킹프로그래밍  한상준    (주)박영사  2019년 03월  14000\n",
       "483                   스타트 파이썬  황재호   (주)코딩스쿨  2018년 09월  17100\n",
       "633  파이썬 터틀 그래픽을 이용한 프로그래밍 코딩  정민영     21세기사  2017년 09월  20000\n",
       "614          파이썬을 이용한 빅데이터 분석  유성준     21세기사  2018년 10월  25000"
      ]
     },
     "metadata": {},
     "output_type": "display_data"
    }
   ],
   "source": [
    "# 출간일 순으로 정렬 후 출력 _ sort_values\n",
    "\n",
    "# 오름차순: True, 내림차순: False"
   ]
  },
  {
   "cell_type": "code",
   "execution_count": null,
   "metadata": {},
   "outputs": [
    {
     "data": {
      "text/html": [
       "<div>\n",
       "<style scoped>\n",
       "    .dataframe tbody tr th:only-of-type {\n",
       "        vertical-align: middle;\n",
       "    }\n",
       "\n",
       "    .dataframe tbody tr th {\n",
       "        vertical-align: top;\n",
       "    }\n",
       "\n",
       "    .dataframe thead th {\n",
       "        text-align: right;\n",
       "    }\n",
       "</style>\n",
       "<table border=\"1\" class=\"dataframe\">\n",
       "  <thead>\n",
       "    <tr style=\"text-align: right;\">\n",
       "      <th></th>\n",
       "      <th>책이름</th>\n",
       "      <th>저자</th>\n",
       "      <th>출판사</th>\n",
       "      <th>출간일</th>\n",
       "      <th>가격</th>\n",
       "    </tr>\n",
       "  </thead>\n",
       "  <tbody>\n",
       "    <tr>\n",
       "      <th>0</th>\n",
       "      <td>Do it! 점프 투 파이썬</td>\n",
       "      <td>박응용</td>\n",
       "      <td>이지스퍼블리싱</td>\n",
       "      <td>2019년 06월</td>\n",
       "      <td>16920</td>\n",
       "    </tr>\n",
       "    <tr>\n",
       "      <th>2</th>\n",
       "      <td>혼자 공부하는 파이썬</td>\n",
       "      <td>윤인성</td>\n",
       "      <td>한빛미디어</td>\n",
       "      <td>2019년 06월</td>\n",
       "      <td>16200</td>\n",
       "    </tr>\n",
       "    <tr>\n",
       "      <th>4</th>\n",
       "      <td>비전공자도 이해할 수 있는 AI 지식</td>\n",
       "      <td>박상길</td>\n",
       "      <td>반니</td>\n",
       "      <td>2022년 03월</td>\n",
       "      <td>17820</td>\n",
       "    </tr>\n",
       "    <tr>\n",
       "      <th>6</th>\n",
       "      <td>모두의 데이터 분석 with 파이썬</td>\n",
       "      <td>송석리</td>\n",
       "      <td>길벗</td>\n",
       "      <td>2019년 04월</td>\n",
       "      <td>16200</td>\n",
       "    </tr>\n",
       "    <tr>\n",
       "      <th>8</th>\n",
       "      <td>만들면서 배우는 파이썬과 40개의 작품들</td>\n",
       "      <td>장문철</td>\n",
       "      <td>앤써북</td>\n",
       "      <td>2022년 02월</td>\n",
       "      <td>16920</td>\n",
       "    </tr>\n",
       "    <tr>\n",
       "      <th>11</th>\n",
       "      <td>Do it! 파이썬 생활 프로그래밍</td>\n",
       "      <td>김창현</td>\n",
       "      <td>이지스퍼블리싱</td>\n",
       "      <td>2020년 07월</td>\n",
       "      <td>18000</td>\n",
       "    </tr>\n",
       "    <tr>\n",
       "      <th>12</th>\n",
       "      <td>Do it! 자료구조와 함께 배우는 알고리즘 입문 : 파이썬 편</td>\n",
       "      <td>시바타 보요</td>\n",
       "      <td>이지스퍼블리싱</td>\n",
       "      <td>2020년 07월</td>\n",
       "      <td>19800</td>\n",
       "    </tr>\n",
       "    <tr>\n",
       "      <th>14</th>\n",
       "      <td>Do it! 첫 파이썬</td>\n",
       "      <td>엘리스 코딩</td>\n",
       "      <td>이지스퍼블리싱</td>\n",
       "      <td>2020년 04월</td>\n",
       "      <td>12600</td>\n",
       "    </tr>\n",
       "    <tr>\n",
       "      <th>17</th>\n",
       "      <td>모두가 할 수 있는 앱 인벤터로 11개 인공지능 앱 만들기</td>\n",
       "      <td>박지숙</td>\n",
       "      <td>앤써북</td>\n",
       "      <td>2021년 06월</td>\n",
       "      <td>13050</td>\n",
       "    </tr>\n",
       "    <tr>\n",
       "      <th>18</th>\n",
       "      <td>모두의 파이썬</td>\n",
       "      <td>이승찬</td>\n",
       "      <td>길벗</td>\n",
       "      <td>2018년 10월</td>\n",
       "      <td>10800</td>\n",
       "    </tr>\n",
       "  </tbody>\n",
       "</table>\n",
       "</div>"
      ],
      "text/plain": [
       "                                    책이름      저자      출판사        출간일     가격\n",
       "0                       Do it! 점프 투 파이썬     박응용  이지스퍼블리싱  2019년 06월  16920\n",
       "2                           혼자 공부하는 파이썬     윤인성    한빛미디어  2019년 06월  16200\n",
       "4                  비전공자도 이해할 수 있는 AI 지식     박상길       반니  2022년 03월  17820\n",
       "6                   모두의 데이터 분석 with 파이썬     송석리       길벗  2019년 04월  16200\n",
       "8                만들면서 배우는 파이썬과 40개의 작품들     장문철      앤써북  2022년 02월  16920\n",
       "11                  Do it! 파이썬 생활 프로그래밍     김창현  이지스퍼블리싱  2020년 07월  18000\n",
       "12  Do it! 자료구조와 함께 배우는 알고리즘 입문 : 파이썬 편  시바타 보요  이지스퍼블리싱  2020년 07월  19800\n",
       "14                         Do it! 첫 파이썬  엘리스 코딩  이지스퍼블리싱  2020년 04월  12600\n",
       "17     모두가 할 수 있는 앱 인벤터로 11개 인공지능 앱 만들기     박지숙      앤써북  2021년 06월  13050\n",
       "18                              모두의 파이썬     이승찬       길벗  2018년 10월  10800"
      ]
     },
     "metadata": {},
     "output_type": "display_data"
    }
   ],
   "source": [
    "# 조건식 조회_ (10000 <= x <= 20000) 가격인 책 출력\n"
   ]
  },
  {
   "cell_type": "code",
   "execution_count": null,
   "metadata": {},
   "outputs": [
    {
     "data": {
      "text/html": [
       "<div>\n",
       "<style scoped>\n",
       "    .dataframe tbody tr th:only-of-type {\n",
       "        vertical-align: middle;\n",
       "    }\n",
       "\n",
       "    .dataframe tbody tr th {\n",
       "        vertical-align: top;\n",
       "    }\n",
       "\n",
       "    .dataframe thead th {\n",
       "        text-align: right;\n",
       "    }\n",
       "</style>\n",
       "<table border=\"1\" class=\"dataframe\">\n",
       "  <thead>\n",
       "    <tr style=\"text-align: right;\">\n",
       "      <th></th>\n",
       "      <th>책이름</th>\n",
       "      <th>저자</th>\n",
       "      <th>출판사</th>\n",
       "      <th>출간일</th>\n",
       "      <th>가격</th>\n",
       "    </tr>\n",
       "  </thead>\n",
       "  <tbody>\n",
       "    <tr>\n",
       "      <th>0</th>\n",
       "      <td>Do it! 점프 투 파이썬</td>\n",
       "      <td>박응용</td>\n",
       "      <td>이지스퍼블리싱</td>\n",
       "      <td>2019년 06월</td>\n",
       "      <td>16920</td>\n",
       "    </tr>\n",
       "    <tr>\n",
       "      <th>2</th>\n",
       "      <td>혼자 공부하는 파이썬</td>\n",
       "      <td>윤인성</td>\n",
       "      <td>한빛미디어</td>\n",
       "      <td>2019년 06월</td>\n",
       "      <td>16200</td>\n",
       "    </tr>\n",
       "    <tr>\n",
       "      <th>3</th>\n",
       "      <td>이것이 취업을 위한 코딩 테스트다 with 파이썬</td>\n",
       "      <td>나동빈</td>\n",
       "      <td>한빛미디어</td>\n",
       "      <td>2020년 08월</td>\n",
       "      <td>30600</td>\n",
       "    </tr>\n",
       "    <tr>\n",
       "      <th>6</th>\n",
       "      <td>모두의 데이터 분석 with 파이썬</td>\n",
       "      <td>송석리</td>\n",
       "      <td>길벗</td>\n",
       "      <td>2019년 04월</td>\n",
       "      <td>16200</td>\n",
       "    </tr>\n",
       "    <tr>\n",
       "      <th>8</th>\n",
       "      <td>만들면서 배우는 파이썬과 40개의 작품들</td>\n",
       "      <td>장문철</td>\n",
       "      <td>앤써북</td>\n",
       "      <td>2022년 02월</td>\n",
       "      <td>16920</td>\n",
       "    </tr>\n",
       "    <tr>\n",
       "      <th>...</th>\n",
       "      <td>...</td>\n",
       "      <td>...</td>\n",
       "      <td>...</td>\n",
       "      <td>...</td>\n",
       "      <td>...</td>\n",
       "    </tr>\n",
       "    <tr>\n",
       "      <th>736</th>\n",
       "      <td>실전 파이썬 핸즈온 프로젝트</td>\n",
       "      <td>리 본</td>\n",
       "      <td>책만</td>\n",
       "      <td>2022년 05월</td>\n",
       "      <td>25200</td>\n",
       "    </tr>\n",
       "    <tr>\n",
       "      <th>737</th>\n",
       "      <td>Do it! 점프 투 파이썬 + 파이썬 라이브러리 예제 편</td>\n",
       "      <td>박응용</td>\n",
       "      <td>이지스퍼블리싱</td>\n",
       "      <td>2022년 05월</td>\n",
       "      <td>40320</td>\n",
       "    </tr>\n",
       "    <tr>\n",
       "      <th>738</th>\n",
       "      <td>파이썬 프로그래밍</td>\n",
       "      <td>손승일</td>\n",
       "      <td>21세기사</td>\n",
       "      <td>2022년 01월</td>\n",
       "      <td>30000</td>\n",
       "    </tr>\n",
       "    <tr>\n",
       "      <th>739</th>\n",
       "      <td>스펙트럼 머신러닝 with 파이썬</td>\n",
       "      <td>장철원</td>\n",
       "      <td>비제이퍼블릭(BJ퍼블릭)</td>\n",
       "      <td>2021년 12월</td>\n",
       "      <td>64350</td>\n",
       "    </tr>\n",
       "    <tr>\n",
       "      <th>741</th>\n",
       "      <td>Step by Step 파이썬 비즈니스 통계분석</td>\n",
       "      <td>김형수</td>\n",
       "      <td>프레딕스</td>\n",
       "      <td>2021년 11월</td>\n",
       "      <td>32000</td>\n",
       "    </tr>\n",
       "  </tbody>\n",
       "</table>\n",
       "<p>502 rows × 5 columns</p>\n",
       "</div>"
      ],
      "text/plain": [
       "                                  책이름   저자            출판사        출간일     가격\n",
       "0                     Do it! 점프 투 파이썬  박응용        이지스퍼블리싱  2019년 06월  16920\n",
       "2                         혼자 공부하는 파이썬  윤인성          한빛미디어  2019년 06월  16200\n",
       "3        이것이 취업을 위한 코딩 테스트다 with 파이썬   나동빈          한빛미디어  2020년 08월  30600\n",
       "6                 모두의 데이터 분석 with 파이썬  송석리             길벗  2019년 04월  16200\n",
       "8              만들면서 배우는 파이썬과 40개의 작품들  장문철            앤써북  2022년 02월  16920\n",
       "..                                ...  ...            ...        ...    ...\n",
       "736                   실전 파이썬 핸즈온 프로젝트  리 본             책만  2022년 05월  25200\n",
       "737  Do it! 점프 투 파이썬 + 파이썬 라이브러리 예제 편  박응용        이지스퍼블리싱  2022년 05월  40320\n",
       "738                         파이썬 프로그래밍  손승일          21세기사  2022년 01월  30000\n",
       "739                스펙트럼 머신러닝 with 파이썬  장철원  비제이퍼블릭(BJ퍼블릭)  2021년 12월  64350\n",
       "741        Step by Step 파이썬 비즈니스 통계분석  김형수           프레딕스  2021년 11월  32000\n",
       "\n",
       "[502 rows x 5 columns]"
      ]
     },
     "metadata": {},
     "output_type": "display_data"
    }
   ],
   "source": [
    "# 특정 문자열 포함하는 문자열 데이터 조회 _ 파이썬\n",
    "\n"
   ]
  },
  {
   "cell_type": "code",
   "execution_count": null,
   "metadata": {},
   "outputs": [
    {
     "data": {
      "text/html": [
       "<div>\n",
       "<style scoped>\n",
       "    .dataframe tbody tr th:only-of-type {\n",
       "        vertical-align: middle;\n",
       "    }\n",
       "\n",
       "    .dataframe tbody tr th {\n",
       "        vertical-align: top;\n",
       "    }\n",
       "\n",
       "    .dataframe thead th {\n",
       "        text-align: right;\n",
       "    }\n",
       "</style>\n",
       "<table border=\"1\" class=\"dataframe\">\n",
       "  <thead>\n",
       "    <tr style=\"text-align: right;\">\n",
       "      <th></th>\n",
       "      <th>책이름</th>\n",
       "      <th>저자</th>\n",
       "      <th>출판사</th>\n",
       "      <th>출간일</th>\n",
       "      <th>가격</th>\n",
       "      <th>할인가</th>\n",
       "    </tr>\n",
       "  </thead>\n",
       "  <tbody>\n",
       "    <tr>\n",
       "      <th>0</th>\n",
       "      <td>Do it! 점프 투 파이썬</td>\n",
       "      <td>박응용</td>\n",
       "      <td>이지스퍼블리싱</td>\n",
       "      <td>2019년 06월</td>\n",
       "      <td>16920</td>\n",
       "      <td>15228.0</td>\n",
       "    </tr>\n",
       "    <tr>\n",
       "      <th>1</th>\n",
       "      <td>혼자 공부하는 머신러닝+딥러닝</td>\n",
       "      <td>박해선</td>\n",
       "      <td>한빛미디어</td>\n",
       "      <td>2020년 12월</td>\n",
       "      <td>23400</td>\n",
       "      <td>21060.0</td>\n",
       "    </tr>\n",
       "    <tr>\n",
       "      <th>2</th>\n",
       "      <td>혼자 공부하는 파이썬</td>\n",
       "      <td>윤인성</td>\n",
       "      <td>한빛미디어</td>\n",
       "      <td>2019년 06월</td>\n",
       "      <td>16200</td>\n",
       "      <td>14580.0</td>\n",
       "    </tr>\n",
       "    <tr>\n",
       "      <th>3</th>\n",
       "      <td>이것이 취업을 위한 코딩 테스트다 with 파이썬</td>\n",
       "      <td>나동빈</td>\n",
       "      <td>한빛미디어</td>\n",
       "      <td>2020년 08월</td>\n",
       "      <td>30600</td>\n",
       "      <td>27540.0</td>\n",
       "    </tr>\n",
       "    <tr>\n",
       "      <th>4</th>\n",
       "      <td>비전공자도 이해할 수 있는 AI 지식</td>\n",
       "      <td>박상길</td>\n",
       "      <td>반니</td>\n",
       "      <td>2022년 03월</td>\n",
       "      <td>17820</td>\n",
       "      <td>16038.0</td>\n",
       "    </tr>\n",
       "  </tbody>\n",
       "</table>\n",
       "</div>"
      ],
      "text/plain": [
       "                            책이름   저자      출판사        출간일     가격      할인가\n",
       "0               Do it! 점프 투 파이썬  박응용  이지스퍼블리싱  2019년 06월  16920  15228.0\n",
       "1              혼자 공부하는 머신러닝+딥러닝  박해선    한빛미디어  2020년 12월  23400  21060.0\n",
       "2                   혼자 공부하는 파이썬  윤인성    한빛미디어  2019년 06월  16200  14580.0\n",
       "3  이것이 취업을 위한 코딩 테스트다 with 파이썬   나동빈    한빛미디어  2020년 08월  30600  27540.0\n",
       "4          비전공자도 이해할 수 있는 AI 지식  박상길       반니  2022년 03월  17820  16038.0"
      ]
     },
     "metadata": {},
     "output_type": "display_data"
    }
   ],
   "source": [
    "# 열 생성 _ ['할인가'] => 가격 * 0.9\n"
   ]
  },
  {
   "cell_type": "code",
   "execution_count": null,
   "metadata": {},
   "outputs": [
    {
     "data": {
      "text/html": [
       "<div>\n",
       "<style scoped>\n",
       "    .dataframe tbody tr th:only-of-type {\n",
       "        vertical-align: middle;\n",
       "    }\n",
       "\n",
       "    .dataframe tbody tr th {\n",
       "        vertical-align: top;\n",
       "    }\n",
       "\n",
       "    .dataframe thead th {\n",
       "        text-align: right;\n",
       "    }\n",
       "</style>\n",
       "<table border=\"1\" class=\"dataframe\">\n",
       "  <thead>\n",
       "    <tr style=\"text-align: right;\">\n",
       "      <th></th>\n",
       "      <th>책이름</th>\n",
       "      <th>저자</th>\n",
       "      <th>출판사</th>\n",
       "      <th>출간일</th>\n",
       "      <th>가격</th>\n",
       "    </tr>\n",
       "  </thead>\n",
       "  <tbody>\n",
       "    <tr>\n",
       "      <th>0</th>\n",
       "      <td>Do it! 점프 투 파이썬</td>\n",
       "      <td>박응용</td>\n",
       "      <td>이지스퍼블리싱</td>\n",
       "      <td>2019년 06월</td>\n",
       "      <td>16920</td>\n",
       "    </tr>\n",
       "    <tr>\n",
       "      <th>1</th>\n",
       "      <td>혼자 공부하는 머신러닝+딥러닝</td>\n",
       "      <td>박해선</td>\n",
       "      <td>한빛미디어</td>\n",
       "      <td>2020년 12월</td>\n",
       "      <td>23400</td>\n",
       "    </tr>\n",
       "    <tr>\n",
       "      <th>2</th>\n",
       "      <td>혼자 공부하는 파이썬</td>\n",
       "      <td>윤인성</td>\n",
       "      <td>한빛미디어</td>\n",
       "      <td>2019년 06월</td>\n",
       "      <td>16200</td>\n",
       "    </tr>\n",
       "    <tr>\n",
       "      <th>3</th>\n",
       "      <td>이것이 취업을 위한 코딩 테스트다 with 파이썬</td>\n",
       "      <td>나동빈</td>\n",
       "      <td>한빛미디어</td>\n",
       "      <td>2020년 08월</td>\n",
       "      <td>30600</td>\n",
       "    </tr>\n",
       "    <tr>\n",
       "      <th>4</th>\n",
       "      <td>비전공자도 이해할 수 있는 AI 지식</td>\n",
       "      <td>박상길</td>\n",
       "      <td>반니</td>\n",
       "      <td>2022년 03월</td>\n",
       "      <td>17820</td>\n",
       "    </tr>\n",
       "  </tbody>\n",
       "</table>\n",
       "</div>"
      ],
      "text/plain": [
       "                            책이름   저자      출판사        출간일     가격\n",
       "0               Do it! 점프 투 파이썬  박응용  이지스퍼블리싱  2019년 06월  16920\n",
       "1              혼자 공부하는 머신러닝+딥러닝  박해선    한빛미디어  2020년 12월  23400\n",
       "2                   혼자 공부하는 파이썬  윤인성    한빛미디어  2019년 06월  16200\n",
       "3  이것이 취업을 위한 코딩 테스트다 with 파이썬   나동빈    한빛미디어  2020년 08월  30600\n",
       "4          비전공자도 이해할 수 있는 AI 지식  박상길       반니  2022년 03월  17820"
      ]
     },
     "metadata": {},
     "output_type": "display_data"
    }
   ],
   "source": [
    "# 열 삭제 _ 할인가\n"
   ]
  },
  {
   "cell_type": "markdown",
   "metadata": {},
   "source": [
    "# 8week"
   ]
  },
  {
   "cell_type": "code",
   "execution_count": 13,
   "metadata": {},
   "outputs": [
    {
     "data": {
      "text/html": [
       "<div>\n",
       "<style scoped>\n",
       "    .dataframe tbody tr th:only-of-type {\n",
       "        vertical-align: middle;\n",
       "    }\n",
       "\n",
       "    .dataframe tbody tr th {\n",
       "        vertical-align: top;\n",
       "    }\n",
       "\n",
       "    .dataframe thead th {\n",
       "        text-align: right;\n",
       "    }\n",
       "</style>\n",
       "<table border=\"1\" class=\"dataframe\">\n",
       "  <thead>\n",
       "    <tr style=\"text-align: right;\">\n",
       "      <th></th>\n",
       "      <th>책이름</th>\n",
       "      <th>저자</th>\n",
       "      <th>출판사</th>\n",
       "      <th>출간일</th>\n",
       "      <th>가격</th>\n",
       "    </tr>\n",
       "  </thead>\n",
       "  <tbody>\n",
       "    <tr>\n",
       "      <th>0</th>\n",
       "      <td>Do it! 점프 투 파이썬</td>\n",
       "      <td>박응용</td>\n",
       "      <td>이지스퍼블리싱</td>\n",
       "      <td>2019년 06월</td>\n",
       "      <td>16,920</td>\n",
       "    </tr>\n",
       "    <tr>\n",
       "      <th>1</th>\n",
       "      <td>혼자 공부하는 머신러닝+딥러닝</td>\n",
       "      <td>박해선</td>\n",
       "      <td>한빛미디어</td>\n",
       "      <td>2020년 12월</td>\n",
       "      <td>23,400</td>\n",
       "    </tr>\n",
       "    <tr>\n",
       "      <th>2</th>\n",
       "      <td>혼자 공부하는 파이썬</td>\n",
       "      <td>윤인성</td>\n",
       "      <td>한빛미디어</td>\n",
       "      <td>2019년 06월</td>\n",
       "      <td>16,200</td>\n",
       "    </tr>\n",
       "    <tr>\n",
       "      <th>3</th>\n",
       "      <td>이것이 취업을 위한 코딩 테스트다 with 파이썬</td>\n",
       "      <td>나동빈</td>\n",
       "      <td>한빛미디어</td>\n",
       "      <td>2020년 08월</td>\n",
       "      <td>30,600</td>\n",
       "    </tr>\n",
       "    <tr>\n",
       "      <th>4</th>\n",
       "      <td>비전공자도 이해할 수 있는 AI 지식</td>\n",
       "      <td>박상길</td>\n",
       "      <td>반니</td>\n",
       "      <td>2022년 03월</td>\n",
       "      <td>17,820</td>\n",
       "    </tr>\n",
       "    <tr>\n",
       "      <th>...</th>\n",
       "      <td>...</td>\n",
       "      <td>...</td>\n",
       "      <td>...</td>\n",
       "      <td>...</td>\n",
       "      <td>...</td>\n",
       "    </tr>\n",
       "    <tr>\n",
       "      <th>739</th>\n",
       "      <td>스펙트럼 머신러닝 with 파이썬</td>\n",
       "      <td>장철원</td>\n",
       "      <td>비제이퍼블릭(BJ퍼블릭)</td>\n",
       "      <td>2021년 12월</td>\n",
       "      <td>64,350</td>\n",
       "    </tr>\n",
       "    <tr>\n",
       "      <th>740</th>\n",
       "      <td>당신이 지금 알아야 할 클라우드 세트</td>\n",
       "      <td>이영호</td>\n",
       "      <td>비제이퍼블릭(BJ퍼블릭)</td>\n",
       "      <td>2020년 10월</td>\n",
       "      <td>142,200</td>\n",
       "    </tr>\n",
       "    <tr>\n",
       "      <th>741</th>\n",
       "      <td>Step by Step 파이썬 비즈니스 통계분석</td>\n",
       "      <td>김형수</td>\n",
       "      <td>프레딕스</td>\n",
       "      <td>2021년 11월</td>\n",
       "      <td>32,000</td>\n",
       "    </tr>\n",
       "    <tr>\n",
       "      <th>742</th>\n",
       "      <td>머신러닝 알고리듬 트레이딩</td>\n",
       "      <td>스테판 젠슨</td>\n",
       "      <td>에이콘출판사</td>\n",
       "      <td>2021년 09월</td>\n",
       "      <td>76,500</td>\n",
       "    </tr>\n",
       "    <tr>\n",
       "      <th>743</th>\n",
       "      <td>머신러닝 알고리즘 트레이딩</td>\n",
       "      <td>세바스티앙 도나디오</td>\n",
       "      <td>에이콘출판사</td>\n",
       "      <td>0001년 01월</td>\n",
       "      <td>70,200</td>\n",
       "    </tr>\n",
       "  </tbody>\n",
       "</table>\n",
       "<p>744 rows × 5 columns</p>\n",
       "</div>"
      ],
      "text/plain": [
       "                              책이름          저자            출판사        출간일  \\\n",
       "0                 Do it! 점프 투 파이썬         박응용        이지스퍼블리싱  2019년 06월   \n",
       "1                혼자 공부하는 머신러닝+딥러닝         박해선          한빛미디어  2020년 12월   \n",
       "2                     혼자 공부하는 파이썬         윤인성          한빛미디어  2019년 06월   \n",
       "3    이것이 취업을 위한 코딩 테스트다 with 파이썬          나동빈          한빛미디어  2020년 08월   \n",
       "4            비전공자도 이해할 수 있는 AI 지식         박상길             반니  2022년 03월   \n",
       "..                            ...         ...            ...        ...   \n",
       "739            스펙트럼 머신러닝 with 파이썬         장철원  비제이퍼블릭(BJ퍼블릭)  2021년 12월   \n",
       "740          당신이 지금 알아야 할 클라우드 세트         이영호  비제이퍼블릭(BJ퍼블릭)  2020년 10월   \n",
       "741    Step by Step 파이썬 비즈니스 통계분석         김형수           프레딕스  2021년 11월   \n",
       "742                머신러닝 알고리듬 트레이딩      스테판 젠슨         에이콘출판사  2021년 09월   \n",
       "743                머신러닝 알고리즘 트레이딩  세바스티앙 도나디오         에이콘출판사  0001년 01월   \n",
       "\n",
       "          가격  \n",
       "0     16,920  \n",
       "1     23,400  \n",
       "2     16,200  \n",
       "3     30,600  \n",
       "4     17,820  \n",
       "..       ...  \n",
       "739   64,350  \n",
       "740  142,200  \n",
       "741   32,000  \n",
       "742   76,500  \n",
       "743   70,200  \n",
       "\n",
       "[744 rows x 5 columns]"
      ]
     },
     "execution_count": 13,
     "metadata": {},
     "output_type": "execute_result"
    }
   ],
   "source": [
    "import pandas as pd\n",
    "# csv 파일 불러오기\n",
    "df_csv=pd.read_csv('C:/Users/SAMSUNG/Desktop/big_data_blog/middle_test/pythonBook.csv',sep=',',encoding='cp949')\n",
    "df_csv\n"
   ]
  },
  {
   "cell_type": "code",
   "execution_count": 5,
   "metadata": {},
   "outputs": [
    {
     "data": {
      "text/plain": [
       "(744, 5)"
      ]
     },
     "execution_count": 5,
     "metadata": {},
     "output_type": "execute_result"
    }
   ],
   "source": [
    "# 파일 크기 확인\n",
    "df_csv.shape"
   ]
  },
  {
   "cell_type": "code",
   "execution_count": 6,
   "metadata": {},
   "outputs": [
    {
     "name": "stdout",
     "output_type": "stream",
     "text": [
      "<class 'pandas.core.frame.DataFrame'>\n",
      "RangeIndex: 744 entries, 0 to 743\n",
      "Data columns (total 5 columns):\n",
      " #   Column  Non-Null Count  Dtype \n",
      "---  ------  --------------  ----- \n",
      " 0   책이름     744 non-null    object\n",
      " 1   저자      744 non-null    object\n",
      " 2   출판사     744 non-null    object\n",
      " 3   출간일     744 non-null    object\n",
      " 4   가격      744 non-null    object\n",
      "dtypes: object(5)\n",
      "memory usage: 29.2+ KB\n"
     ]
    }
   ],
   "source": [
    "# 데이터 타입 확인\n",
    "df_csv.info()"
   ]
  },
  {
   "cell_type": "code",
   "execution_count": null,
   "metadata": {},
   "outputs": [
    {
     "data": {
      "text/html": [
       "<div>\n",
       "<style scoped>\n",
       "    .dataframe tbody tr th:only-of-type {\n",
       "        vertical-align: middle;\n",
       "    }\n",
       "\n",
       "    .dataframe tbody tr th {\n",
       "        vertical-align: top;\n",
       "    }\n",
       "\n",
       "    .dataframe thead th {\n",
       "        text-align: right;\n",
       "    }\n",
       "</style>\n",
       "<table border=\"1\" class=\"dataframe\">\n",
       "  <thead>\n",
       "    <tr style=\"text-align: right;\">\n",
       "      <th></th>\n",
       "      <th>책이름</th>\n",
       "      <th>저자</th>\n",
       "      <th>출판사</th>\n",
       "      <th>출간일</th>\n",
       "      <th>가격</th>\n",
       "    </tr>\n",
       "  </thead>\n",
       "  <tbody>\n",
       "    <tr>\n",
       "      <th>0</th>\n",
       "      <td>Do it! 점프 투 파이썬</td>\n",
       "      <td>박응용</td>\n",
       "      <td>이지스퍼블리싱</td>\n",
       "      <td>2019년 06월</td>\n",
       "      <td>16,920</td>\n",
       "    </tr>\n",
       "    <tr>\n",
       "      <th>1</th>\n",
       "      <td>혼자 공부하는 머신러닝+딥러닝</td>\n",
       "      <td>박해선</td>\n",
       "      <td>한빛미디어</td>\n",
       "      <td>2020년 12월</td>\n",
       "      <td>23,400</td>\n",
       "    </tr>\n",
       "    <tr>\n",
       "      <th>2</th>\n",
       "      <td>혼자 공부하는 파이썬</td>\n",
       "      <td>윤인성</td>\n",
       "      <td>한빛미디어</td>\n",
       "      <td>2019년 06월</td>\n",
       "      <td>16,200</td>\n",
       "    </tr>\n",
       "    <tr>\n",
       "      <th>3</th>\n",
       "      <td>이것이 취업을 위한 코딩 테스트다 with 파이썬</td>\n",
       "      <td>나동빈</td>\n",
       "      <td>한빛미디어</td>\n",
       "      <td>2020년 08월</td>\n",
       "      <td>30,600</td>\n",
       "    </tr>\n",
       "    <tr>\n",
       "      <th>4</th>\n",
       "      <td>비전공자도 이해할 수 있는 AI 지식</td>\n",
       "      <td>박상길</td>\n",
       "      <td>반니</td>\n",
       "      <td>2022년 03월</td>\n",
       "      <td>17,820</td>\n",
       "    </tr>\n",
       "  </tbody>\n",
       "</table>\n",
       "</div>"
      ],
      "text/plain": [
       "                            책이름   저자      출판사        출간일      가격\n",
       "0               Do it! 점프 투 파이썬  박응용  이지스퍼블리싱  2019년 06월  16,920\n",
       "1              혼자 공부하는 머신러닝+딥러닝  박해선    한빛미디어  2020년 12월  23,400\n",
       "2                   혼자 공부하는 파이썬  윤인성    한빛미디어  2019년 06월  16,200\n",
       "3  이것이 취업을 위한 코딩 테스트다 with 파이썬   나동빈    한빛미디어  2020년 08월  30,600\n",
       "4          비전공자도 이해할 수 있는 AI 지식  박상길       반니  2022년 03월  17,820"
      ]
     },
     "metadata": {},
     "output_type": "display_data"
    }
   ],
   "source": [
    "# 앞 데이터 확인\n"
   ]
  },
  {
   "cell_type": "code",
   "execution_count": null,
   "metadata": {},
   "outputs": [
    {
     "data": {
      "text/html": [
       "<div>\n",
       "<style scoped>\n",
       "    .dataframe tbody tr th:only-of-type {\n",
       "        vertical-align: middle;\n",
       "    }\n",
       "\n",
       "    .dataframe tbody tr th {\n",
       "        vertical-align: top;\n",
       "    }\n",
       "\n",
       "    .dataframe thead th {\n",
       "        text-align: right;\n",
       "    }\n",
       "</style>\n",
       "<table border=\"1\" class=\"dataframe\">\n",
       "  <thead>\n",
       "    <tr style=\"text-align: right;\">\n",
       "      <th></th>\n",
       "      <th>책이름</th>\n",
       "      <th>저자</th>\n",
       "      <th>출판사</th>\n",
       "      <th>출간일</th>\n",
       "      <th>가격</th>\n",
       "    </tr>\n",
       "  </thead>\n",
       "  <tbody>\n",
       "    <tr>\n",
       "      <th>739</th>\n",
       "      <td>스펙트럼 머신러닝 with 파이썬</td>\n",
       "      <td>장철원</td>\n",
       "      <td>비제이퍼블릭(BJ퍼블릭)</td>\n",
       "      <td>2021년 12월</td>\n",
       "      <td>64,350</td>\n",
       "    </tr>\n",
       "    <tr>\n",
       "      <th>740</th>\n",
       "      <td>당신이 지금 알아야 할 클라우드 세트</td>\n",
       "      <td>이영호</td>\n",
       "      <td>비제이퍼블릭(BJ퍼블릭)</td>\n",
       "      <td>2020년 10월</td>\n",
       "      <td>142,200</td>\n",
       "    </tr>\n",
       "    <tr>\n",
       "      <th>741</th>\n",
       "      <td>Step by Step 파이썬 비즈니스 통계분석</td>\n",
       "      <td>김형수</td>\n",
       "      <td>프레딕스</td>\n",
       "      <td>2021년 11월</td>\n",
       "      <td>32,000</td>\n",
       "    </tr>\n",
       "    <tr>\n",
       "      <th>742</th>\n",
       "      <td>머신러닝 알고리듬 트레이딩</td>\n",
       "      <td>스테판 젠슨</td>\n",
       "      <td>에이콘출판사</td>\n",
       "      <td>2021년 09월</td>\n",
       "      <td>76,500</td>\n",
       "    </tr>\n",
       "    <tr>\n",
       "      <th>743</th>\n",
       "      <td>머신러닝 알고리즘 트레이딩</td>\n",
       "      <td>세바스티앙 도나디오</td>\n",
       "      <td>에이콘출판사</td>\n",
       "      <td>0001년 01월</td>\n",
       "      <td>70,200</td>\n",
       "    </tr>\n",
       "  </tbody>\n",
       "</table>\n",
       "</div>"
      ],
      "text/plain": [
       "                            책이름          저자            출판사        출간일       가격\n",
       "739          스펙트럼 머신러닝 with 파이썬         장철원  비제이퍼블릭(BJ퍼블릭)  2021년 12월   64,350\n",
       "740        당신이 지금 알아야 할 클라우드 세트         이영호  비제이퍼블릭(BJ퍼블릭)  2020년 10월  142,200\n",
       "741  Step by Step 파이썬 비즈니스 통계분석         김형수           프레딕스  2021년 11월   32,000\n",
       "742              머신러닝 알고리듬 트레이딩      스테판 젠슨         에이콘출판사  2021년 09월   76,500\n",
       "743              머신러닝 알고리즘 트레이딩  세바스티앙 도나디오         에이콘출판사  0001년 01월   70,200"
      ]
     },
     "metadata": {},
     "output_type": "display_data"
    }
   ],
   "source": [
    "# 뒤 데이터 확인\n"
   ]
  },
  {
   "cell_type": "code",
   "execution_count": 8,
   "metadata": {},
   "outputs": [
    {
     "name": "stdout",
     "output_type": "stream",
     "text": [
      "<class 'pandas.core.frame.DataFrame'>\n",
      "RangeIndex: 744 entries, 0 to 743\n",
      "Data columns (total 5 columns):\n",
      " #   Column  Non-Null Count  Dtype \n",
      "---  ------  --------------  ----- \n",
      " 0   책이름     744 non-null    object\n",
      " 1   저자      744 non-null    object\n",
      " 2   출판사     744 non-null    object\n",
      " 3   출간일     744 non-null    object\n",
      " 4   가격      744 non-null    int32 \n",
      "dtypes: int32(1), object(4)\n",
      "memory usage: 26.3+ KB\n"
     ]
    }
   ],
   "source": [
    "# 데이터 수정\n",
    "# ',' -> ''  가격에 , 없애기\n",
    "df_csv['가격']=df_csv['가격'].str.replace(',','')\n",
    "# 문자형 -> 숫자형\n",
    "df_csv['가격']=df_csv['가격'].astype(int)\n",
    "# 데이터 타입 확인\n",
    "df_csv.info()"
   ]
  },
  {
   "cell_type": "code",
   "execution_count": 9,
   "metadata": {},
   "outputs": [
    {
     "data": {
      "text/html": [
       "<div>\n",
       "<style scoped>\n",
       "    .dataframe tbody tr th:only-of-type {\n",
       "        vertical-align: middle;\n",
       "    }\n",
       "\n",
       "    .dataframe tbody tr th {\n",
       "        vertical-align: top;\n",
       "    }\n",
       "\n",
       "    .dataframe thead th {\n",
       "        text-align: right;\n",
       "    }\n",
       "</style>\n",
       "<table border=\"1\" class=\"dataframe\">\n",
       "  <thead>\n",
       "    <tr style=\"text-align: right;\">\n",
       "      <th></th>\n",
       "      <th>가격</th>\n",
       "    </tr>\n",
       "  </thead>\n",
       "  <tbody>\n",
       "    <tr>\n",
       "      <th>count</th>\n",
       "      <td>744.000000</td>\n",
       "    </tr>\n",
       "    <tr>\n",
       "      <th>mean</th>\n",
       "      <td>24828.521505</td>\n",
       "    </tr>\n",
       "    <tr>\n",
       "      <th>std</th>\n",
       "      <td>9581.718881</td>\n",
       "    </tr>\n",
       "    <tr>\n",
       "      <th>min</th>\n",
       "      <td>4500.000000</td>\n",
       "    </tr>\n",
       "    <tr>\n",
       "      <th>25%</th>\n",
       "      <td>19800.000000</td>\n",
       "    </tr>\n",
       "    <tr>\n",
       "      <th>50%</th>\n",
       "      <td>23875.000000</td>\n",
       "    </tr>\n",
       "    <tr>\n",
       "      <th>75%</th>\n",
       "      <td>28800.000000</td>\n",
       "    </tr>\n",
       "    <tr>\n",
       "      <th>max</th>\n",
       "      <td>142200.000000</td>\n",
       "    </tr>\n",
       "  </tbody>\n",
       "</table>\n",
       "</div>"
      ],
      "text/plain": [
       "                  가격\n",
       "count     744.000000\n",
       "mean    24828.521505\n",
       "std      9581.718881\n",
       "min      4500.000000\n",
       "25%     19800.000000\n",
       "50%     23875.000000\n",
       "75%     28800.000000\n",
       "max    142200.000000"
      ]
     },
     "execution_count": 9,
     "metadata": {},
     "output_type": "execute_result"
    }
   ],
   "source": [
    "# 기술통계\n",
    "df_csv.describe()"
   ]
  },
  {
   "cell_type": "code",
   "execution_count": 10,
   "metadata": {},
   "outputs": [
    {
     "data": {
      "text/html": [
       "<div>\n",
       "<style scoped>\n",
       "    .dataframe tbody tr th:only-of-type {\n",
       "        vertical-align: middle;\n",
       "    }\n",
       "\n",
       "    .dataframe tbody tr th {\n",
       "        vertical-align: top;\n",
       "    }\n",
       "\n",
       "    .dataframe thead th {\n",
       "        text-align: right;\n",
       "    }\n",
       "</style>\n",
       "<table border=\"1\" class=\"dataframe\">\n",
       "  <thead>\n",
       "    <tr style=\"text-align: right;\">\n",
       "      <th></th>\n",
       "      <th>책이름</th>\n",
       "      <th>저자</th>\n",
       "      <th>출판사</th>\n",
       "      <th>출간일</th>\n",
       "      <th>가격</th>\n",
       "    </tr>\n",
       "  </thead>\n",
       "  <tbody>\n",
       "    <tr>\n",
       "      <th>106</th>\n",
       "      <td>파이썬 한권으로 끝내기</td>\n",
       "      <td>데싸라면</td>\n",
       "      <td>시대고시기획 시대교육</td>\n",
       "      <td>2022년 06월</td>\n",
       "      <td>24300</td>\n",
       "    </tr>\n",
       "    <tr>\n",
       "      <th>323</th>\n",
       "      <td>혼자 공부하는 파이썬</td>\n",
       "      <td>윤인성</td>\n",
       "      <td>한빛미디어</td>\n",
       "      <td>2022년 06월</td>\n",
       "      <td>19800</td>\n",
       "    </tr>\n",
       "    <tr>\n",
       "      <th>246</th>\n",
       "      <td>백엔드를 위한 Django REST Framework with 파이썬</td>\n",
       "      <td>권태형</td>\n",
       "      <td>영진닷컴</td>\n",
       "      <td>2022년 05월</td>\n",
       "      <td>16200</td>\n",
       "    </tr>\n",
       "    <tr>\n",
       "      <th>736</th>\n",
       "      <td>실전 파이썬 핸즈온 프로젝트</td>\n",
       "      <td>리 본</td>\n",
       "      <td>책만</td>\n",
       "      <td>2022년 05월</td>\n",
       "      <td>25200</td>\n",
       "    </tr>\n",
       "    <tr>\n",
       "      <th>737</th>\n",
       "      <td>Do it! 점프 투 파이썬 + 파이썬 라이브러리 예제 편</td>\n",
       "      <td>박응용</td>\n",
       "      <td>이지스퍼블리싱</td>\n",
       "      <td>2022년 05월</td>\n",
       "      <td>40320</td>\n",
       "    </tr>\n",
       "  </tbody>\n",
       "</table>\n",
       "</div>"
      ],
      "text/plain": [
       "                                        책이름    저자          출판사        출간일  \\\n",
       "106                            파이썬 한권으로 끝내기  데싸라면  시대고시기획 시대교육  2022년 06월   \n",
       "323                             혼자 공부하는 파이썬   윤인성        한빛미디어  2022년 06월   \n",
       "246  백엔드를 위한 Django REST Framework with 파이썬   권태형         영진닷컴  2022년 05월   \n",
       "736                         실전 파이썬 핸즈온 프로젝트   리 본           책만  2022년 05월   \n",
       "737        Do it! 점프 투 파이썬 + 파이썬 라이브러리 예제 편   박응용      이지스퍼블리싱  2022년 05월   \n",
       "\n",
       "        가격  \n",
       "106  24300  \n",
       "323  19800  \n",
       "246  16200  \n",
       "736  25200  \n",
       "737  40320  "
      ]
     },
     "execution_count": 10,
     "metadata": {},
     "output_type": "execute_result"
    }
   ],
   "source": [
    "# '출판일' 순으로 내림차순 정렬\n",
    "\n",
    "df_csv.sort_values(by='출간일',ascending=False).head()"
   ]
  },
  {
   "cell_type": "code",
   "execution_count": 11,
   "metadata": {},
   "outputs": [
    {
     "data": {
      "text/html": [
       "<div>\n",
       "<style scoped>\n",
       "    .dataframe tbody tr th:only-of-type {\n",
       "        vertical-align: middle;\n",
       "    }\n",
       "\n",
       "    .dataframe tbody tr th {\n",
       "        vertical-align: top;\n",
       "    }\n",
       "\n",
       "    .dataframe thead th {\n",
       "        text-align: right;\n",
       "    }\n",
       "</style>\n",
       "<table border=\"1\" class=\"dataframe\">\n",
       "  <thead>\n",
       "    <tr style=\"text-align: right;\">\n",
       "      <th></th>\n",
       "      <th>책이름</th>\n",
       "      <th>저자</th>\n",
       "      <th>출판사</th>\n",
       "      <th>출간일</th>\n",
       "      <th>가격</th>\n",
       "    </tr>\n",
       "  </thead>\n",
       "  <tbody>\n",
       "    <tr>\n",
       "      <th>724</th>\n",
       "      <td>처음 시작하는 파이썬 코딩</td>\n",
       "      <td>문병수</td>\n",
       "      <td>(유)캐멀컨설팅</td>\n",
       "      <td>2017년 07월</td>\n",
       "      <td>14400</td>\n",
       "    </tr>\n",
       "    <tr>\n",
       "      <th>545</th>\n",
       "      <td>파이썬 해킹프로그래밍</td>\n",
       "      <td>한상준</td>\n",
       "      <td>(주)박영사</td>\n",
       "      <td>2019년 03월</td>\n",
       "      <td>14000</td>\n",
       "    </tr>\n",
       "    <tr>\n",
       "      <th>483</th>\n",
       "      <td>스타트 파이썬</td>\n",
       "      <td>황재호</td>\n",
       "      <td>(주)코딩스쿨</td>\n",
       "      <td>2018년 09월</td>\n",
       "      <td>17100</td>\n",
       "    </tr>\n",
       "    <tr>\n",
       "      <th>738</th>\n",
       "      <td>파이썬 프로그래밍</td>\n",
       "      <td>손승일</td>\n",
       "      <td>21세기사</td>\n",
       "      <td>2022년 01월</td>\n",
       "      <td>30000</td>\n",
       "    </tr>\n",
       "    <tr>\n",
       "      <th>328</th>\n",
       "      <td>파이썬으로 코딩하는 물리</td>\n",
       "      <td>송오영</td>\n",
       "      <td>21세기사</td>\n",
       "      <td>2021년 03월</td>\n",
       "      <td>29000</td>\n",
       "    </tr>\n",
       "  </tbody>\n",
       "</table>\n",
       "</div>"
      ],
      "text/plain": [
       "                책이름   저자       출판사        출간일     가격\n",
       "724  처음 시작하는 파이썬 코딩  문병수  (유)캐멀컨설팅  2017년 07월  14400\n",
       "545     파이썬 해킹프로그래밍  한상준    (주)박영사  2019년 03월  14000\n",
       "483         스타트 파이썬  황재호   (주)코딩스쿨  2018년 09월  17100\n",
       "738       파이썬 프로그래밍  손승일     21세기사  2022년 01월  30000\n",
       "328   파이썬으로 코딩하는 물리  송오영     21세기사  2021년 03월  29000"
      ]
     },
     "execution_count": 11,
     "metadata": {},
     "output_type": "execute_result"
    }
   ],
   "source": [
    "# 정렬 항목이 2개 이상이면 리스트[] 사용 + '출판사'는 오름,'출간일'은 내림\n",
    "df_csv.sort_values(by=['출판사','출간일'],ascending=[True,False]).head()"
   ]
  },
  {
   "cell_type": "code",
   "execution_count": 12,
   "metadata": {},
   "outputs": [
    {
     "data": {
      "text/html": [
       "<div>\n",
       "<style scoped>\n",
       "    .dataframe tbody tr th:only-of-type {\n",
       "        vertical-align: middle;\n",
       "    }\n",
       "\n",
       "    .dataframe tbody tr th {\n",
       "        vertical-align: top;\n",
       "    }\n",
       "\n",
       "    .dataframe thead th {\n",
       "        text-align: right;\n",
       "    }\n",
       "</style>\n",
       "<table border=\"1\" class=\"dataframe\">\n",
       "  <thead>\n",
       "    <tr style=\"text-align: right;\">\n",
       "      <th></th>\n",
       "      <th>책이름</th>\n",
       "      <th>저자</th>\n",
       "      <th>출판사</th>\n",
       "      <th>출간일</th>\n",
       "      <th>가격</th>\n",
       "    </tr>\n",
       "  </thead>\n",
       "  <tbody>\n",
       "    <tr>\n",
       "      <th>0</th>\n",
       "      <td>Do it! 점프 투 파이썬</td>\n",
       "      <td>박응용</td>\n",
       "      <td>이지스퍼블리싱</td>\n",
       "      <td>2019년 06월</td>\n",
       "      <td>16920</td>\n",
       "    </tr>\n",
       "    <tr>\n",
       "      <th>2</th>\n",
       "      <td>혼자 공부하는 파이썬</td>\n",
       "      <td>윤인성</td>\n",
       "      <td>한빛미디어</td>\n",
       "      <td>2019년 06월</td>\n",
       "      <td>16200</td>\n",
       "    </tr>\n",
       "    <tr>\n",
       "      <th>4</th>\n",
       "      <td>비전공자도 이해할 수 있는 AI 지식</td>\n",
       "      <td>박상길</td>\n",
       "      <td>반니</td>\n",
       "      <td>2022년 03월</td>\n",
       "      <td>17820</td>\n",
       "    </tr>\n",
       "    <tr>\n",
       "      <th>6</th>\n",
       "      <td>모두의 데이터 분석 with 파이썬</td>\n",
       "      <td>송석리</td>\n",
       "      <td>길벗</td>\n",
       "      <td>2019년 04월</td>\n",
       "      <td>16200</td>\n",
       "    </tr>\n",
       "    <tr>\n",
       "      <th>8</th>\n",
       "      <td>만들면서 배우는 파이썬과 40개의 작품들</td>\n",
       "      <td>장문철</td>\n",
       "      <td>앤써북</td>\n",
       "      <td>2022년 02월</td>\n",
       "      <td>16920</td>\n",
       "    </tr>\n",
       "    <tr>\n",
       "      <th>...</th>\n",
       "      <td>...</td>\n",
       "      <td>...</td>\n",
       "      <td>...</td>\n",
       "      <td>...</td>\n",
       "      <td>...</td>\n",
       "    </tr>\n",
       "    <tr>\n",
       "      <th>712</th>\n",
       "      <td>유튜버 주간컴공 지마&amp;참깨의 프리패스 파이썬</td>\n",
       "      <td>지마</td>\n",
       "      <td>고시고시</td>\n",
       "      <td>2020년 09월</td>\n",
       "      <td>16200</td>\n",
       "    </tr>\n",
       "    <tr>\n",
       "      <th>718</th>\n",
       "      <td>코딩으로 지구정복</td>\n",
       "      <td>코인 : 코딩하는 사람들</td>\n",
       "      <td>넥서스</td>\n",
       "      <td>2019년 03월</td>\n",
       "      <td>12420</td>\n",
       "    </tr>\n",
       "    <tr>\n",
       "      <th>721</th>\n",
       "      <td>25시간만에 배우는 머신러닝 예제 : 파이썬 활용</td>\n",
       "      <td>김준석</td>\n",
       "      <td>이모션미디어</td>\n",
       "      <td>2018년 01월</td>\n",
       "      <td>15000</td>\n",
       "    </tr>\n",
       "    <tr>\n",
       "      <th>724</th>\n",
       "      <td>처음 시작하는 파이썬 코딩</td>\n",
       "      <td>문병수</td>\n",
       "      <td>(유)캐멀컨설팅</td>\n",
       "      <td>2017년 07월</td>\n",
       "      <td>14400</td>\n",
       "    </tr>\n",
       "    <tr>\n",
       "      <th>731</th>\n",
       "      <td>실전 파이썬 프로그래밍</td>\n",
       "      <td>줄리안 단주</td>\n",
       "      <td>인사이트(insight)</td>\n",
       "      <td>2014년 12월</td>\n",
       "      <td>15300</td>\n",
       "    </tr>\n",
       "  </tbody>\n",
       "</table>\n",
       "<p>210 rows × 5 columns</p>\n",
       "</div>"
      ],
      "text/plain": [
       "                             책이름             저자            출판사        출간일  \\\n",
       "0                Do it! 점프 투 파이썬            박응용        이지스퍼블리싱  2019년 06월   \n",
       "2                    혼자 공부하는 파이썬            윤인성          한빛미디어  2019년 06월   \n",
       "4           비전공자도 이해할 수 있는 AI 지식            박상길             반니  2022년 03월   \n",
       "6            모두의 데이터 분석 with 파이썬            송석리             길벗  2019년 04월   \n",
       "8         만들면서 배우는 파이썬과 40개의 작품들            장문철            앤써북  2022년 02월   \n",
       "..                           ...            ...            ...        ...   \n",
       "712     유튜버 주간컴공 지마&참깨의 프리패스 파이썬             지마           고시고시  2020년 09월   \n",
       "718                    코딩으로 지구정복  코인 : 코딩하는 사람들            넥서스  2019년 03월   \n",
       "721  25시간만에 배우는 머신러닝 예제 : 파이썬 활용            김준석         이모션미디어  2018년 01월   \n",
       "724               처음 시작하는 파이썬 코딩            문병수       (유)캐멀컨설팅  2017년 07월   \n",
       "731                 실전 파이썬 프로그래밍         줄리안 단주  인사이트(insight)  2014년 12월   \n",
       "\n",
       "        가격  \n",
       "0    16920  \n",
       "2    16200  \n",
       "4    17820  \n",
       "6    16200  \n",
       "8    16920  \n",
       "..     ...  \n",
       "712  16200  \n",
       "718  12420  \n",
       "721  15000  \n",
       "724  14400  \n",
       "731  15300  \n",
       "\n",
       "[210 rows x 5 columns]"
      ]
     },
     "execution_count": 12,
     "metadata": {},
     "output_type": "execute_result"
    }
   ],
   "source": [
    "# 조건식 조회 _ (10000 <= x <= 20000) 가격인 책 출력\n",
    "df_csv[(df_csv['가격']>=10000)&(df_csv['가격']<=20000)]"
   ]
  },
  {
   "cell_type": "code",
   "execution_count": null,
   "metadata": {},
   "outputs": [
    {
     "data": {
      "text/html": [
       "<div>\n",
       "<style scoped>\n",
       "    .dataframe tbody tr th:only-of-type {\n",
       "        vertical-align: middle;\n",
       "    }\n",
       "\n",
       "    .dataframe tbody tr th {\n",
       "        vertical-align: top;\n",
       "    }\n",
       "\n",
       "    .dataframe thead th {\n",
       "        text-align: right;\n",
       "    }\n",
       "</style>\n",
       "<table border=\"1\" class=\"dataframe\">\n",
       "  <thead>\n",
       "    <tr style=\"text-align: right;\">\n",
       "      <th></th>\n",
       "      <th>책이름</th>\n",
       "      <th>저자</th>\n",
       "      <th>출판사</th>\n",
       "      <th>출간일</th>\n",
       "      <th>가격</th>\n",
       "    </tr>\n",
       "  </thead>\n",
       "  <tbody>\n",
       "    <tr>\n",
       "      <th>0</th>\n",
       "      <td>Do it! 점프 투 파이썬</td>\n",
       "      <td>박응용</td>\n",
       "      <td>이지스퍼블리싱</td>\n",
       "      <td>2019년 06월</td>\n",
       "      <td>16920</td>\n",
       "    </tr>\n",
       "    <tr>\n",
       "      <th>2</th>\n",
       "      <td>혼자 공부하는 파이썬</td>\n",
       "      <td>윤인성</td>\n",
       "      <td>한빛미디어</td>\n",
       "      <td>2019년 06월</td>\n",
       "      <td>16200</td>\n",
       "    </tr>\n",
       "    <tr>\n",
       "      <th>3</th>\n",
       "      <td>이것이 취업을 위한 코딩 테스트다 with 파이썬</td>\n",
       "      <td>나동빈</td>\n",
       "      <td>한빛미디어</td>\n",
       "      <td>2020년 08월</td>\n",
       "      <td>30600</td>\n",
       "    </tr>\n",
       "    <tr>\n",
       "      <th>6</th>\n",
       "      <td>모두의 데이터 분석 with 파이썬</td>\n",
       "      <td>송석리</td>\n",
       "      <td>길벗</td>\n",
       "      <td>2019년 04월</td>\n",
       "      <td>16200</td>\n",
       "    </tr>\n",
       "    <tr>\n",
       "      <th>8</th>\n",
       "      <td>만들면서 배우는 파이썬과 40개의 작품들</td>\n",
       "      <td>장문철</td>\n",
       "      <td>앤써북</td>\n",
       "      <td>2022년 02월</td>\n",
       "      <td>16920</td>\n",
       "    </tr>\n",
       "    <tr>\n",
       "      <th>...</th>\n",
       "      <td>...</td>\n",
       "      <td>...</td>\n",
       "      <td>...</td>\n",
       "      <td>...</td>\n",
       "      <td>...</td>\n",
       "    </tr>\n",
       "    <tr>\n",
       "      <th>736</th>\n",
       "      <td>실전 파이썬 핸즈온 프로젝트</td>\n",
       "      <td>리 본</td>\n",
       "      <td>책만</td>\n",
       "      <td>2022년 05월</td>\n",
       "      <td>25200</td>\n",
       "    </tr>\n",
       "    <tr>\n",
       "      <th>737</th>\n",
       "      <td>Do it! 점프 투 파이썬 + 파이썬 라이브러리 예제 편</td>\n",
       "      <td>박응용</td>\n",
       "      <td>이지스퍼블리싱</td>\n",
       "      <td>2022년 05월</td>\n",
       "      <td>40320</td>\n",
       "    </tr>\n",
       "    <tr>\n",
       "      <th>738</th>\n",
       "      <td>파이썬 프로그래밍</td>\n",
       "      <td>손승일</td>\n",
       "      <td>21세기사</td>\n",
       "      <td>2022년 01월</td>\n",
       "      <td>30000</td>\n",
       "    </tr>\n",
       "    <tr>\n",
       "      <th>739</th>\n",
       "      <td>스펙트럼 머신러닝 with 파이썬</td>\n",
       "      <td>장철원</td>\n",
       "      <td>비제이퍼블릭(BJ퍼블릭)</td>\n",
       "      <td>2021년 12월</td>\n",
       "      <td>64350</td>\n",
       "    </tr>\n",
       "    <tr>\n",
       "      <th>741</th>\n",
       "      <td>Step by Step 파이썬 비즈니스 통계분석</td>\n",
       "      <td>김형수</td>\n",
       "      <td>프레딕스</td>\n",
       "      <td>2021년 11월</td>\n",
       "      <td>32000</td>\n",
       "    </tr>\n",
       "  </tbody>\n",
       "</table>\n",
       "<p>502 rows × 5 columns</p>\n",
       "</div>"
      ],
      "text/plain": [
       "                                  책이름   저자            출판사        출간일     가격\n",
       "0                     Do it! 점프 투 파이썬  박응용        이지스퍼블리싱  2019년 06월  16920\n",
       "2                         혼자 공부하는 파이썬  윤인성          한빛미디어  2019년 06월  16200\n",
       "3        이것이 취업을 위한 코딩 테스트다 with 파이썬   나동빈          한빛미디어  2020년 08월  30600\n",
       "6                 모두의 데이터 분석 with 파이썬  송석리             길벗  2019년 04월  16200\n",
       "8              만들면서 배우는 파이썬과 40개의 작품들  장문철            앤써북  2022년 02월  16920\n",
       "..                                ...  ...            ...        ...    ...\n",
       "736                   실전 파이썬 핸즈온 프로젝트  리 본             책만  2022년 05월  25200\n",
       "737  Do it! 점프 투 파이썬 + 파이썬 라이브러리 예제 편  박응용        이지스퍼블리싱  2022년 05월  40320\n",
       "738                         파이썬 프로그래밍  손승일          21세기사  2022년 01월  30000\n",
       "739                스펙트럼 머신러닝 with 파이썬  장철원  비제이퍼블릭(BJ퍼블릭)  2021년 12월  64350\n",
       "741        Step by Step 파이썬 비즈니스 통계분석  김형수           프레딕스  2021년 11월  32000\n",
       "\n",
       "[502 rows x 5 columns]"
      ]
     },
     "metadata": {},
     "output_type": "display_data"
    }
   ],
   "source": [
    "# 특정 문자열 포함하는 문자열 데이터 조회 _ '파이썬'\n"
   ]
  },
  {
   "cell_type": "code",
   "execution_count": null,
   "metadata": {},
   "outputs": [
    {
     "data": {
      "text/html": [
       "<div>\n",
       "<style scoped>\n",
       "    .dataframe tbody tr th:only-of-type {\n",
       "        vertical-align: middle;\n",
       "    }\n",
       "\n",
       "    .dataframe tbody tr th {\n",
       "        vertical-align: top;\n",
       "    }\n",
       "\n",
       "    .dataframe thead th {\n",
       "        text-align: right;\n",
       "    }\n",
       "</style>\n",
       "<table border=\"1\" class=\"dataframe\">\n",
       "  <thead>\n",
       "    <tr style=\"text-align: right;\">\n",
       "      <th></th>\n",
       "      <th>책이름</th>\n",
       "      <th>저자</th>\n",
       "      <th>출판사</th>\n",
       "      <th>출간일</th>\n",
       "      <th>가격</th>\n",
       "      <th>할인가</th>\n",
       "    </tr>\n",
       "  </thead>\n",
       "  <tbody>\n",
       "    <tr>\n",
       "      <th>0</th>\n",
       "      <td>Do it! 점프 투 파이썬</td>\n",
       "      <td>박응용</td>\n",
       "      <td>이지스퍼블리싱</td>\n",
       "      <td>2019년 06월</td>\n",
       "      <td>16920</td>\n",
       "      <td>15228.0</td>\n",
       "    </tr>\n",
       "    <tr>\n",
       "      <th>1</th>\n",
       "      <td>혼자 공부하는 머신러닝+딥러닝</td>\n",
       "      <td>박해선</td>\n",
       "      <td>한빛미디어</td>\n",
       "      <td>2020년 12월</td>\n",
       "      <td>23400</td>\n",
       "      <td>21060.0</td>\n",
       "    </tr>\n",
       "    <tr>\n",
       "      <th>2</th>\n",
       "      <td>혼자 공부하는 파이썬</td>\n",
       "      <td>윤인성</td>\n",
       "      <td>한빛미디어</td>\n",
       "      <td>2019년 06월</td>\n",
       "      <td>16200</td>\n",
       "      <td>14580.0</td>\n",
       "    </tr>\n",
       "    <tr>\n",
       "      <th>3</th>\n",
       "      <td>이것이 취업을 위한 코딩 테스트다 with 파이썬</td>\n",
       "      <td>나동빈</td>\n",
       "      <td>한빛미디어</td>\n",
       "      <td>2020년 08월</td>\n",
       "      <td>30600</td>\n",
       "      <td>27540.0</td>\n",
       "    </tr>\n",
       "    <tr>\n",
       "      <th>4</th>\n",
       "      <td>비전공자도 이해할 수 있는 AI 지식</td>\n",
       "      <td>박상길</td>\n",
       "      <td>반니</td>\n",
       "      <td>2022년 03월</td>\n",
       "      <td>17820</td>\n",
       "      <td>16038.0</td>\n",
       "    </tr>\n",
       "  </tbody>\n",
       "</table>\n",
       "</div>"
      ],
      "text/plain": [
       "                            책이름   저자      출판사        출간일     가격      할인가\n",
       "0               Do it! 점프 투 파이썬  박응용  이지스퍼블리싱  2019년 06월  16920  15228.0\n",
       "1              혼자 공부하는 머신러닝+딥러닝  박해선    한빛미디어  2020년 12월  23400  21060.0\n",
       "2                   혼자 공부하는 파이썬  윤인성    한빛미디어  2019년 06월  16200  14580.0\n",
       "3  이것이 취업을 위한 코딩 테스트다 with 파이썬   나동빈    한빛미디어  2020년 08월  30600  27540.0\n",
       "4          비전공자도 이해할 수 있는 AI 지식  박상길       반니  2022년 03월  17820  16038.0"
      ]
     },
     "metadata": {},
     "output_type": "display_data"
    }
   ],
   "source": [
    "# 열 생성 _ ['할인가'] => 가격 * 0.9\n"
   ]
  },
  {
   "cell_type": "code",
   "execution_count": null,
   "metadata": {},
   "outputs": [
    {
     "data": {
      "text/html": [
       "<div>\n",
       "<style scoped>\n",
       "    .dataframe tbody tr th:only-of-type {\n",
       "        vertical-align: middle;\n",
       "    }\n",
       "\n",
       "    .dataframe tbody tr th {\n",
       "        vertical-align: top;\n",
       "    }\n",
       "\n",
       "    .dataframe thead th {\n",
       "        text-align: right;\n",
       "    }\n",
       "</style>\n",
       "<table border=\"1\" class=\"dataframe\">\n",
       "  <thead>\n",
       "    <tr style=\"text-align: right;\">\n",
       "      <th></th>\n",
       "      <th>책이름</th>\n",
       "      <th>저자</th>\n",
       "      <th>출판사</th>\n",
       "      <th>출간일</th>\n",
       "      <th>가격</th>\n",
       "    </tr>\n",
       "  </thead>\n",
       "  <tbody>\n",
       "    <tr>\n",
       "      <th>0</th>\n",
       "      <td>Do it! 점프 투 파이썬</td>\n",
       "      <td>박응용</td>\n",
       "      <td>이지스퍼블리싱</td>\n",
       "      <td>2019년 06월</td>\n",
       "      <td>16920</td>\n",
       "    </tr>\n",
       "    <tr>\n",
       "      <th>1</th>\n",
       "      <td>혼자 공부하는 머신러닝+딥러닝</td>\n",
       "      <td>박해선</td>\n",
       "      <td>한빛미디어</td>\n",
       "      <td>2020년 12월</td>\n",
       "      <td>23400</td>\n",
       "    </tr>\n",
       "    <tr>\n",
       "      <th>2</th>\n",
       "      <td>혼자 공부하는 파이썬</td>\n",
       "      <td>윤인성</td>\n",
       "      <td>한빛미디어</td>\n",
       "      <td>2019년 06월</td>\n",
       "      <td>16200</td>\n",
       "    </tr>\n",
       "    <tr>\n",
       "      <th>3</th>\n",
       "      <td>이것이 취업을 위한 코딩 테스트다 with 파이썬</td>\n",
       "      <td>나동빈</td>\n",
       "      <td>한빛미디어</td>\n",
       "      <td>2020년 08월</td>\n",
       "      <td>30600</td>\n",
       "    </tr>\n",
       "    <tr>\n",
       "      <th>4</th>\n",
       "      <td>비전공자도 이해할 수 있는 AI 지식</td>\n",
       "      <td>박상길</td>\n",
       "      <td>반니</td>\n",
       "      <td>2022년 03월</td>\n",
       "      <td>17820</td>\n",
       "    </tr>\n",
       "  </tbody>\n",
       "</table>\n",
       "</div>"
      ],
      "text/plain": [
       "                            책이름   저자      출판사        출간일     가격\n",
       "0               Do it! 점프 투 파이썬  박응용  이지스퍼블리싱  2019년 06월  16920\n",
       "1              혼자 공부하는 머신러닝+딥러닝  박해선    한빛미디어  2020년 12월  23400\n",
       "2                   혼자 공부하는 파이썬  윤인성    한빛미디어  2019년 06월  16200\n",
       "3  이것이 취업을 위한 코딩 테스트다 with 파이썬   나동빈    한빛미디어  2020년 08월  30600\n",
       "4          비전공자도 이해할 수 있는 AI 지식  박상길       반니  2022년 03월  17820"
      ]
     },
     "metadata": {},
     "output_type": "display_data"
    }
   ],
   "source": [
    "# 열 삭제 _ 할인가\n"
   ]
  },
  {
   "cell_type": "code",
   "execution_count": null,
   "metadata": {},
   "outputs": [
    {
     "data": {
      "text/plain": [
       "출판사\n",
       "(유)캐멀컨설팅            14400\n",
       "(주)박영사              14000\n",
       "(주)코딩스쿨             17100\n",
       "21세기사               30000\n",
       "AK(에이케이 커뮤니케이션즈)    23750\n",
       "                    ...  \n",
       "햄큐(HAMQ)            18000\n",
       "혜지원                 24300\n",
       "홍릉                  37000\n",
       "홍릉과학출판사             39000\n",
       "휴먼싸이언스              25000\n",
       "Name: 가격, Length: 130, dtype: int32"
      ]
     },
     "metadata": {},
     "output_type": "display_data"
    }
   ],
   "source": [
    "# 집계함수\n",
    "# groupby() : 옵션 => 1. by => 집게할 항목, 2. 집계함수 => min(), max(), mean(), count()\n",
    "\n",
    "# 출판사별 서적 의 최대가격 (제일 비싼가격)\n"
   ]
  },
  {
   "cell_type": "code",
   "execution_count": null,
   "metadata": {},
   "outputs": [
    {
     "data": {
      "text/html": [
       "<div>\n",
       "<style scoped>\n",
       "    .dataframe tbody tr th:only-of-type {\n",
       "        vertical-align: middle;\n",
       "    }\n",
       "\n",
       "    .dataframe tbody tr th {\n",
       "        vertical-align: top;\n",
       "    }\n",
       "\n",
       "    .dataframe thead th {\n",
       "        text-align: right;\n",
       "    }\n",
       "</style>\n",
       "<table border=\"1\" class=\"dataframe\">\n",
       "  <thead>\n",
       "    <tr style=\"text-align: right;\">\n",
       "      <th></th>\n",
       "      <th>name</th>\n",
       "      <th>team</th>\n",
       "      <th>age</th>\n",
       "      <th>weight</th>\n",
       "    </tr>\n",
       "  </thead>\n",
       "  <tbody>\n",
       "    <tr>\n",
       "      <th>0</th>\n",
       "      <td>sonny</td>\n",
       "      <td>tot</td>\n",
       "      <td>32</td>\n",
       "      <td>75</td>\n",
       "    </tr>\n",
       "    <tr>\n",
       "      <th>1</th>\n",
       "      <td>channy</td>\n",
       "      <td>wol</td>\n",
       "      <td>28</td>\n",
       "      <td>80</td>\n",
       "    </tr>\n",
       "    <tr>\n",
       "      <th>2</th>\n",
       "      <td>lee</td>\n",
       "      <td>psg</td>\n",
       "      <td>23</td>\n",
       "      <td>60</td>\n",
       "    </tr>\n",
       "  </tbody>\n",
       "</table>\n",
       "</div>"
      ],
      "text/plain": [
       "     name team  age  weight\n",
       "0   sonny  tot   32      75\n",
       "1  channy  wol   28      80\n",
       "2     lee  psg   23      60"
      ]
     },
     "metadata": {},
     "output_type": "display_data"
    }
   ],
   "source": [
    "# 리스트 만들어서 데이터프레임 생성해. 열 이름은 'name','team','age','weight'이야\n",
    "\n"
   ]
  },
  {
   "cell_type": "code",
   "execution_count": null,
   "metadata": {},
   "outputs": [
    {
     "data": {
      "text/html": [
       "<div>\n",
       "<style scoped>\n",
       "    .dataframe tbody tr th:only-of-type {\n",
       "        vertical-align: middle;\n",
       "    }\n",
       "\n",
       "    .dataframe tbody tr th {\n",
       "        vertical-align: top;\n",
       "    }\n",
       "\n",
       "    .dataframe thead th {\n",
       "        text-align: right;\n",
       "    }\n",
       "</style>\n",
       "<table border=\"1\" class=\"dataframe\">\n",
       "  <thead>\n",
       "    <tr style=\"text-align: right;\">\n",
       "      <th></th>\n",
       "      <th>name</th>\n",
       "      <th>team</th>\n",
       "      <th>age</th>\n",
       "      <th>weight</th>\n",
       "    </tr>\n",
       "  </thead>\n",
       "  <tbody>\n",
       "    <tr>\n",
       "      <th>0</th>\n",
       "      <td>sonny</td>\n",
       "      <td>tot</td>\n",
       "      <td>32.0</td>\n",
       "      <td>75.0</td>\n",
       "    </tr>\n",
       "    <tr>\n",
       "      <th>1</th>\n",
       "      <td>channy</td>\n",
       "      <td>wol</td>\n",
       "      <td>28.0</td>\n",
       "      <td>80.0</td>\n",
       "    </tr>\n",
       "    <tr>\n",
       "      <th>2</th>\n",
       "      <td>lee</td>\n",
       "      <td>psg</td>\n",
       "      <td>23.0</td>\n",
       "      <td>60.0</td>\n",
       "    </tr>\n",
       "    <tr>\n",
       "      <th>3</th>\n",
       "      <td>kim</td>\n",
       "      <td>NaN</td>\n",
       "      <td>28.0</td>\n",
       "      <td>90.0</td>\n",
       "    </tr>\n",
       "    <tr>\n",
       "      <th>4</th>\n",
       "      <td>park</td>\n",
       "      <td>bm</td>\n",
       "      <td>NaN</td>\n",
       "      <td>90.0</td>\n",
       "    </tr>\n",
       "    <tr>\n",
       "      <th>5</th>\n",
       "      <td>hwang</td>\n",
       "      <td>jm</td>\n",
       "      <td>28.0</td>\n",
       "      <td>NaN</td>\n",
       "    </tr>\n",
       "  </tbody>\n",
       "</table>\n",
       "</div>"
      ],
      "text/plain": [
       "     name team   age  weight\n",
       "0   sonny  tot  32.0    75.0\n",
       "1  channy  wol  28.0    80.0\n",
       "2     lee  psg  23.0    60.0\n",
       "3     kim  NaN  28.0    90.0\n",
       "4    park   bm   NaN    90.0\n",
       "5   hwang   jm  28.0     NaN"
      ]
     },
     "metadata": {},
     "output_type": "display_data"
    }
   ],
   "source": [
    "# 행 추가\n",
    "# df.loc[3]=['kim', np.nan, 28, 90] # 회사가서나 과제할떄 이렇게 하면 감점받음 -> hard coding\n",
    "# df\n",
    "\n",
    "# # 행의 갯수를 세우면 알아서 마지막 행 -> len\n",
    "# np.nan : 값을 모를때 null 값 추가\n"
   ]
  },
  {
   "cell_type": "code",
   "execution_count": null,
   "metadata": {},
   "outputs": [
    {
     "name": "stdout",
     "output_type": "stream",
     "text": [
      "<class 'pandas.core.frame.DataFrame'>\n",
      "Index: 6 entries, 0 to 5\n",
      "Data columns (total 4 columns):\n",
      " #   Column  Non-Null Count  Dtype  \n",
      "---  ------  --------------  -----  \n",
      " 0   name    6 non-null      object \n",
      " 1   team    5 non-null      object \n",
      " 2   age     5 non-null      float64\n",
      " 3   weight  5 non-null      float64\n",
      "dtypes: float64(2), object(2)\n",
      "memory usage: 240.0+ bytes\n"
     ]
    }
   ],
   "source": [
    "# df 데이터타입 확인\n"
   ]
  },
  {
   "cell_type": "code",
   "execution_count": null,
   "metadata": {},
   "outputs": [
    {
     "data": {
      "text/html": [
       "<div>\n",
       "<style scoped>\n",
       "    .dataframe tbody tr th:only-of-type {\n",
       "        vertical-align: middle;\n",
       "    }\n",
       "\n",
       "    .dataframe tbody tr th {\n",
       "        vertical-align: top;\n",
       "    }\n",
       "\n",
       "    .dataframe thead th {\n",
       "        text-align: right;\n",
       "    }\n",
       "</style>\n",
       "<table border=\"1\" class=\"dataframe\">\n",
       "  <thead>\n",
       "    <tr style=\"text-align: right;\">\n",
       "      <th></th>\n",
       "      <th>name</th>\n",
       "      <th>team</th>\n",
       "      <th>age</th>\n",
       "      <th>weight</th>\n",
       "    </tr>\n",
       "  </thead>\n",
       "  <tbody>\n",
       "    <tr>\n",
       "      <th>0</th>\n",
       "      <td>False</td>\n",
       "      <td>False</td>\n",
       "      <td>False</td>\n",
       "      <td>False</td>\n",
       "    </tr>\n",
       "    <tr>\n",
       "      <th>1</th>\n",
       "      <td>False</td>\n",
       "      <td>False</td>\n",
       "      <td>False</td>\n",
       "      <td>False</td>\n",
       "    </tr>\n",
       "    <tr>\n",
       "      <th>2</th>\n",
       "      <td>False</td>\n",
       "      <td>False</td>\n",
       "      <td>False</td>\n",
       "      <td>False</td>\n",
       "    </tr>\n",
       "    <tr>\n",
       "      <th>3</th>\n",
       "      <td>False</td>\n",
       "      <td>True</td>\n",
       "      <td>False</td>\n",
       "      <td>False</td>\n",
       "    </tr>\n",
       "    <tr>\n",
       "      <th>4</th>\n",
       "      <td>False</td>\n",
       "      <td>False</td>\n",
       "      <td>True</td>\n",
       "      <td>False</td>\n",
       "    </tr>\n",
       "    <tr>\n",
       "      <th>5</th>\n",
       "      <td>False</td>\n",
       "      <td>False</td>\n",
       "      <td>False</td>\n",
       "      <td>True</td>\n",
       "    </tr>\n",
       "  </tbody>\n",
       "</table>\n",
       "</div>"
      ],
      "text/plain": [
       "    name   team    age  weight\n",
       "0  False  False  False   False\n",
       "1  False  False  False   False\n",
       "2  False  False  False   False\n",
       "3  False   True  False   False\n",
       "4  False  False   True   False\n",
       "5  False  False  False    True"
      ]
     },
     "metadata": {},
     "output_type": "display_data"
    }
   ],
   "source": [
    "# null 값 유무 확인 isna _ null -> True\n"
   ]
  },
  {
   "cell_type": "code",
   "execution_count": null,
   "metadata": {},
   "outputs": [
    {
     "data": {
      "text/html": [
       "<div>\n",
       "<style scoped>\n",
       "    .dataframe tbody tr th:only-of-type {\n",
       "        vertical-align: middle;\n",
       "    }\n",
       "\n",
       "    .dataframe tbody tr th {\n",
       "        vertical-align: top;\n",
       "    }\n",
       "\n",
       "    .dataframe thead th {\n",
       "        text-align: right;\n",
       "    }\n",
       "</style>\n",
       "<table border=\"1\" class=\"dataframe\">\n",
       "  <thead>\n",
       "    <tr style=\"text-align: right;\">\n",
       "      <th></th>\n",
       "      <th>name</th>\n",
       "      <th>team</th>\n",
       "      <th>age</th>\n",
       "      <th>weight</th>\n",
       "    </tr>\n",
       "  </thead>\n",
       "  <tbody>\n",
       "    <tr>\n",
       "      <th>0</th>\n",
       "      <td>True</td>\n",
       "      <td>True</td>\n",
       "      <td>True</td>\n",
       "      <td>True</td>\n",
       "    </tr>\n",
       "    <tr>\n",
       "      <th>1</th>\n",
       "      <td>True</td>\n",
       "      <td>True</td>\n",
       "      <td>True</td>\n",
       "      <td>True</td>\n",
       "    </tr>\n",
       "    <tr>\n",
       "      <th>2</th>\n",
       "      <td>True</td>\n",
       "      <td>True</td>\n",
       "      <td>True</td>\n",
       "      <td>True</td>\n",
       "    </tr>\n",
       "    <tr>\n",
       "      <th>3</th>\n",
       "      <td>True</td>\n",
       "      <td>False</td>\n",
       "      <td>True</td>\n",
       "      <td>True</td>\n",
       "    </tr>\n",
       "    <tr>\n",
       "      <th>4</th>\n",
       "      <td>True</td>\n",
       "      <td>True</td>\n",
       "      <td>False</td>\n",
       "      <td>True</td>\n",
       "    </tr>\n",
       "    <tr>\n",
       "      <th>5</th>\n",
       "      <td>True</td>\n",
       "      <td>True</td>\n",
       "      <td>True</td>\n",
       "      <td>False</td>\n",
       "    </tr>\n",
       "  </tbody>\n",
       "</table>\n",
       "</div>"
      ],
      "text/plain": [
       "   name   team    age  weight\n",
       "0  True   True   True    True\n",
       "1  True   True   True    True\n",
       "2  True   True   True    True\n",
       "3  True  False   True    True\n",
       "4  True   True  False    True\n",
       "5  True   True   True   False"
      ]
     },
     "metadata": {},
     "output_type": "display_data"
    }
   ],
   "source": [
    "# isna와 반대로 출력하여 확인 notna _ null -> False\n"
   ]
  },
  {
   "cell_type": "code",
   "execution_count": null,
   "metadata": {},
   "outputs": [
    {
     "data": {
      "text/html": [
       "<div>\n",
       "<style scoped>\n",
       "    .dataframe tbody tr th:only-of-type {\n",
       "        vertical-align: middle;\n",
       "    }\n",
       "\n",
       "    .dataframe tbody tr th {\n",
       "        vertical-align: top;\n",
       "    }\n",
       "\n",
       "    .dataframe thead th {\n",
       "        text-align: right;\n",
       "    }\n",
       "</style>\n",
       "<table border=\"1\" class=\"dataframe\">\n",
       "  <thead>\n",
       "    <tr style=\"text-align: right;\">\n",
       "      <th></th>\n",
       "      <th>name</th>\n",
       "      <th>team</th>\n",
       "      <th>age</th>\n",
       "      <th>weight</th>\n",
       "    </tr>\n",
       "  </thead>\n",
       "  <tbody>\n",
       "    <tr>\n",
       "      <th>0</th>\n",
       "      <td>sonny</td>\n",
       "      <td>tot</td>\n",
       "      <td>32.0</td>\n",
       "      <td>75.0</td>\n",
       "    </tr>\n",
       "    <tr>\n",
       "      <th>1</th>\n",
       "      <td>channy</td>\n",
       "      <td>wol</td>\n",
       "      <td>28.0</td>\n",
       "      <td>80.0</td>\n",
       "    </tr>\n",
       "    <tr>\n",
       "      <th>2</th>\n",
       "      <td>lee</td>\n",
       "      <td>psg</td>\n",
       "      <td>23.0</td>\n",
       "      <td>60.0</td>\n",
       "    </tr>\n",
       "    <tr>\n",
       "      <th>3</th>\n",
       "      <td>kim</td>\n",
       "      <td>NaN</td>\n",
       "      <td>28.0</td>\n",
       "      <td>90.0</td>\n",
       "    </tr>\n",
       "    <tr>\n",
       "      <th>5</th>\n",
       "      <td>hwang</td>\n",
       "      <td>jm</td>\n",
       "      <td>28.0</td>\n",
       "      <td>NaN</td>\n",
       "    </tr>\n",
       "  </tbody>\n",
       "</table>\n",
       "</div>"
      ],
      "text/plain": [
       "     name team   age  weight\n",
       "0   sonny  tot  32.0    75.0\n",
       "1  channy  wol  28.0    80.0\n",
       "2     lee  psg  23.0    60.0\n",
       "3     kim  NaN  28.0    90.0\n",
       "5   hwang   jm  28.0     NaN"
      ]
     },
     "metadata": {},
     "output_type": "display_data"
    }
   ],
   "source": [
    "# age 컬럼의 값이 nan인 포함된 행만 삭제 - dropna\n"
   ]
  },
  {
   "cell_type": "code",
   "execution_count": null,
   "metadata": {},
   "outputs": [
    {
     "data": {
      "text/html": [
       "<div>\n",
       "<style scoped>\n",
       "    .dataframe tbody tr th:only-of-type {\n",
       "        vertical-align: middle;\n",
       "    }\n",
       "\n",
       "    .dataframe tbody tr th {\n",
       "        vertical-align: top;\n",
       "    }\n",
       "\n",
       "    .dataframe thead th {\n",
       "        text-align: right;\n",
       "    }\n",
       "</style>\n",
       "<table border=\"1\" class=\"dataframe\">\n",
       "  <thead>\n",
       "    <tr style=\"text-align: right;\">\n",
       "      <th></th>\n",
       "      <th>name</th>\n",
       "      <th>team</th>\n",
       "      <th>age</th>\n",
       "      <th>weight</th>\n",
       "    </tr>\n",
       "  </thead>\n",
       "  <tbody>\n",
       "    <tr>\n",
       "      <th>0</th>\n",
       "      <td>sonny</td>\n",
       "      <td>tot</td>\n",
       "      <td>32.0</td>\n",
       "      <td>75.0</td>\n",
       "    </tr>\n",
       "    <tr>\n",
       "      <th>1</th>\n",
       "      <td>channy</td>\n",
       "      <td>wol</td>\n",
       "      <td>28.0</td>\n",
       "      <td>80.0</td>\n",
       "    </tr>\n",
       "    <tr>\n",
       "      <th>2</th>\n",
       "      <td>lee</td>\n",
       "      <td>psg</td>\n",
       "      <td>23.0</td>\n",
       "      <td>60.0</td>\n",
       "    </tr>\n",
       "    <tr>\n",
       "      <th>3</th>\n",
       "      <td>kim</td>\n",
       "      <td>0</td>\n",
       "      <td>28.0</td>\n",
       "      <td>90.0</td>\n",
       "    </tr>\n",
       "    <tr>\n",
       "      <th>4</th>\n",
       "      <td>park</td>\n",
       "      <td>bm</td>\n",
       "      <td>0.0</td>\n",
       "      <td>90.0</td>\n",
       "    </tr>\n",
       "    <tr>\n",
       "      <th>5</th>\n",
       "      <td>hwang</td>\n",
       "      <td>jm</td>\n",
       "      <td>28.0</td>\n",
       "      <td>0.0</td>\n",
       "    </tr>\n",
       "  </tbody>\n",
       "</table>\n",
       "</div>"
      ],
      "text/plain": [
       "     name team   age  weight\n",
       "0   sonny  tot  32.0    75.0\n",
       "1  channy  wol  28.0    80.0\n",
       "2     lee  psg  23.0    60.0\n",
       "3     kim    0  28.0    90.0\n",
       "4    park   bm   0.0    90.0\n",
       "5   hwang   jm  28.0     0.0"
      ]
     },
     "metadata": {},
     "output_type": "display_data"
    }
   ],
   "source": [
    "# null값에 특정 문자 채워주고 싶다. -> fillna\n"
   ]
  },
  {
   "cell_type": "code",
   "execution_count": null,
   "metadata": {},
   "outputs": [
    {
     "data": {
      "text/plain": [
       "[2, 4, 6, 8, 10, 12, 14, 16, 18, 20, 22, 24, 26, 28, 30]"
      ]
     },
     "metadata": {},
     "output_type": "display_data"
    }
   ],
   "source": [
    "# 리스트 컴프리헨션\n",
    "# var = [2,4,6,8,10,12,14,16,18,20,22,24,26,28,30]\n"
   ]
  },
  {
   "cell_type": "code",
   "execution_count": null,
   "metadata": {},
   "outputs": [
    {
     "data": {
      "text/plain": [
       "name      0\n",
       "team      1\n",
       "age       1\n",
       "weight    1\n",
       "dtype: int64"
      ]
     },
     "metadata": {},
     "output_type": "display_data"
    }
   ],
   "source": [
    "# null 값 있는 열들 갯수 출력 sum()\n"
   ]
  },
  {
   "cell_type": "code",
   "execution_count": null,
   "metadata": {},
   "outputs": [],
   "source": []
  }
 ],
 "metadata": {
  "kernelspec": {
   "display_name": "base",
   "language": "python",
   "name": "python3"
  },
  "language_info": {
   "codemirror_mode": {
    "name": "ipython",
    "version": 3
   },
   "file_extension": ".py",
   "mimetype": "text/x-python",
   "name": "python",
   "nbconvert_exporter": "python",
   "pygments_lexer": "ipython3",
   "version": "3.12.4"
  }
 },
 "nbformat": 4,
 "nbformat_minor": 2
}
