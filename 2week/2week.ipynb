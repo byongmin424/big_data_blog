{
 "cells": [
  {
   "cell_type": "markdown",
   "metadata": {},
   "source": [
    "# 파이썬 기본 사용방법"
   ]
  },
  {
   "cell_type": "code",
   "execution_count": 1,
   "metadata": {},
   "outputs": [
    {
     "name": "stdout",
     "output_type": "stream",
     "text": [
      "Hello World!!!\n"
     ]
    }
   ],
   "source": [
    "# 그래 파이썬 짱이다.\n",
    "print(\"Hello World!!!\")"
   ]
  },
  {
   "cell_type": "code",
   "execution_count": 2,
   "metadata": {},
   "outputs": [],
   "source": [
    "abc = 100"
   ]
  },
  {
   "cell_type": "code",
   "execution_count": 3,
   "metadata": {},
   "outputs": [
    {
     "data": {
      "text/plain": [
       "'100'"
      ]
     },
     "execution_count": 3,
     "metadata": {},
     "output_type": "execute_result"
    }
   ],
   "source": [
    "input() # 문자열로 뿌려준다!"
   ]
  },
  {
   "cell_type": "code",
   "execution_count": 4,
   "metadata": {},
   "outputs": [],
   "source": [
    "num1 = input()"
   ]
  },
  {
   "cell_type": "code",
   "execution_count": 5,
   "metadata": {},
   "outputs": [
    {
     "name": "stdout",
     "output_type": "stream",
     "text": [
      "100\n"
     ]
    }
   ],
   "source": [
    "print(num1)"
   ]
  },
  {
   "cell_type": "code",
   "execution_count": 6,
   "metadata": {},
   "outputs": [
    {
     "name": "stdout",
     "output_type": "stream",
     "text": [
      "100\n",
      "200\n"
     ]
    }
   ],
   "source": [
    "num1 = input()\n",
    "num2 = input()\n",
    "\n",
    "print(num1)\n",
    "print(num2)"
   ]
  },
  {
   "cell_type": "code",
   "execution_count": 7,
   "metadata": {},
   "outputs": [
    {
     "name": "stdout",
     "output_type": "stream",
     "text": [
      "100200\n"
     ]
    }
   ],
   "source": [
    "result = num1 + num2\n",
    "print(result)\n",
    "\n",
    "# 이렇게 문자열로 받기때문에 예상한 값이 안나온다."
   ]
  },
  {
   "cell_type": "code",
   "execution_count": 8,
   "metadata": {},
   "outputs": [
    {
     "name": "stdout",
     "output_type": "stream",
     "text": [
      "300\n"
     ]
    }
   ],
   "source": [
    "# 따라서 이렇게 변수형을 변경해줘야 예상한대로 산수가 된다.\n",
    "\n",
    "num1 = int(input()) # 100\n",
    "num2 = int(input()) # 200\n",
    "\n",
    "result = num1 + num2\n",
    "\n",
    "print(result)"
   ]
  },
  {
   "cell_type": "code",
   "execution_count": 10,
   "metadata": {},
   "outputs": [
    {
     "name": "stdout",
     "output_type": "stream",
     "text": [
      "제 이름은 최병민이고, 연락처는 010-5491-5526입니다.\n"
     ]
    }
   ],
   "source": [
    "name = input(\"name => \")\n",
    "number = input(\"number => \")\n",
    "\n",
    "print(f'제 이름은 {name}이고, 연락처는 {number}입니다.')"
   ]
  },
  {
   "cell_type": "code",
   "execution_count": 11,
   "metadata": {},
   "outputs": [
    {
     "name": "stdout",
     "output_type": "stream",
     "text": [
      "nice\n",
      "sonny\n"
     ]
    }
   ],
   "source": [
    "text = \"nice one sonny\"\n",
    "print(text[:4])\n",
    "print(text[9:]) # 헷갈리지않게 잘 세어보자"
   ]
  },
  {
   "cell_type": "code",
   "execution_count": 12,
   "metadata": {},
   "outputs": [
    {
     "name": "stdout",
     "output_type": "stream",
     "text": [
      "['aplle', ' banana', ' orange']\n"
     ]
    }
   ],
   "source": [
    "text = \"aplle, banana, orange\"\n",
    "result = text.split(\",\") # 어떤 문자열을 기준으로 나눌지?\n",
    "\n",
    "print(result)"
   ]
  },
  {
   "cell_type": "markdown",
   "metadata": {},
   "source": [
    "2주차 기억할 내용\n",
    "\n",
    "ㅁ int 함수\n",
    "\n",
    "ㅁ 변수명 규칙\n",
    "- 숫자와 영문자 사용 가능, 영문은 대소문자 구분\n",
    "- 언더바(_) 사용 가능\n",
    "- 공백은 사용 불가능\n",
    "- 숫자로 시작하는 이름은 사용 불가능\n",
    "- 특수문자(+,-,*,/,$)는 사용 불가능\n",
    "- 파이썬 예약어는 사용 불가능\n",
    "\n",
    "ㅁ 데이터 슬라이싱 // [] , split"
   ]
  }
 ],
 "metadata": {
  "kernelspec": {
   "display_name": "base",
   "language": "python",
   "name": "python3"
  },
  "language_info": {
   "codemirror_mode": {
    "name": "ipython",
    "version": 3
   },
   "file_extension": ".py",
   "mimetype": "text/x-python",
   "name": "python",
   "nbconvert_exporter": "python",
   "pygments_lexer": "ipython3",
   "version": "3.12.4"
  }
 },
 "nbformat": 4,
 "nbformat_minor": 2
}
