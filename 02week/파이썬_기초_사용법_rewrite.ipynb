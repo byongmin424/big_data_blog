{
 "cells": [
  {
   "cell_type": "markdown",
   "metadata": {},
   "source": [
    "### 변수이름 설정을 잘못하면 오류난다."
   ]
  },
  {
   "cell_type": "code",
   "execution_count": 1,
   "metadata": {},
   "outputs": [
    {
     "ename": "SyntaxError",
     "evalue": "invalid syntax (556240040.py, line 3)",
     "output_type": "error",
     "traceback": [
      "\u001b[1;36m  Cell \u001b[1;32mIn[1], line 3\u001b[1;36m\u001b[0m\n\u001b[1;33m    def = 5\u001b[0m\n\u001b[1;37m        ^\u001b[0m\n\u001b[1;31mSyntaxError\u001b[0m\u001b[1;31m:\u001b[0m invalid syntax\n"
     ]
    }
   ],
   "source": [
    "def = 5\n",
    "print(def)"
   ]
  },
  {
   "cell_type": "markdown",
   "metadata": {},
   "source": [
    "### 하나의 변수에 값 할당"
   ]
  },
  {
   "cell_type": "code",
   "execution_count": 3,
   "metadata": {},
   "outputs": [
    {
     "data": {
      "text/plain": [
       "85000"
      ]
     },
     "execution_count": 3,
     "metadata": {},
     "output_type": "execute_result"
    }
   ],
   "source": [
    "stock_price=85000\n",
    "stock_price"
   ]
  },
  {
   "cell_type": "markdown",
   "metadata": {},
   "source": [
    "### 동시에 여러 변수에 값 할당"
   ]
  },
  {
   "cell_type": "code",
   "execution_count": 7,
   "metadata": {},
   "outputs": [
    {
     "name": "stdout",
     "output_type": "stream",
     "text": [
      "ss: 80000\n"
     ]
    }
   ],
   "source": [
    "ss, lg, sk = 80000, 140000, 200000\n",
    "print(\"ss: %d\" %ss)"
   ]
  },
  {
   "cell_type": "markdown",
   "metadata": {},
   "source": [
    "### 숫자형과 문자형의 기본사용"
   ]
  },
  {
   "cell_type": "code",
   "execution_count": 9,
   "metadata": {},
   "outputs": [
    {
     "data": {
      "text/plain": [
       "100000"
      ]
     },
     "execution_count": 9,
     "metadata": {},
     "output_type": "execute_result"
    }
   ],
   "source": [
    "# 숫자형과 문자형의 기본 사용\n",
    "\n",
    "amount = 100000\n",
    "amount"
   ]
  },
  {
   "cell_type": "code",
   "execution_count": 10,
   "metadata": {},
   "outputs": [
    {
     "data": {
      "text/plain": [
       "6666.666666666667"
      ]
     },
     "execution_count": 10,
     "metadata": {},
     "output_type": "execute_result"
    }
   ],
   "source": [
    "quantity = 15\n",
    "price = amount/quantity\n",
    "price"
   ]
  },
  {
   "cell_type": "code",
   "execution_count": 13,
   "metadata": {},
   "outputs": [
    {
     "name": "stdout",
     "output_type": "stream",
     "text": [
      "85000\n"
     ]
    }
   ],
   "source": [
    "stock_price = \"85000\"\n",
    "print(stock_price)"
   ]
  },
  {
   "cell_type": "markdown",
   "metadata": {},
   "source": [
    "### '' 과 \"\" 를 사용하여 여러 줄에 걸친 문자열을 정희할 수 있다."
   ]
  },
  {
   "cell_type": "code",
   "execution_count": 15,
   "metadata": {},
   "outputs": [
    {
     "name": "stdout",
     "output_type": "stream",
     "text": [
      "사느냐, 죽느냐? 그것이 문제로다.\n",
      " 어떤 것이 더 고귀한 것일까?\n",
      " Im honored to be with you today \n",
      "at your commencement \n",
      "from one of the finest universities in the world.\n",
      " I never graduated from college. Today I want to tell you three stories from my life. That's it. No big deal. Just three stories.\n"
     ]
    }
   ],
   "source": [
    "string1 = \"사느냐, 죽느냐? 그것이 문제로다.\\n\"\n",
    "string2 = '어떤 것이 더 고귀한 것일까?\\n'\n",
    "string3 = \"\"\"Im honored to be with you today \n",
    "at your commencement \n",
    "from one of the finest universities in the world.\\n\"\"\"\n",
    "string4 ='''I never graduated from college. Today I want to tell you three stories from my life. That's it. No big deal. Just three stories.'''\n",
    "\n",
    "print(string1, string2, string3, string4)"
   ]
  },
  {
   "cell_type": "markdown",
   "metadata": {},
   "source": [
    "### 데이터형의 확인"
   ]
  },
  {
   "cell_type": "code",
   "execution_count": 16,
   "metadata": {},
   "outputs": [
    {
     "name": "stdout",
     "output_type": "stream",
     "text": [
      "85000 <class 'int'>\n",
      "128.5 <class 'float'>\n"
     ]
    }
   ],
   "source": [
    "stock_price = 85000\n",
    "apple_stock_price = 128.5\n",
    "print(stock_price, type(stock_price))\n",
    "print(apple_stock_price, type(apple_stock_price))"
   ]
  },
  {
   "cell_type": "markdown",
   "metadata": {},
   "source": [
    "## 4. 숫자형 연산"
   ]
  },
  {
   "cell_type": "code",
   "execution_count": 17,
   "metadata": {},
   "outputs": [
    {
     "name": "stdout",
     "output_type": "stream",
     "text": [
      "850000 <class 'int'>\n",
      "8500.0 <class 'float'>\n"
     ]
    }
   ],
   "source": [
    "stock_price = 85000\n",
    "quantity = 10\n",
    "amount = stock_price * quantity\n",
    "fee_rate = 0.01\n",
    "total_fee = amount * fee_rate\n",
    "print(amount, type(amount))\n",
    "print(total_fee, type(total_fee))"
   ]
  },
  {
   "cell_type": "code",
   "execution_count": 18,
   "metadata": {},
   "outputs": [
    {
     "name": "stdout",
     "output_type": "stream",
     "text": [
      "3 -1 0 0.5\n",
      "9 1.4142135623730951\n",
      "2.5 2 1\n"
     ]
    }
   ],
   "source": [
    "a = 1\n",
    "b = 2\n",
    "c, d ,e = 3, 4, 5\n",
    "print(a+b, a-b, a&b, a/b)\n",
    "print(c**b, b**0.5)\n",
    "print(e/b, e//b, e%b)"
   ]
  },
  {
   "cell_type": "markdown",
   "metadata": {},
   "source": [
    "## 5. 숫자형 포매팅"
   ]
  },
  {
   "cell_type": "code",
   "execution_count": 19,
   "metadata": {},
   "outputs": [
    {
     "name": "stdout",
     "output_type": "stream",
     "text": [
      "c+d의 값은 : e=c+d=7\n"
     ]
    }
   ],
   "source": [
    "c, d = 3, 4\n",
    "e = c + d\n",
    "# {0:d}는 문자열 포맷 코드입니다. 여기서 0은 인덱스를 나타내며, d는 정수 형식으로 출력하라는 의미입니다. 즉, 이 부분은 첫 번째 인자를 정수로 출력하라는 의미입니다.\n",
    "print(\"c+d의 값은 : e=c+d={0:d}\".format(e))"
   ]
  },
  {
   "cell_type": "code",
   "execution_count": 20,
   "metadata": {},
   "outputs": [
    {
     "name": "stdout",
     "output_type": "stream",
     "text": [
      "사칙연산 결과는 : 3, -1, 2, 0.5\n",
      "c의 e 제곱과 b의 제곱근 결과는 : 243, 1.41\n"
     ]
    }
   ],
   "source": [
    "a = 1\n",
    "b = 2\n",
    "c, d, e = 3, 4, 5\n",
    "# {0}, {1}, {2}, {3}\" 부분은 출력할 문자열을 정의\n",
    "print(\"사칙연산 결과는 : {0}, {1}, {2}, {3}\".format(a+b, a-b, a*b, a/b))\n",
    "# {0:d}는 정수 형식으로 출력하라는 의미이고, {1:.2f}는 소수점 아래 둘째자리까지 표시\n",
    "print(\"c의 e 제곱과 b의 제곱근 결과는 : {0:d}, {1:.2f}\".format(c**e, b**0.5))"
   ]
  },
  {
   "cell_type": "markdown",
   "metadata": {},
   "source": [
    "## 6. 문자열 연산"
   ]
  },
  {
   "cell_type": "markdown",
   "metadata": {},
   "source": [
    "### 문자열 연결"
   ]
  },
  {
   "cell_type": "code",
   "execution_count": 21,
   "metadata": {},
   "outputs": [
    {
     "name": "stdout",
     "output_type": "stream",
     "text": [
      "**************************************************\n",
      "Samsung 85,000 Samsung 85,000 Samsung 85,000 \n"
     ]
    }
   ],
   "source": [
    "company_name = \"Samsung\"\n",
    "price = \"85,000\"\n",
    "stock_price = company_name + \" \" + price + \" \" ## 문자열 연결하기\n",
    "print(\"*\"*50) # * 문자를 50번 출력하기\n",
    "print(stock_price * 3) # stock_price 문자열을 3번 출력하기"
   ]
  },
  {
   "cell_type": "markdown",
   "metadata": {},
   "source": [
    "### 문자열 인덱싱"
   ]
  },
  {
   "cell_type": "code",
   "execution_count": 22,
   "metadata": {},
   "outputs": [
    {
     "name": "stdout",
     "output_type": "stream",
     "text": [
      "Hello Python\n",
      "H n e\n"
     ]
    }
   ],
   "source": [
    "variable = 'Hello Python'\n",
    "print(variable)\n",
    "print(variable[0], variable[-1], variable[1])"
   ]
  },
  {
   "cell_type": "markdown",
   "metadata": {},
   "source": [
    "### 문자열 슬라이싱"
   ]
  },
  {
   "cell_type": "code",
   "execution_count": 25,
   "metadata": {},
   "outputs": [
    {
     "name": "stdout",
     "output_type": "stream",
     "text": [
      "41 T To  estio\n"
     ]
    }
   ],
   "source": [
    "single_string = 'To be, or not to be, that is the question'\n",
    "print(len(single_string), single_string[0], single_string[:3], single_string[35:-1])"
   ]
  },
  {
   "cell_type": "markdown",
   "metadata": {},
   "source": [
    "## 7. 문자열 포매팅\n",
    "\n",
    "### 서식 문자를 이용한 포매팅"
   ]
  },
  {
   "cell_type": "code",
   "execution_count": 26,
   "metadata": {},
   "outputs": [
    {
     "data": {
      "text/plain": [
       "'I have 10 stocks.'"
      ]
     },
     "execution_count": 26,
     "metadata": {},
     "output_type": "execute_result"
    }
   ],
   "source": [
    "qunatity = 5\n",
    "\"I have %d stocks.\" % quantity"
   ]
  },
  {
   "cell_type": "code",
   "execution_count": 28,
   "metadata": {},
   "outputs": [
    {
     "data": {
      "text/plain": [
       "'I have Samsung stocks.'"
      ]
     },
     "execution_count": 28,
     "metadata": {},
     "output_type": "execute_result"
    }
   ],
   "source": [
    "company_name = \"Samsung\"\n",
    "\"I have %s stocks.\" %company_name"
   ]
  },
  {
   "cell_type": "code",
   "execution_count": 29,
   "metadata": {},
   "outputs": [
    {
     "data": {
      "text/plain": [
       "'I have 10 Samsung stocks.'"
      ]
     },
     "execution_count": 29,
     "metadata": {},
     "output_type": "execute_result"
    }
   ],
   "source": [
    "company_name = \"Samsung\"\n",
    "qunatity = 5\n",
    "\"I have %d %s stocks.\" %(quantity, company_name)"
   ]
  },
  {
   "cell_type": "markdown",
   "metadata": {},
   "source": [
    "### format 함수를 이용한 포매팅"
   ]
  },
  {
   "cell_type": "code",
   "execution_count": 30,
   "metadata": {},
   "outputs": [
    {
     "data": {
      "text/plain": [
       "'Samsung 85,000'"
      ]
     },
     "execution_count": 30,
     "metadata": {},
     "output_type": "execute_result"
    }
   ],
   "source": [
    "company_name = \"Samsung\"\n",
    "price = \"85,000\"\n",
    "stock_price = \"{0} {1}\".format(company_name, price)\n",
    "stock_price"
   ]
  },
  {
   "cell_type": "code",
   "execution_count": 31,
   "metadata": {},
   "outputs": [
    {
     "data": {
      "text/plain": [
       "'Samsung 50000'"
      ]
     },
     "execution_count": 31,
     "metadata": {},
     "output_type": "execute_result"
    }
   ],
   "source": [
    "company_name = \"Samsung\"\n",
    "price = \"85,000\"\n",
    "stock_price = \"{0} {price}\".format(company_name, price = 50000)\n",
    "stock_price"
   ]
  },
  {
   "cell_type": "markdown",
   "metadata": {},
   "source": [
    "### f 문자열 포매팅"
   ]
  },
  {
   "cell_type": "code",
   "execution_count": 32,
   "metadata": {},
   "outputs": [
    {
     "data": {
      "text/plain": [
       "'Samsung 85,000'"
      ]
     },
     "execution_count": 32,
     "metadata": {},
     "output_type": "execute_result"
    }
   ],
   "source": [
    "company_name = \"Samsung\"\n",
    "price = \"85,000\"\n",
    "stock_price = f\"{company_name} {price}\"\n",
    "stock_price"
   ]
  },
  {
   "cell_type": "code",
   "execution_count": 35,
   "metadata": {},
   "outputs": [
    {
     "name": "stdout",
     "output_type": "stream",
     "text": [
      "Samsung\n",
      "85,000\n",
      "100,000\n"
     ]
    },
    {
     "data": {
      "text/plain": [
       "'Samsung\\n85,000\\n100,000'"
      ]
     },
     "execution_count": 35,
     "metadata": {},
     "output_type": "execute_result"
    }
   ],
   "source": [
    "company_name = \"Samsung\"\n",
    "price = \"85,000\"\n",
    "new_price = \"100,000\"\n",
    "stock_price = f\"\"\"{company_name}\n",
    "{price}\n",
    "{new_price}\"\"\"\n",
    "print(stock_price)\n",
    "\n",
    "stock_price"
   ]
  },
  {
   "cell_type": "markdown",
   "metadata": {},
   "source": [
    "## 8. 문자열 내장 함수\n",
    "\n",
    "### 문자 개수 세기: count 함수"
   ]
  },
  {
   "cell_type": "code",
   "execution_count": 40,
   "metadata": {},
   "outputs": [
    {
     "data": {
      "text/plain": [
       "6"
      ]
     },
     "execution_count": 40,
     "metadata": {},
     "output_type": "execute_result"
    }
   ],
   "source": [
    "single_string = \"To be, or not to be, that is the question\"\n",
    "single_string.count(\"t\")"
   ]
  },
  {
   "cell_type": "markdown",
   "metadata": {},
   "source": [
    "### 문자 위치 찾기: find 함수"
   ]
  },
  {
   "cell_type": "code",
   "execution_count": 37,
   "metadata": {},
   "outputs": [
    {
     "data": {
      "text/plain": [
       "12"
      ]
     },
     "execution_count": 37,
     "metadata": {},
     "output_type": "execute_result"
    }
   ],
   "source": [
    "single_string = \"To be, or not to be, that is the question\"\n",
    "single_string.find('t')"
   ]
  },
  {
   "cell_type": "markdown",
   "metadata": {},
   "source": [
    "### 첫 글자만 대문자로 바꾸기: capitalize 함수"
   ]
  },
  {
   "cell_type": "code",
   "execution_count": 43,
   "metadata": {},
   "outputs": [
    {
     "data": {
      "text/plain": [
       "'To be, or not to be, that is the question'"
      ]
     },
     "execution_count": 43,
     "metadata": {},
     "output_type": "execute_result"
    }
   ],
   "source": [
    "single_string = \"to be, or not to be, that is the question\"\n",
    "text = single_string\n",
    "text.capitalize()"
   ]
  },
  {
   "cell_type": "markdown",
   "metadata": {},
   "source": [
    "### 모든 문자를 대문자/소문자로 바꾸기: upper 함수, lower 함수"
   ]
  },
  {
   "cell_type": "code",
   "execution_count": 44,
   "metadata": {},
   "outputs": [
    {
     "data": {
      "text/plain": [
       "'TO BE, OR NOT TO BE, THAT IS THE OQUESTION'"
      ]
     },
     "execution_count": 44,
     "metadata": {},
     "output_type": "execute_result"
    }
   ],
   "source": [
    "single_string = \"To be, or not to be, that is the oquestion\"\n",
    "text = single_string\n",
    "text.upper() # text 변수값을 대문자로 출력한다."
   ]
  },
  {
   "cell_type": "markdown",
   "metadata": {},
   "source": [
    "### 특정 문자 바꾸기: replace 함수"
   ]
  },
  {
   "cell_type": "code",
   "execution_count": 45,
   "metadata": {},
   "outputs": [
    {
     "data": {
      "text/plain": [
       "'Te be, or not to be, that is the QUESTION'"
      ]
     },
     "execution_count": 45,
     "metadata": {},
     "output_type": "execute_result"
    }
   ],
   "source": [
    "single_string = \"Te be, or not to be, that is the question\"\n",
    "text = single_string\n",
    "text.replace(\"question\", \"QUESTION\")"
   ]
  },
  {
   "cell_type": "markdown",
   "metadata": {},
   "source": [
    "### 단어 단위로 쪼개기: split 함수"
   ]
  },
  {
   "cell_type": "code",
   "execution_count": 46,
   "metadata": {},
   "outputs": [
    {
     "data": {
      "text/plain": [
       "['To', 'be,', 'or', 'not', 'to', 'be,', 'that', 'is', 'the', 'question']"
      ]
     },
     "execution_count": 46,
     "metadata": {},
     "output_type": "execute_result"
    }
   ],
   "source": [
    "single_string = \"To be, or not to be, that is the question\"\n",
    "text = single_string\n",
    "text.split()"
   ]
  },
  {
   "cell_type": "markdown",
   "metadata": {},
   "source": [
    "### 문자열의 시작과 끝에서 주어진 문자 삭제하기: strip 함수"
   ]
  },
  {
   "cell_type": "code",
   "execution_count": 47,
   "metadata": {},
   "outputs": [
    {
     "data": {
      "text/plain": [
       "'www.Python.org'"
      ]
     },
     "execution_count": 47,
     "metadata": {},
     "output_type": "execute_result"
    }
   ],
   "source": [
    "'http://www.Python.org'.strip('http://')"
   ]
  },
  {
   "cell_type": "code",
   "execution_count": 58,
   "metadata": {},
   "outputs": [
    {
     "data": {
      "text/plain": [
       "'Welcom to Hanbit.co.kr'"
      ]
     },
     "execution_count": 58,
     "metadata": {},
     "output_type": "execute_result"
    }
   ],
   "source": [
    "' Welcom to Hanbit.co.kr'.strip()"
   ]
  },
  {
   "cell_type": "markdown",
   "metadata": {},
   "source": [
    "## 연습문제"
   ]
  },
  {
   "cell_type": "code",
   "execution_count": 59,
   "metadata": {},
   "outputs": [
    {
     "name": "stdout",
     "output_type": "stream",
     "text": [
      "H n e\n"
     ]
    }
   ],
   "source": [
    "varibale = 'Hello Python'\n",
    "print(variable[0], variable[-1], variable[1])"
   ]
  },
  {
   "cell_type": "code",
   "execution_count": 60,
   "metadata": {},
   "outputs": [
    {
     "data": {
      "text/plain": [
       "'I have Samsung stocks.'"
      ]
     },
     "execution_count": 60,
     "metadata": {},
     "output_type": "execute_result"
    }
   ],
   "source": [
    "company_name = \"Samsung\"\n",
    "\"I have %s stocks.\" %company_name"
   ]
  },
  {
   "cell_type": "code",
   "execution_count": 61,
   "metadata": {},
   "outputs": [
    {
     "data": {
      "text/plain": [
       "'To be, or not to be, that is the QUESTION'"
      ]
     },
     "execution_count": 61,
     "metadata": {},
     "output_type": "execute_result"
    }
   ],
   "source": [
    "single_string = \"To be, or not to be, that is the question\"\n",
    "text = single_string\n",
    "text.replace(\"question\", \"QUESTION\")"
   ]
  }
 ],
 "metadata": {
  "kernelspec": {
   "display_name": "base",
   "language": "python",
   "name": "python3"
  },
  "language_info": {
   "codemirror_mode": {
    "name": "ipython",
    "version": 3
   },
   "file_extension": ".py",
   "mimetype": "text/x-python",
   "name": "python",
   "nbconvert_exporter": "python",
   "pygments_lexer": "ipython3",
   "version": "3.12.4"
  }
 },
 "nbformat": 4,
 "nbformat_minor": 2
}
