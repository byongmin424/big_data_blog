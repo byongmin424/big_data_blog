{
 "cells": [
  {
   "cell_type": "markdown",
   "metadata": {},
   "source": [
    "# 11장 가설 검정\n",
    "\n",
    "## 가설 검정\n",
    "표본 통계량을 이용하여 모집단에 대한 가설의 진위를 가리는 통계분석 방법.\n",
    "- 가설 -> 모집단의 특성에 대한 주장\n",
    "    - 연구가설(대립가설) : \n",
    "        - 연구자가 검정하고자 하는 가설로서 기존에 인정되고 있는 귀무가설의 논리적 대안임\n",
    "        - 도전자\n",
    "    - 귀무가설 : \n",
    "        - 기존에 인정되어 온 내용으로 연구자가 반박하고자 하는 대상이 되는 사실을 말함\n",
    "        - 일반적으로 연구가설의 여집합이나 !!!등식(=)!!으로 표현됨\n",
    "            - 귀무가설은 '='로만 해라 무조건. 여집합은 너무 많고 이꼴 하나만 비교했을때 아니면 아닌거니까\n",
    "        - 챔피언\n",
    "- 검정 -> 표본통계량을 조사해 모집단에 대한 가설의 진위를 가리는 것\n",
    "\n",
    "1. 가설 설정(귀무가설이 맞다고 판단하고 시작해야함.)\n",
    "- H0 : 백종원의 요리실력은 예전과 같다.(실력이 달라지지 않았다)\n",
    "- H1 : 백종원의 요리실력은 예전과 같지않다.(나빠졌다. or 실력이 좋아졌다)\n",
    "2. 검정종류 선택(양측검정? 단측검정?)\n",
    "3. 유의수준 확인(한계오류a)\n",
    "- a(알파) : 유의수준(최소화) _ 보통 0.05(95%)로 설정함\n",
    "- 귀무가설이 맞을 확률 -> p-Value(검정 통계량)를 구해야함\n",
    "    - a < p-value : 기각\n",
    "    - a > p-value : 채택\n",
    "4. 검정통계값(p-Value) 계산\n",
    "5. 판정-임계치 설정(귀무가설 채택할 것인지 기각할 것인지)\n",
    "\n",
    "\n",
    "![answer1](screen/answer1119_1.jpg)\n",
    "![answer2](screen/answer1119_2.jpg)"
   ]
  },
  {
   "cell_type": "code",
   "execution_count": 2,
   "metadata": {},
   "outputs": [],
   "source": [
    "from scipy.stats import ttest_1samp"
   ]
  },
  {
   "cell_type": "code",
   "execution_count": 3,
   "metadata": {},
   "outputs": [
    {
     "name": "stdout",
     "output_type": "stream",
     "text": [
      "t_val -0.5222329678670935\n",
      "p_val 0.614117254808394\n"
     ]
    }
   ],
   "source": [
    "# 모집단 평균 => 귀무가설\n",
    "pop_kg = 70\n",
    "\n",
    "# 모집단 평균의 변화가 있는지 확인하기 위해 샘플링\n",
    "sam_data = [65,66,67,68,69,70,71,72,73,74]\n",
    "\n",
    "# H0 = 모집단평균 = 70\n",
    "# H1 = 모집단평균 > 70\n",
    "\n",
    "# 단일 모집단 t-검정\n",
    "t_val, p_val = ttest_1samp(sam_data, pop_kg) # t값과 p-value값 도출.\n",
    "\n",
    "# 결과 출력\n",
    "print('t_val', t_val)\n",
    "print('p_val', p_val) # a(alpha)= 0.05를 기본적으로 설정\n",
    "# p-value > a 이므로 귀무가설 기각"
   ]
  },
  {
   "cell_type": "code",
   "execution_count": null,
   "metadata": {},
   "outputs": [],
   "source": []
  }
 ],
 "metadata": {
  "kernelspec": {
   "display_name": "base",
   "language": "python",
   "name": "python3"
  },
  "language_info": {
   "codemirror_mode": {
    "name": "ipython",
    "version": 3
   },
   "file_extension": ".py",
   "mimetype": "text/x-python",
   "name": "python",
   "nbconvert_exporter": "python",
   "pygments_lexer": "ipython3",
   "version": "3.12.4"
  }
 },
 "nbformat": 4,
 "nbformat_minor": 2
}
