{
  "nbformat": 4,
  "nbformat_minor": 0,
  "metadata": {
    "colab": {
      "provenance": []
    },
    "kernelspec": {
      "name": "python3",
      "display_name": "Python 3"
    },
    "language_info": {
      "name": "python"
    }
  },
  "cells": [
    {
      "cell_type": "code",
      "execution_count": 1,
      "metadata": {
        "id": "2TmSgWdMCs30"
      },
      "outputs": [],
      "source": [
        "from scipy.stats import ttest_1samp"
      ]
    },
    {
      "cell_type": "code",
      "source": [
        "# 모집단 평균  => 귀무가설\n",
        "pop_kg = 70\n",
        "\n",
        "#모집단 평균의 변화가 있는지 확인하기 위해 샘플링\n",
        "sam_data = [65,66,67,68,69,70,71,72,73,74 ]\n",
        "\n",
        "# H0 = 모집단평균 = 70\n",
        "# H1 = 모집단평균 > 70\n",
        "\n",
        "#단일 모집단 t-검정\n",
        "\n",
        "t_val, p_val = ttest_1samp( sam_data, pop_kg)\n",
        "\n",
        "#결과 출력\n",
        "print('t_val', t_val )\n",
        "print('p_val', p_val )"
      ],
      "metadata": {
        "colab": {
          "base_uri": "https://localhost:8080/"
        },
        "id": "nUezQgSTDuUx",
        "outputId": "5fa2e31a-dac2-4b63-8cf9-9e760fb40267"
      },
      "execution_count": 2,
      "outputs": [
        {
          "output_type": "stream",
          "name": "stdout",
          "text": [
            "t_val -0.5222329678670935\n",
            "p_val 0.614117254808394\n"
          ]
        }
      ]
    }
  ]
}