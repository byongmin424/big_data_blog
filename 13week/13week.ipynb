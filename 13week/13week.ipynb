{
 "cells": [
  {
   "cell_type": "markdown",
   "metadata": {},
   "source": [
    "![memo1](screen/memo1.jpg)\n",
    "![memo2](screen/memo2.jpg)"
   ]
  },
  {
   "cell_type": "code",
   "execution_count": 1,
   "metadata": {},
   "outputs": [],
   "source": [
    "import numpy as np\n",
    "import pandas as pd\n",
    "from scipy.stats import ttest_1samp"
   ]
  },
  {
   "cell_type": "code",
   "execution_count": null,
   "metadata": {},
   "outputs": [
    {
     "name": "stdout",
     "output_type": "stream",
     "text": [
      "t_value:  3.408365927718147\n",
      "p_value:  0.0019377839311740036\n"
     ]
    }
   ],
   "source": [
    "# H1 : 모집단 평균이 200 이 아니다. -> 양측검정(200보다 크다 또는 작다)\n",
    "# H0 : 모집단 평균이 200 이다.\n",
    "# '귀무가설이 맞다' 라고 가정하고\n",
    "# 표본평균 = 202, 표본 표준편차 = 5, 샘플사이즈 = 30, 유의수준 = 0.05 검정\n",
    "pop_mean = 200\n",
    "sam_mean = 202\n",
    "sam_std = 5\n",
    "sam_size = 30\n",
    "alpha = 0.05\n",
    "\n",
    "np.random.seed(40) # 랜덤 숫자의 시드값 설정\n",
    "# 가상의 데이터 랜덤으로 생성\n",
    "sam_data = np.random.normal(loc=sam_mean, scale=sam_std, size=sam_size)\n",
    "\n",
    "# ttest\n",
    "t_value, p_value = ttest_1samp(sam_data, pop_mean)\n",
    "\n",
    "print(\"t_value: \", t_value)\n",
    "print(\"p_value: \", p_value) # p_value 가 너무 작으면 귀무가설 기각! = 연구가설 채택!"
   ]
  }
 ],
 "metadata": {
  "kernelspec": {
   "display_name": "base",
   "language": "python",
   "name": "python3"
  },
  "language_info": {
   "codemirror_mode": {
    "name": "ipython",
    "version": 3
   },
   "file_extension": ".py",
   "mimetype": "text/x-python",
   "name": "python",
   "nbconvert_exporter": "python",
   "pygments_lexer": "ipython3",
   "version": "3.12.4"
  }
 },
 "nbformat": 4,
 "nbformat_minor": 2
}
